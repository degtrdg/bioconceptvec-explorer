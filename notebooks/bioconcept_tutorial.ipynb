{
 "cells": [
  {
   "attachments": {},
   "cell_type": "markdown",
   "metadata": {},
   "source": [
    "# BioConceptVec Tutorial"
   ]
  },
  {
   "attachments": {},
   "cell_type": "markdown",
   "metadata": {},
   "source": [
    "This tutorial provides a fundemental introduction to our BioConceptVec models. It illustrates (1) how to load the model, (2) how to get concept vectors, and (3) how to search top K similar concepts. [Source](https://github.com/ncbi/BioConceptVec/blob/master/bioconcept_tutorial.ipynb)"
   ]
  },
  {
   "attachments": {},
   "cell_type": "markdown",
   "metadata": {},
   "source": [
    "## 1. Prerequisites"
   ]
  },
  {
   "attachments": {},
   "cell_type": "markdown",
   "metadata": {},
   "source": [
    "Install gensim to load BioConceptVec."
   ]
  },
  {
   "cell_type": "code",
   "execution_count": 2,
   "metadata": {},
   "outputs": [],
   "source": [
    "from gensim.models import KeyedVectors\n",
    "import os, sys, json, numpy as np"
   ]
  },
  {
   "attachments": {},
   "cell_type": "markdown",
   "metadata": {},
   "source": [
    "## 2. Load BioConceptVec"
   ]
  },
  {
   "attachments": {},
   "cell_type": "markdown",
   "metadata": {},
   "source": [
    "Go to data.ipynb to download the data. Then set the path to the data directory."
   ]
  },
  {
   "cell_type": "code",
   "execution_count": 14,
   "metadata": {},
   "outputs": [],
   "source": [
    "YOUR_BIOCONCEPTVEC_PATH = '../embeddings/bioconceptvec_glove.bin'\n",
    "YOUR_JSON_PATH = '../embeddings/concept_glove.json'"
   ]
  },
  {
   "attachments": {},
   "cell_type": "markdown",
   "metadata": {},
   "source": [
    "Let's create a function using gensim to load BioConceptVec."
   ]
  },
  {
   "cell_type": "code",
   "execution_count": 8,
   "metadata": {},
   "outputs": [],
   "source": [
    "def load_embedding(path, binary):\n",
    "    embedding = KeyedVectors.load_word2vec_format(path, binary=binary)\n",
    "    print('embedding loaded from', path)\n",
    "    return embedding"
   ]
  },
  {
   "attachments": {},
   "cell_type": "markdown",
   "metadata": {},
   "source": [
    "Let's load any one version of BioConceptVec. This might take a few minutes to load."
   ]
  },
  {
   "cell_type": "code",
   "execution_count": 9,
   "metadata": {},
   "outputs": [
    {
     "name": "stdout",
     "output_type": "stream",
     "text": [
      "embedding loaded from ../embeddings/bioconceptvec_glove.bin\n"
     ]
    }
   ],
   "source": [
    "model = load_embedding(YOUR_BIOCONCEPTVEC_PATH, binary=True)"
   ]
  },
  {
   "attachments": {},
   "cell_type": "markdown",
   "metadata": {},
   "source": [
    "## 3. Load concept vectors only (an alternative approach)"
   ]
  },
  {
   "attachments": {},
   "cell_type": "markdown",
   "metadata": {},
   "source": [
    "If you only need concept vectors rather than other common word vectors, you could also load the json file that contains concept vectors only."
   ]
  },
  {
   "cell_type": "code",
   "execution_count": 15,
   "metadata": {},
   "outputs": [
    {
     "name": "stdout",
     "output_type": "stream",
     "text": [
      "load 402712 concepts\n"
     ]
    }
   ],
   "source": [
    "with open(YOUR_JSON_PATH) as json_file:  \n",
    "    concept_vectors = json.load(json_file)\n",
    "print('load', len(concept_vectors), 'concepts')"
   ]
  },
  {
   "attachments": {},
   "cell_type": "markdown",
   "metadata": {},
   "source": [
    "## 4. Get concept vectors"
   ]
  },
  {
   "attachments": {},
   "cell_type": "markdown",
   "metadata": {},
   "source": [
    "Now you could specify a concept ID and get the vector."
   ]
  },
  {
   "attachments": {},
   "cell_type": "markdown",
   "metadata": {},
   "source": [
    "For the complete BioConceptVec model, you could use:"
   ]
  },
  {
   "cell_type": "code",
   "execution_count": 16,
   "metadata": {},
   "outputs": [
    {
     "data": {
      "text/plain": [
       "array([-0.205002, -0.858642,  0.293454,  0.420697,  0.819198, -0.014607,\n",
       "        0.648112,  0.375288,  0.402923, -0.486146,  0.061995, -0.597637,\n",
       "       -0.18606 , -0.030133,  0.057708,  0.0928  , -0.231601, -0.102536,\n",
       "        0.113617,  0.096256, -0.716546,  0.129387,  0.097503,  0.516359,\n",
       "        0.150461, -0.128564,  0.617396, -0.70626 , -0.214449, -0.609342,\n",
       "       -0.610461,  0.202288,  0.509137,  0.601489,  0.49775 ,  0.046024,\n",
       "        0.477214,  0.170123,  0.8417  ,  0.35232 ,  0.084167,  0.006656,\n",
       "        0.052083,  0.27484 , -0.222268,  0.738473, -0.021782,  0.917502,\n",
       "        0.208649,  0.21989 , -0.262444,  0.110046,  0.838382,  0.243271,\n",
       "        0.584187, -0.17198 , -0.35021 ,  0.255658,  0.495955, -0.438681,\n",
       "       -0.480301, -0.998345, -0.303257,  0.60441 , -0.235623,  0.19677 ,\n",
       "       -0.311972,  0.406385,  0.067994,  0.487211, -0.016605, -0.42778 ,\n",
       "       -1.023635,  0.342992, -0.103875,  0.076305,  0.890983,  0.101807,\n",
       "       -0.019141, -0.469659, -0.081776, -0.074963, -0.253334,  0.507458,\n",
       "        0.334453, -0.557971,  0.489757,  0.021431,  0.100135,  0.599612,\n",
       "       -0.498088, -0.586614, -0.936706,  0.380076, -0.546713,  0.326188,\n",
       "        0.757888, -0.436839,  0.043881,  0.397573], dtype=float32)"
      ]
     },
     "execution_count": 16,
     "metadata": {},
     "output_type": "execute_result"
    }
   ],
   "source": [
    "concept_vec = model['Gene_2997']\n",
    "concept_vec"
   ]
  },
  {
   "attachments": {},
   "cell_type": "markdown",
   "metadata": {},
   "source": [
    "For the json file, it is a dictionary, so the code is exactly the same:"
   ]
  },
  {
   "cell_type": "code",
   "execution_count": 17,
   "metadata": {},
   "outputs": [
    {
     "data": {
      "text/plain": [
       "array([-0.20500199, -0.85864198,  0.29345399,  0.420697  ,  0.81919801,\n",
       "       -0.014607  ,  0.648112  ,  0.37528801,  0.40292299, -0.486146  ,\n",
       "        0.061995  , -0.597637  , -0.18606   , -0.030133  ,  0.057708  ,\n",
       "        0.0928    , -0.231601  , -0.102536  ,  0.113617  ,  0.096256  ,\n",
       "       -0.716546  ,  0.12938701,  0.097503  ,  0.51635897,  0.150461  ,\n",
       "       -0.128564  ,  0.617396  , -0.70626003, -0.214449  , -0.60934198,\n",
       "       -0.610461  ,  0.202288  ,  0.50913697,  0.60148901,  0.49775001,\n",
       "        0.046024  ,  0.47721401,  0.170123  ,  0.84170002,  0.35231999,\n",
       "        0.084167  ,  0.006656  ,  0.052083  ,  0.27484   , -0.222268  ,\n",
       "        0.738473  , -0.021782  ,  0.91750199,  0.20864899,  0.21989   ,\n",
       "       -0.26244399,  0.110046  ,  0.83838201,  0.24327099,  0.58418697,\n",
       "       -0.17197999, -0.35021001,  0.255658  ,  0.49595499, -0.43868101,\n",
       "       -0.48030099, -0.99834502, -0.30325699,  0.60440999, -0.235623  ,\n",
       "        0.19677   , -0.31197199,  0.406385  ,  0.067994  ,  0.48721099,\n",
       "       -0.016605  , -0.42778   , -1.02363503,  0.34299201, -0.103875  ,\n",
       "        0.076305  ,  0.89098299,  0.101807  , -0.019141  , -0.469659  ,\n",
       "       -0.081776  , -0.074963  , -0.25333399,  0.50745797,  0.33445299,\n",
       "       -0.557971  ,  0.489757  ,  0.021431  ,  0.100135  ,  0.599612  ,\n",
       "       -0.498088  , -0.58661401, -0.93670601,  0.38007599, -0.54671299,\n",
       "        0.326188  ,  0.75788802, -0.43683901,  0.043881  ,  0.39757299])"
      ]
     },
     "execution_count": 17,
     "metadata": {},
     "output_type": "execute_result"
    }
   ],
   "source": [
    "np.array(concept_vectors['Gene_2997'])"
   ]
  },
  {
   "attachments": {},
   "cell_type": "markdown",
   "metadata": {},
   "source": [
    "Similarly, you could use the concept IDs that we provided in the json file to get more concept vectors."
   ]
  },
  {
   "attachments": {},
   "cell_type": "markdown",
   "metadata": {},
   "source": [
    "## 5.Compute the similarity between concepts"
   ]
  },
  {
   "attachments": {},
   "cell_type": "markdown",
   "metadata": {},
   "source": [
    "Now we can use the concept vectors to find similar concepts."
   ]
  },
  {
   "attachments": {},
   "cell_type": "markdown",
   "metadata": {},
   "source": [
    "First let's create a function to calculate the Cosine similarity"
   ]
  },
  {
   "cell_type": "code",
   "execution_count": 18,
   "metadata": {},
   "outputs": [],
   "source": [
    "def cosine(a, b):\n",
    "    norm1 = np.linalg.norm(a)\n",
    "    norm2 = np.linalg.norm(b)\n",
    "    return np.dot(a, b) / (norm1 * norm2)\n",
    "    "
   ]
  },
  {
   "attachments": {},
   "cell_type": "markdown",
   "metadata": {},
   "source": [
    "For example, for the interleukin 10 gene (Gene_3586), let's find out which gene is more similar to it, interleukin 4 gene (Gene_3565) or HUWE1 (Gene_10075)?"
   ]
  },
  {
   "cell_type": "code",
   "execution_count": 19,
   "metadata": {},
   "outputs": [
    {
     "data": {
      "text/plain": [
       "0.88254434"
      ]
     },
     "execution_count": 19,
     "metadata": {},
     "output_type": "execute_result"
    }
   ],
   "source": [
    "cosine(model['Gene_3586'], model['Gene_3565'])"
   ]
  },
  {
   "cell_type": "code",
   "execution_count": 20,
   "metadata": {},
   "outputs": [
    {
     "data": {
      "text/plain": [
       "0.1340888"
      ]
     },
     "execution_count": 20,
     "metadata": {},
     "output_type": "execute_result"
    }
   ],
   "source": [
    "cosine(model['Gene_3586'], model['Gene_10075'])"
   ]
  },
  {
   "attachments": {},
   "cell_type": "markdown",
   "metadata": {},
   "source": [
    "The results show that interleukin 4 gene is more similar to interleukin 10 gene. Indeed, they share GO terms."
   ]
  },
  {
   "attachments": {},
   "cell_type": "markdown",
   "metadata": {},
   "source": [
    "## 6. Find top K similar terms via BioConceptVec"
   ]
  },
  {
   "attachments": {},
   "cell_type": "markdown",
   "metadata": {},
   "source": [
    "You can also use the embedding to find out the top K similar terms:"
   ]
  },
  {
   "cell_type": "code",
   "execution_count": 21,
   "metadata": {},
   "outputs": [
    {
     "data": {
      "text/plain": [
       "[('Gene_3565', 0.8825441002845764),\n",
       " ('Gene_3458', 0.8788322806358337),\n",
       " ('Gene_3569', 0.8675715923309326)]"
      ]
     },
     "execution_count": 21,
     "metadata": {},
     "output_type": "execute_result"
    }
   ],
   "source": [
    "model.most_similar(positive=['Gene_3586'], topn=3)"
   ]
  }
 ],
 "metadata": {
  "kernelspec": {
   "display_name": "Python 3",
   "language": "python",
   "name": "python3"
  },
  "language_info": {
   "codemirror_mode": {
    "name": "ipython",
    "version": 3
   },
   "file_extension": ".py",
   "mimetype": "text/x-python",
   "name": "python",
   "nbconvert_exporter": "python",
   "pygments_lexer": "ipython3",
   "version": "3.9.15"
  }
 },
 "nbformat": 4,
 "nbformat_minor": 2
}
