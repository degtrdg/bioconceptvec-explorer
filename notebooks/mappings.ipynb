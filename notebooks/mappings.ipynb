{
 "cells": [
  {
   "attachments": {},
   "cell_type": "markdown",
   "metadata": {},
   "source": [
    "# Mapping between tokens and human readable"
   ]
  },
  {
   "attachments": {},
   "cell_type": "markdown",
   "metadata": {},
   "source": [
    "## Get concept token"
   ]
  },
  {
   "cell_type": "code",
   "execution_count": 2,
   "metadata": {},
   "outputs": [],
   "source": [
    "from gensim.models import KeyedVectors\n",
    "import os, sys, json, requests, numpy as np"
   ]
  },
  {
   "cell_type": "code",
   "execution_count": 3,
   "metadata": {},
   "outputs": [],
   "source": [
    "YOUR_BIOCONCEPTVEC_PATH = '../embeddings/bioconceptvec_glove.bin'\n",
    "YOUR_JSON_PATH = '../embeddings/concept_glove.json'"
   ]
  },
  {
   "cell_type": "code",
   "execution_count": 4,
   "metadata": {},
   "outputs": [
    {
     "name": "stdout",
     "output_type": "stream",
     "text": [
      "load 402712 concepts\n"
     ]
    }
   ],
   "source": [
    "with open(YOUR_JSON_PATH) as json_file:  \n",
    "    concept_vectors = json.load(json_file)\n",
    "print('load', len(concept_vectors), 'concepts')"
   ]
  },
  {
   "cell_type": "code",
   "execution_count": 5,
   "metadata": {},
   "outputs": [
    {
     "data": {
      "text/plain": [
       "['Disease_MESH_D001845',\n",
       " 'Gene_2799940',\n",
       " 'Gene_3726_54751',\n",
       " 'Disease_MESH_D000652',\n",
       " 'ProteinMutation_p_R450H_RS_189261858',\n",
       " 'ProteinMutation_p_I123V',\n",
       " 'SNP_rs11944405',\n",
       " 'Chemical_MESH_C511970',\n",
       " 'ProteinMutation_p_Q106E',\n",
       " 'Gene_56941_116255']"
      ]
     },
     "execution_count": 5,
     "metadata": {},
     "output_type": "execute_result"
    }
   ],
   "source": [
    "list(concept_vectors.keys())[:10]"
   ]
  },
  {
   "cell_type": "code",
   "execution_count": 8,
   "metadata": {},
   "outputs": [
    {
     "name": "stdout",
     "output_type": "stream",
     "text": [
      "Different prefixes for disease concepts: {'Disease_JAN', 'Disease_aphthovirus', 'Disease_loss', 'Disease_renal', 'Disease_absence', 'Disease_parapsilosis', 'Disease_liver', 'Disease_NKI', 'Disease_hypovirus', 'Disease_Deficiencies', 'Disease_MDM2', 'Disease_decreased', 'Disease_Tile', 'Disease_Methanogenic', 'Disease_arthritidis', 'Disease_dysregulation', 'Disease_involvement', 'Disease_hypomorphic', 'Disease_intravascular', 'Disease_Xenorhabdus', 'Disease_FMDV', 'Disease_ALI', 'Disease_tuberin', 'Disease_invasive', 'Disease_alkaliphilus', 'Disease_nematophilus', 'Disease_glomerulonephritis', 'Disease_turgidiscabies', 'Disease_0Ni0', 'Disease_TAT', 'Disease_IMD', 'Disease_Y3', 'Disease_Tau', 'Disease_Hafnia', 'Disease_Leishmania', 'Disease_Sp1', 'Disease_Tg', 'Disease_baboon', 'Disease_HMS1', 'Disease_M12', 'Disease_Idiomarina', 'Disease_EMD', 'Disease_kidney', 'Disease_Shewanella', 'Disease_TGM', 'Disease_abnormal', 'Disease_degradation', 'Disease_A', 'Disease_reduction', 'Disease_punctata', 'Disease_MAH', 'Disease_Nbs', 'Disease_CHRNA3', 'Disease_N1', 'Disease_pelagia', 'Disease_host', 'Disease_cluster', 'Disease_leukotrienes', 'Disease_Delftia', 'Disease_anomala', 'Disease_haloplanktis', 'Disease_Decreased', 'Disease_Yarrowia', 'Disease_CH', 'Disease_beta', 'Disease_reaction', 'Disease_rosaria', 'Disease_genotoxicity', 'Disease_TLD', 'Disease_fragment', 'Disease_glomerular', 'Disease_deficiencies', 'Disease_ADP', 'Disease_EA', 'Disease_glycosylated', 'Disease_deposition', 'Disease_tumor', 'Disease_CVF', 'Disease_TG', 'Disease_fascicularis', 'Disease_SE', 'Disease_HAMD', 'Disease_proteolysis', 'Disease_Complement', 'Disease_alginolyticus', 'Disease_Caenorhabditis', 'Disease_ICH1', 'Disease_Panavia', 'Disease_CH12', 'Disease_Rutherford', 'Disease_C1', 'Disease_synthesis', 'Disease_OMIM', 'Disease_biotoxicity', 'Disease_secrete', 'Disease_disS', 'Disease_TAA', 'Disease_AIDS', 'Disease_hepatic', 'Disease_Pgau', 'Disease_CHIT33', 'Disease_familial', 'Disease_Gluconobacter', 'Disease_T3', 'Disease_Hanseniaspora', 'Disease_hypocomplementemia', 'Disease_Drosophila', 'Disease_Rhodotorula', 'Disease_malaysia', 'Disease_cremoris', 'Disease_AK', 'Disease_LNCaP', 'Disease_calcification', 'Disease_Acuson', 'Disease_Fe', 'Disease_otitidiscaviarum', 'Disease_PRO', 'Disease_atoms', 'Disease_CH4', 'Disease_staphylococcal', 'Disease_botulinum', 'Disease_elevated', 'Disease_MESH', 'Disease_HIF', 'Disease_lobe', 'Disease_decrease', 'Disease_HFD', 'Disease_DiS', 'Disease_Deficiency', 'Disease_CHRNB3', 'Disease_CH2', 'Disease_impaired', 'Disease_low', 'Disease_scFv', 'Disease_L', 'Disease_epidermidis', 'Disease_alpha1', 'Disease_rabbit', 'Disease_Complex', 'Disease_secretion', 'Disease_Type', 'Disease_NH3', 'Disease_copy', 'Disease_halibut', 'Disease_826', 'Disease_DDGS', 'Disease_Complements', 'Disease_epsilon4epsilon4', 'Disease_blakesleeanus', 'Disease_febrile', 'Disease_aeruginosa', 'Disease_Heterorhabditis', 'Disease_tumefaciens', 'Disease_Ralstonia', 'Disease_C2', 'Disease_Dyneema', 'Disease_fracture', 'Disease_Df', 'Disease_component', 'Disease_mAb', 'Disease_CHIT1', 'Disease_stipitis', 'Disease_cobra', 'Disease_PMN', 'Disease_Lactobacillus', 'Disease_arthrodesis', 'Disease_TGR', 'Disease_pasteurianum', 'Disease_catalytic', 'Disease_AF', 'Disease_KMD', 'Disease_epsilon2epsilon2', 'Disease_complement', 'Disease_central', 'Disease_Fasting', 'Disease_Staphylococcus', 'Disease_rhamnosus', 'Disease_deposits', 'Disease_type', 'Disease_Fuc', 'Disease_participation', 'Disease_Cu', 'Disease_pleural', 'Disease_Kocuria', 'Disease_tHN', 'Disease_AO', 'Disease_CHRNA5', 'Disease_interstitial', 'Disease_Fas', 'Disease_Secretion', 'Disease_CHRM2', 'Disease_diS', 'Disease_CIN2', 'Disease_Neocosmospora', 'Disease_opsonic', 'Disease_epsilon3epsilon4', 'Disease_Griffonia', 'Disease_CHRNB2', 'Disease_CHCA', 'Disease_Essentria', 'Disease_hypocomplementaemia', 'Disease_hemolytic', 'Disease_Deposits', 'Disease_Drosha', 'Disease_hemolytically', 'Disease_February', 'Disease_fractures', 'Disease_Becker', 'Disease_parahaemolyticus', 'Disease_corrugata', 'Disease_dermatitidis', 'Disease_Matricaria', 'Disease_deficient', 'Disease_C3', 'Disease_Metabolism', 'Disease_haematuria', 'Disease_lautus', 'Disease_Antarctic', 'Disease_venetianus', 'Disease_C4', 'Disease_Sp', 'Disease_especially', 'Disease_hypercatabolism', 'Disease_epsilon4', 'Disease_Proton', 'Disease_Lactococcus', 'Disease_microalbuminuria', 'Disease_LLC', 'Disease_increase', 'Disease_hyperactive', 'Disease_hepatocarcinoma', 'Disease_CIC', 'Disease_key', 'Disease_HMS2', 'Disease_Mixolab', 'Disease_haemolytically', 'Disease_FM', 'Disease_meningitidis', 'Disease_CHF5022', 'Disease_neuroglioma', 'Disease_deficiency', 'Disease_Homozygous', 'Disease_falling', 'Disease_CH3', 'Disease_UMD', 'Disease_Component', 'Disease_IPMDH2', 'Disease_CHRM1'}\n"
     ]
    }
   ],
   "source": [
    "import re\n",
    "\n",
    "disease_concepts = [concept for concept in concept_vectors.keys() if concept.startswith('Disease')]\n",
    "\n",
    "prefixes = set()\n",
    "\n",
    "for concept in disease_concepts:\n",
    "    match = re.match(r'^(Disease_[^_]+)_', concept)\n",
    "    match = re.match(r'^(Disease_[^_]+)_', concept)\n",
    "    if match:\n",
    "        prefix = match.group(1)\n",
    "        prefixes.add(prefix)\n",
    "\n",
    "print('Different prefixes for disease concepts:', prefixes)\n"
   ]
  },
  {
   "cell_type": "code",
   "execution_count": 14,
   "metadata": {},
   "outputs": [
    {
     "name": "stdout",
     "output_type": "stream",
     "text": [
      "Number of deficiency disease concepts: 1\n",
      "Some deficiency disease concepts: ['Disease_Methanogenic_archaeon_CH1270']\n"
     ]
    }
   ],
   "source": [
    "deficiency_disease_concepts = [concept for concept in concept_vectors.keys() if concept.startswith('Disease_Methanogenic')]\n",
    "\n",
    "print('Number of deficiency disease concepts:', len(deficiency_disease_concepts))\n",
    "print('Some deficiency disease concepts:', deficiency_disease_concepts[:10])"
   ]
  },
  {
   "attachments": {},
   "cell_type": "markdown",
   "metadata": {},
   "source": [
    "## What are all the different token types?"
   ]
  },
  {
   "cell_type": "code",
   "execution_count": 5,
   "metadata": {},
   "outputs": [
    {
     "name": "stdout",
     "output_type": "stream",
     "text": [
      "['Gene', 'Species', 'DomainMotif', 'CellLine', 'Disease', 'ProteinMutation', 'SNP', 'DNAMutation', 'Chemical']\n"
     ]
    }
   ],
   "source": [
    "import re\n",
    "\n",
    "def extract_concepts(concept_keys):\n",
    "    concept_types = set()\n",
    "\n",
    "    for key in concept_keys:\n",
    "        match = re.match(r\"([a-zA-Z]+)_\", key)\n",
    "        if match:\n",
    "            concept_types.add(match.group(1))\n",
    "\n",
    "    return list(concept_types)\n",
    "\n",
    "# Assuming concept_vectors is a dictionary\n",
    "concept_keys = list(concept_vectors.keys())\n",
    "concept_types = extract_concepts(concept_keys)\n",
    "\n",
    "print(concept_types)"
   ]
  },
  {
   "attachments": {},
   "cell_type": "markdown",
   "metadata": {},
   "source": [
    "## What are examples of each"
   ]
  },
  {
   "cell_type": "code",
   "execution_count": 6,
   "metadata": {},
   "outputs": [
    {
     "name": "stdout",
     "output_type": "stream",
     "text": [
      "{'Disease': 'Disease_MESH_D001845', 'Gene': 'Gene_2799940', 'ProteinMutation': 'ProteinMutation_p_R450H_RS_189261858', 'SNP': 'SNP_rs11944405', 'Chemical': 'Chemical_MESH_C511970', 'DNAMutation': 'DNAMutation_c_1324delC_CorrespondingGene_6535', 'Species': 'Species_7461', 'CellLine': 'CellLine_CVCL_K990', 'DomainMotif': 'DomainMotif_Focus_9606_7003_7004'}\n"
     ]
    }
   ],
   "source": [
    "def find_examples(concept_vectors, concept_types):\n",
    "    examples = {}\n",
    "\n",
    "    # Iterate over each item in the dictionary\n",
    "    for key in concept_vectors.keys():\n",
    "        # If the concept type of the current key is in our list, add it to our examples\n",
    "        for concept in concept_types:\n",
    "            if key.startswith(concept) and concept not in examples:\n",
    "                examples[concept] = key\n",
    "\n",
    "    return examples\n",
    "\n",
    "# Get examples\n",
    "examples = find_examples(concept_vectors, concept_types)\n",
    "print(examples)"
   ]
  },
  {
   "cell_type": "code",
   "execution_count": 7,
   "metadata": {},
   "outputs": [
    {
     "data": {
      "text/plain": [
       "['Disease_MESH_D001845',\n",
       " 'Gene_2799940',\n",
       " 'ProteinMutation_p_R450H_RS_189261858',\n",
       " 'SNP_rs11944405',\n",
       " 'Chemical_MESH_C511970',\n",
       " 'DNAMutation_c_1324delC_CorrespondingGene_6535',\n",
       " 'Species_7461',\n",
       " 'CellLine_CVCL_K990',\n",
       " 'DomainMotif_Focus_9606_7003_7004']"
      ]
     },
     "execution_count": 7,
     "metadata": {},
     "output_type": "execute_result"
    }
   ],
   "source": [
    "list(examples.values())"
   ]
  },
  {
   "attachments": {},
   "cell_type": "markdown",
   "metadata": {},
   "source": [
    "## Create and test each type of token and make sure it works with an API"
   ]
  },
  {
   "cell_type": "code",
   "execution_count": 31,
   "metadata": {},
   "outputs": [
    {
     "name": "stdout",
     "output_type": "stream",
     "text": [
      "1-aminocyclopropane-1-carboxylate synthase\n"
     ]
    }
   ],
   "source": [
    "# Change it so that it can use the following Gene_2799940\n",
    "def fetch_entrez_gene(id):\n",
    "    url = \"https://eutils.ncbi.nlm.nih.gov/entrez/eutils/esummary.fcgi\"\n",
    "    params = {\n",
    "        \"db\": \"gene\",\n",
    "        \"id\": id,\n",
    "        \"retmode\": \"json\"\n",
    "    }\n",
    "\n",
    "    response = requests.get(url, params=params)\n",
    "    if response.status_code == 200:\n",
    "        return response.json()[\"result\"][id][\"description\"]\n",
    "    else:\n",
    "        return None\n",
    "\n",
    "# Test\n",
    "print(fetch_entrez_gene(\"107831434\"))"
   ]
  },
  {
   "cell_type": "code",
   "execution_count": 9,
   "metadata": {},
   "outputs": [
    {
     "name": "stdout",
     "output_type": "stream",
     "text": [
      "Bone Cysts\n"
     ]
    }
   ],
   "source": [
    "# Change it so that it can use the following Disease_MESH_D001845\n",
    "def fetch_mesh_descriptor(id):\n",
    "    url = f\"https://id.nlm.nih.gov/mesh/lookup/label?resource={id}\"\n",
    "    headers = {\"Accept\": \"application/json\"}\n",
    "\n",
    "    response = requests.get(url, headers=headers)\n",
    "    if response.status_code == 200:\n",
    "        return response.json()[0]\n",
    "    else:\n",
    "        return None\n",
    "\n",
    "# Test\n",
    "print(fetch_mesh_descriptor(\"D001845\"))"
   ]
  },
  {
   "cell_type": "code",
   "execution_count": 10,
   "metadata": {},
   "outputs": [
    {
     "name": "stdout",
     "output_type": "stream",
     "text": [
      "Apis cerana\n"
     ]
    }
   ],
   "source": [
    "# Change it so that it can use the following Species_7461\n",
    "import requests\n",
    "import xml.etree.ElementTree as ET\n",
    "\n",
    "def fetch_ncbi_species(id):\n",
    "    url = f\"https://eutils.ncbi.nlm.nih.gov/entrez/eutils/esummary.fcgi?db=taxonomy&id={id}\"\n",
    "    response = requests.get(url)\n",
    "    if response.status_code == 200:\n",
    "        root = ET.fromstring(response.content)\n",
    "        scientific_name = root.find('.//Item[@Name=\"ScientificName\"]').text\n",
    "        return scientific_name\n",
    "    else:\n",
    "        return None\n",
    "\n",
    "# Test\n",
    "print(fetch_ncbi_species(\"7461\"))"
   ]
  },
  {
   "cell_type": "code",
   "execution_count": 78,
   "metadata": {},
   "outputs": [
    {
     "name": "stdout",
     "output_type": "stream",
     "text": [
      "['UKTS9050']\n"
     ]
    }
   ],
   "source": [
    "# Change it so that it can use the following CellLine_CVCL_K990\n",
    "def fetch_cellosaurus(id):\n",
    "    url = f\"https://api.cellosaurus.org/cell-line/{id}\"\n",
    "    response = requests.get(url)\n",
    "    # print(response.text)\n",
    "    if response.status_code == 200:\n",
    "        value_list = []\n",
    "        response_json = response.json()\n",
    "        if 'Cellosaurus' in response_json:\n",
    "            if 'cell-line-list' in response_json['Cellosaurus']:\n",
    "                for name in response_json['Cellosaurus']['cell-line-list']:\n",
    "                    if 'name-list' in name:\n",
    "                        for value in name['name-list']:\n",
    "                            if 'value' in value:\n",
    "                                value_list.append(value['value'])\n",
    "        return value_list\n",
    "    else:\n",
    "        return None\n",
    "\n",
    "# Test\n",
    "print(fetch_cellosaurus(\"CVCL_K990\"))"
   ]
  },
  {
   "cell_type": "code",
   "execution_count": 6,
   "metadata": {},
   "outputs": [
    {
     "name": "stdout",
     "output_type": "stream",
     "text": [
      "200\n",
      "{'refsnp_id': '11944405', 'create_date': '2004-02-28T21:15Z', 'last_update_date': '2022-10-13T06:32Z', 'last_update_build_id': '156', 'dbsnp1_merges': [], 'citations': [], 'lost_obs_movements': [], 'present_obs_movements': [{'component_ids': [{'type': 'subsnp', 'value': '108173738'}, {'type': 'subsnp', 'value': '110297294'}, {'type': 'subsnp', 'value': '117115213'}, {'type': 'subsnp', 'value': '160019633'}, {'type': 'subsnp', 'value': '163924626'}, {'type': 'subsnp', 'value': '166948126'}, {'type': 'subsnp', 'value': '198926715'}, {'type': 'subsnp', 'value': '277846056'}, {'type': 'subsnp', 'value': '479634392'}, {'type': 'subsnp', 'value': '1589959560'}, {'type': 'subsnp', 'value': '1712693479'}, {'type': 'subsnp', 'value': '3643452189'}], 'observation': {'seq_id': 'NC_000004.10', 'position': 101018983, 'deleted_sequence': 'T', 'inserted_sequence': 'T'}, 'allele_in_cur_release': {'seq_id': 'NC_000004.12', 'position': 99878803, 'deleted_sequence': 'T', 'inserted_sequence': 'T'}, 'other_rsids_in_cur_release': [], 'previous_release': {'allele': {'seq_id': 'NC_000004.12', 'position': 99878803, 'deleted_sequence': 'T', 'inserted_sequence': 'T'}, 'rsids': ['11944405']}, 'last_added_to_this_rs': '151'}, {'component_ids': [{'type': 'frequency', 'value': '1000Genomes.1:22439038'}, {'type': 'frequency', 'value': 'ALSPAC.1:12483450'}, {'type': 'frequency', 'value': 'Estonian.1:8852503'}, {'type': 'frequency', 'value': 'GENOME_DK.1:6854480'}, {'type': 'frequency', 'value': 'GoNL.5:5518791'}, {'type': 'frequency', 'value': 'KOREAN.1:13074179'}, {'type': 'frequency', 'value': 'NorthernSweden.1:4711044'}, {'type': 'frequency', 'value': 'Qatari.1:5736874'}, {'type': 'frequency', 'value': 'SGDP_PRJ.1:11636512'}, {'type': 'frequency', 'value': 'Siberian.1:3079320'}, {'type': 'frequency', 'value': 'TOMMO.1:25065235'}, {'type': 'frequency', 'value': 'TWINSUK.1:12483450'}, {'type': 'frequency', 'value': 'Vietnamese.1:2746388'}, {'type': 'subsnp', 'value': '221101053'}, {'type': 'subsnp', 'value': '232516999'}, {'type': 'subsnp', 'value': '239781333'}, {'type': 'subsnp', 'value': '479639640'}, {'type': 'subsnp', 'value': '480144376'}, {'type': 'subsnp', 'value': '484615883'}, {'type': 'subsnp', 'value': '536739552'}, {'type': 'subsnp', 'value': '557724273'}, {'type': 'subsnp', 'value': '651528274'}, {'type': 'subsnp', 'value': '778770328'}, {'type': 'subsnp', 'value': '782754756'}, {'type': 'subsnp', 'value': '783721320'}, {'type': 'subsnp', 'value': '832006941'}, {'type': 'subsnp', 'value': '834230166'}, {'type': 'subsnp', 'value': '980455406'}, {'type': 'subsnp', 'value': '1071790768'}, {'type': 'subsnp', 'value': '1310996273'}, {'type': 'subsnp', 'value': '1429984418'}, {'type': 'subsnp', 'value': '1580689541'}, {'type': 'subsnp', 'value': '1610746367'}, {'type': 'subsnp', 'value': '1653740400'}, {'type': 'subsnp', 'value': '1752489468'}, {'type': 'subsnp', 'value': '1801915155'}, {'type': 'subsnp', 'value': '1923694944'}, {'type': 'subsnp', 'value': '1969817836'}, {'type': 'subsnp', 'value': '2022433750'}, {'type': 'subsnp', 'value': '2150562966'}, {'type': 'subsnp', 'value': '2625715664'}, {'type': 'subsnp', 'value': '2634155081'}, {'type': 'subsnp', 'value': '2706039280'}, {'type': 'subsnp', 'value': '2812902719'}, {'type': 'subsnp', 'value': '2995217845'}, {'type': 'subsnp', 'value': '3345864114'}, {'type': 'subsnp', 'value': '3629026523'}, {'type': 'subsnp', 'value': '3632089382'}, {'type': 'subsnp', 'value': '3633343519'}, {'type': 'subsnp', 'value': '3634062827'}, {'type': 'subsnp', 'value': '3634963704'}, {'type': 'subsnp', 'value': '3635745551'}, {'type': 'subsnp', 'value': '3636668022'}, {'type': 'subsnp', 'value': '3637498089'}, {'type': 'subsnp', 'value': '3638502053'}, {'type': 'subsnp', 'value': '3640670997'}, {'type': 'subsnp', 'value': '3663114255'}, {'type': 'subsnp', 'value': '3731426179'}, {'type': 'subsnp', 'value': '3745263960'}, {'type': 'subsnp', 'value': '3762171696'}, {'type': 'subsnp', 'value': '3772758496'}, {'type': 'subsnp', 'value': '3825661844'}, {'type': 'subsnp', 'value': '3828706230'}, {'type': 'subsnp', 'value': '3837794015'}, {'type': 'subsnp', 'value': '3859619532'}, {'type': 'subsnp', 'value': '3905896785'}, {'type': 'subsnp', 'value': '4017159818'}, {'type': 'subsnp', 'value': '5167095928'}, {'type': 'subsnp', 'value': '5314977855'}, {'type': 'subsnp', 'value': '5351002099'}, {'type': 'subsnp', 'value': '5507643552'}, {'type': 'subsnp', 'value': '5635674117'}, {'type': 'subsnp', 'value': '5799622398'}, {'type': 'subsnp', 'value': '5844430543'}, {'type': 'subsnp', 'value': '5964065442'}], 'observation': {'seq_id': 'NC_000004.11', 'position': 100799960, 'deleted_sequence': 'T', 'inserted_sequence': 'T'}, 'allele_in_cur_release': {'seq_id': 'NC_000004.12', 'position': 99878803, 'deleted_sequence': 'T', 'inserted_sequence': 'T'}, 'other_rsids_in_cur_release': [], 'previous_release': {'allele': {'seq_id': 'NC_000004.12', 'position': 99878803, 'deleted_sequence': 'T', 'inserted_sequence': 'T'}, 'rsids': ['11944405']}, 'last_added_to_this_rs': '151'}, {'component_ids': [{'type': 'frequency', 'value': '1000Genomes.2:29503686'}, {'type': 'frequency', 'value': 'GnomAD.3:158958645'}, {'type': 'frequency', 'value': 'HapMap.3:2671161'}, {'type': 'frequency', 'value': 'TOMMO.2:35669506'}, {'type': 'frequency', 'value': 'TOPMED.3:462171274'}, {'type': 'frequency', 'value': 'dbGaP_PopFreq.1:7792100058'}, {'type': 'subsnp', 'value': '2265461142'}, {'type': 'subsnp', 'value': '3024992102'}, {'type': 'subsnp', 'value': '3712665456'}, {'type': 'subsnp', 'value': '3805320040'}, {'type': 'subsnp', 'value': '3843232426'}, {'type': 'subsnp', 'value': '4624793718'}, {'type': 'subsnp', 'value': '5260302464'}, {'type': 'subsnp', 'value': '5458943725'}, {'type': 'subsnp', 'value': '5541977751'}, {'type': 'subsnp', 'value': '5701832402'}, {'type': 'subsnp', 'value': '5805357132'}, {'type': 'subsnp', 'value': '5854357880'}, {'type': 'subsnp', 'value': '5864693476'}], 'observation': {'seq_id': 'NC_000004.12', 'position': 99878803, 'deleted_sequence': 'T', 'inserted_sequence': 'T'}, 'allele_in_cur_release': {'seq_id': 'NC_000004.12', 'position': 99878803, 'deleted_sequence': 'T', 'inserted_sequence': 'T'}, 'other_rsids_in_cur_release': [], 'previous_release': {'allele': {'seq_id': 'NC_000004.12', 'position': 99878803, 'deleted_sequence': 'T', 'inserted_sequence': 'T'}, 'rsids': ['11944405']}, 'last_added_to_this_rs': '151'}, {'component_ids': [{'type': 'subsnp', 'value': '17815404'}], 'observation': {'seq_id': 'NT_016354.16', 'position': 25294664, 'deleted_sequence': 'T', 'inserted_sequence': 'T'}, 'allele_in_cur_release': {'seq_id': 'NC_000004.12', 'position': 99878803, 'deleted_sequence': 'T', 'inserted_sequence': 'T'}, 'other_rsids_in_cur_release': [], 'previous_release': {'allele': {'seq_id': 'NC_000004.12', 'position': 99878803, 'deleted_sequence': 'T', 'inserted_sequence': 'T'}, 'rsids': ['11944405']}, 'last_added_to_this_rs': '151'}, {'component_ids': [{'type': 'subsnp', 'value': '44532329'}, {'type': 'subsnp', 'value': '75069017'}, {'type': 'subsnp', 'value': '119733496'}, {'type': 'subsnp', 'value': '157656090'}, {'type': 'subsnp', 'value': '161477652'}, {'type': 'subsnp', 'value': '171737387'}], 'observation': {'seq_id': 'NT_016354.19', 'position': 25347681, 'deleted_sequence': 'T', 'inserted_sequence': 'T'}, 'allele_in_cur_release': {'seq_id': 'NC_000004.12', 'position': 99878803, 'deleted_sequence': 'T', 'inserted_sequence': 'T'}, 'other_rsids_in_cur_release': [], 'previous_release': {'allele': {'seq_id': 'NC_000004.12', 'position': 99878803, 'deleted_sequence': 'T', 'inserted_sequence': 'T'}, 'rsids': ['11944405']}, 'last_added_to_this_rs': '151'}, {'component_ids': [{'type': 'subsnp', 'value': '108173738'}, {'type': 'subsnp', 'value': '110297294'}, {'type': 'subsnp', 'value': '117115213'}, {'type': 'subsnp', 'value': '160019633'}, {'type': 'subsnp', 'value': '163924626'}, {'type': 'subsnp', 'value': '166948126'}, {'type': 'subsnp', 'value': '198926715'}, {'type': 'subsnp', 'value': '277846056'}, {'type': 'subsnp', 'value': '479634392'}, {'type': 'subsnp', 'value': '1589959560'}, {'type': 'subsnp', 'value': '1712693479'}, {'type': 'subsnp', 'value': '3643452189'}], 'observation': {'seq_id': 'NC_000004.10', 'position': 101018983, 'deleted_sequence': 'T', 'inserted_sequence': 'C'}, 'allele_in_cur_release': {'seq_id': 'NC_000004.12', 'position': 99878803, 'deleted_sequence': 'T', 'inserted_sequence': 'C'}, 'other_rsids_in_cur_release': [], 'previous_release': {'allele': {'seq_id': 'NC_000004.12', 'position': 99878803, 'deleted_sequence': 'T', 'inserted_sequence': 'C'}, 'rsids': ['11944405']}, 'last_added_to_this_rs': '151'}, {'component_ids': [{'type': 'frequency', 'value': '1000Genomes.1:22439038'}, {'type': 'frequency', 'value': 'ALSPAC.1:12483450'}, {'type': 'frequency', 'value': 'Estonian.1:8852503'}, {'type': 'frequency', 'value': 'GENOME_DK.1:6854480'}, {'type': 'frequency', 'value': 'GoNL.5:5518791'}, {'type': 'frequency', 'value': 'KOREAN.1:13074179'}, {'type': 'frequency', 'value': 'NorthernSweden.1:4711044'}, {'type': 'frequency', 'value': 'Qatari.1:5736874'}, {'type': 'frequency', 'value': 'SGDP_PRJ.1:11636512'}, {'type': 'frequency', 'value': 'Siberian.1:3079320'}, {'type': 'frequency', 'value': 'TOMMO.1:25065235'}, {'type': 'frequency', 'value': 'TWINSUK.1:12483450'}, {'type': 'frequency', 'value': 'Vietnamese.1:2746388'}, {'type': 'subsnp', 'value': '221101053'}, {'type': 'subsnp', 'value': '232516999'}, {'type': 'subsnp', 'value': '239781333'}, {'type': 'subsnp', 'value': '479639640'}, {'type': 'subsnp', 'value': '480144376'}, {'type': 'subsnp', 'value': '484615883'}, {'type': 'subsnp', 'value': '536739552'}, {'type': 'subsnp', 'value': '557724273'}, {'type': 'subsnp', 'value': '651528274'}, {'type': 'subsnp', 'value': '778770328'}, {'type': 'subsnp', 'value': '782754756'}, {'type': 'subsnp', 'value': '783721320'}, {'type': 'subsnp', 'value': '832006941'}, {'type': 'subsnp', 'value': '834230166'}, {'type': 'subsnp', 'value': '980455406'}, {'type': 'subsnp', 'value': '1071790768'}, {'type': 'subsnp', 'value': '1310996273'}, {'type': 'subsnp', 'value': '1429984418'}, {'type': 'subsnp', 'value': '1580689541'}, {'type': 'subsnp', 'value': '1610746367'}, {'type': 'subsnp', 'value': '1653740400'}, {'type': 'subsnp', 'value': '1752489468'}, {'type': 'subsnp', 'value': '1801915155'}, {'type': 'subsnp', 'value': '1923694944'}, {'type': 'subsnp', 'value': '1969817836'}, {'type': 'subsnp', 'value': '2022433750'}, {'type': 'subsnp', 'value': '2150562966'}, {'type': 'subsnp', 'value': '2625715664'}, {'type': 'subsnp', 'value': '2634155081'}, {'type': 'subsnp', 'value': '2706039280'}, {'type': 'subsnp', 'value': '2812902719'}, {'type': 'subsnp', 'value': '2995217845'}, {'type': 'subsnp', 'value': '3345864114'}, {'type': 'subsnp', 'value': '3629026523'}, {'type': 'subsnp', 'value': '3632089382'}, {'type': 'subsnp', 'value': '3633343519'}, {'type': 'subsnp', 'value': '3634062827'}, {'type': 'subsnp', 'value': '3634963704'}, {'type': 'subsnp', 'value': '3635745551'}, {'type': 'subsnp', 'value': '3636668022'}, {'type': 'subsnp', 'value': '3637498089'}, {'type': 'subsnp', 'value': '3638502053'}, {'type': 'subsnp', 'value': '3640670997'}, {'type': 'subsnp', 'value': '3663114255'}, {'type': 'subsnp', 'value': '3731426179'}, {'type': 'subsnp', 'value': '3745263960'}, {'type': 'subsnp', 'value': '3762171696'}, {'type': 'subsnp', 'value': '3772758496'}, {'type': 'subsnp', 'value': '3825661844'}, {'type': 'subsnp', 'value': '3828706230'}, {'type': 'subsnp', 'value': '3837794015'}, {'type': 'subsnp', 'value': '3859619532'}, {'type': 'subsnp', 'value': '3905896785'}, {'type': 'subsnp', 'value': '4017159818'}, {'type': 'subsnp', 'value': '5167095928'}, {'type': 'subsnp', 'value': '5314977855'}, {'type': 'subsnp', 'value': '5351002099'}, {'type': 'subsnp', 'value': '5507643552'}, {'type': 'subsnp', 'value': '5635674117'}, {'type': 'subsnp', 'value': '5799622398'}, {'type': 'subsnp', 'value': '5844430543'}, {'type': 'subsnp', 'value': '5964065442'}], 'observation': {'seq_id': 'NC_000004.11', 'position': 100799960, 'deleted_sequence': 'T', 'inserted_sequence': 'C'}, 'allele_in_cur_release': {'seq_id': 'NC_000004.12', 'position': 99878803, 'deleted_sequence': 'T', 'inserted_sequence': 'C'}, 'other_rsids_in_cur_release': [], 'previous_release': {'allele': {'seq_id': 'NC_000004.12', 'position': 99878803, 'deleted_sequence': 'T', 'inserted_sequence': 'C'}, 'rsids': ['11944405']}, 'last_added_to_this_rs': '151'}, {'component_ids': [{'type': 'frequency', 'value': '1000Genomes.2:29503686'}, {'type': 'frequency', 'value': 'GnomAD.3:158958645'}, {'type': 'frequency', 'value': 'HapMap.3:2671161'}, {'type': 'frequency', 'value': 'TOMMO.2:35669506'}, {'type': 'frequency', 'value': 'TOPMED.3:462171274'}, {'type': 'frequency', 'value': 'dbGaP_PopFreq.1:7792100058'}, {'type': 'subsnp', 'value': '2265461142'}, {'type': 'subsnp', 'value': '3024992102'}, {'type': 'subsnp', 'value': '3712665456'}, {'type': 'subsnp', 'value': '3805320040'}, {'type': 'subsnp', 'value': '3843232426'}, {'type': 'subsnp', 'value': '4624793718'}, {'type': 'subsnp', 'value': '5260302464'}, {'type': 'subsnp', 'value': '5458943725'}, {'type': 'subsnp', 'value': '5541977751'}, {'type': 'subsnp', 'value': '5701832402'}, {'type': 'subsnp', 'value': '5805357132'}, {'type': 'subsnp', 'value': '5854357880'}, {'type': 'subsnp', 'value': '5864693476'}], 'observation': {'seq_id': 'NC_000004.12', 'position': 99878803, 'deleted_sequence': 'T', 'inserted_sequence': 'C'}, 'allele_in_cur_release': {'seq_id': 'NC_000004.12', 'position': 99878803, 'deleted_sequence': 'T', 'inserted_sequence': 'C'}, 'other_rsids_in_cur_release': [], 'previous_release': {'allele': {'seq_id': 'NC_000004.12', 'position': 99878803, 'deleted_sequence': 'T', 'inserted_sequence': 'C'}, 'rsids': ['11944405']}, 'last_added_to_this_rs': '151'}, {'component_ids': [{'type': 'subsnp', 'value': '17815404'}], 'observation': {'seq_id': 'NT_016354.16', 'position': 25294664, 'deleted_sequence': 'T', 'inserted_sequence': 'C'}, 'allele_in_cur_release': {'seq_id': 'NC_000004.12', 'position': 99878803, 'deleted_sequence': 'T', 'inserted_sequence': 'C'}, 'other_rsids_in_cur_release': [], 'previous_release': {'allele': {'seq_id': 'NC_000004.12', 'position': 99878803, 'deleted_sequence': 'T', 'inserted_sequence': 'C'}, 'rsids': ['11944405']}, 'last_added_to_this_rs': '151'}, {'component_ids': [{'type': 'subsnp', 'value': '44532329'}, {'type': 'subsnp', 'value': '75069017'}, {'type': 'subsnp', 'value': '119733496'}, {'type': 'subsnp', 'value': '157656090'}, {'type': 'subsnp', 'value': '161477652'}, {'type': 'subsnp', 'value': '171737387'}], 'observation': {'seq_id': 'NT_016354.19', 'position': 25347681, 'deleted_sequence': 'T', 'inserted_sequence': 'C'}, 'allele_in_cur_release': {'seq_id': 'NC_000004.12', 'position': 99878803, 'deleted_sequence': 'T', 'inserted_sequence': 'C'}, 'other_rsids_in_cur_release': [], 'previous_release': {'allele': {'seq_id': 'NC_000004.12', 'position': 99878803, 'deleted_sequence': 'T', 'inserted_sequence': 'C'}, 'rsids': ['11944405']}, 'last_added_to_this_rs': '151'}], 'primary_snapshot_data': {'placements_with_allele': [{'seq_id': 'NC_000004.12', 'is_ptlp': True, 'placement_annot': {'seq_type': 'refseq_chromosome', 'mol_type': 'genomic', 'seq_id_traits_by_assembly': [{'assembly_name': 'GRCh38.p14', 'assembly_accession': 'GCF_000001405.40', 'is_top_level': True, 'is_alt': False, 'is_patch': False, 'is_chromosome': True}], 'is_aln_opposite_orientation': False, 'is_mismatch': False}, 'alleles': [{'allele': {'spdi': {'seq_id': 'NC_000004.12', 'position': 99878803, 'deleted_sequence': 'T', 'inserted_sequence': 'T'}}, 'hgvs': 'NC_000004.12:g.99878804='}, {'allele': {'spdi': {'seq_id': 'NC_000004.12', 'position': 99878803, 'deleted_sequence': 'T', 'inserted_sequence': 'C'}}, 'hgvs': 'NC_000004.12:g.99878804T>C'}]}, {'seq_id': 'NC_000004.11', 'is_ptlp': False, 'placement_annot': {'seq_type': 'refseq_chromosome', 'mol_type': 'genomic', 'seq_id_traits_by_assembly': [{'assembly_name': 'GRCh37.p13', 'assembly_accession': 'GCF_000001405.25', 'is_top_level': True, 'is_alt': False, 'is_patch': False, 'is_chromosome': True}], 'is_aln_opposite_orientation': False, 'is_mismatch': False}, 'alleles': [{'allele': {'spdi': {'seq_id': 'NC_000004.11', 'position': 100799960, 'deleted_sequence': 'T', 'inserted_sequence': 'T'}}, 'hgvs': 'NC_000004.11:g.100799961='}, {'allele': {'spdi': {'seq_id': 'NC_000004.11', 'position': 100799960, 'deleted_sequence': 'T', 'inserted_sequence': 'C'}}, 'hgvs': 'NC_000004.11:g.100799961T>C'}]}, {'seq_id': 'NM_021970.4', 'is_ptlp': False, 'placement_annot': {'seq_type': 'refseq_mrna', 'mol_type': 'rna', 'seq_id_traits_by_assembly': [], 'is_aln_opposite_orientation': True, 'is_mismatch': False}, 'alleles': [{'allele': {'spdi': {'seq_id': 'NM_021970.4', 'position': 3694, 'deleted_sequence': 'A', 'inserted_sequence': 'A'}}, 'hgvs': 'NM_021970.4:c.*3190='}, {'allele': {'spdi': {'seq_id': 'NM_021970.4', 'position': 3694, 'deleted_sequence': 'A', 'inserted_sequence': 'G'}}, 'hgvs': 'NM_021970.4:c.*3190A>G'}]}, {'seq_id': 'NM_021970.3', 'is_ptlp': False, 'placement_annot': {'seq_type': 'refseq_mrna', 'mol_type': 'rna', 'seq_id_traits_by_assembly': [], 'is_aln_opposite_orientation': True, 'is_mismatch': False}, 'alleles': [{'allele': {'spdi': {'seq_id': 'NM_021970.3', 'position': 3813, 'deleted_sequence': 'A', 'inserted_sequence': 'A'}}, 'hgvs': 'NM_021970.3:c.*3190='}, {'allele': {'spdi': {'seq_id': 'NM_021970.3', 'position': 3813, 'deleted_sequence': 'A', 'inserted_sequence': 'G'}}, 'hgvs': 'NM_021970.3:c.*3190A>G'}]}, {'seq_id': 'NM_001243736.1', 'is_ptlp': False, 'placement_annot': {'seq_type': 'refseq_mrna', 'mol_type': 'rna', 'seq_id_traits_by_assembly': [], 'is_aln_opposite_orientation': True, 'is_mismatch': False}, 'alleles': [{'allele': {'spdi': {'seq_id': 'NM_001243736.1', 'position': 3792, 'deleted_sequence': 'A', 'inserted_sequence': 'A'}}, 'hgvs': 'NM_001243736.1:c.*3190='}, {'allele': {'spdi': {'seq_id': 'NM_001243736.1', 'position': 3792, 'deleted_sequence': 'A', 'inserted_sequence': 'G'}}, 'hgvs': 'NM_001243736.1:c.*3190A>G'}]}, {'seq_id': 'NR_024170.1', 'is_ptlp': False, 'placement_annot': {'seq_type': 'refseq_ncrna', 'mol_type': 'rna', 'seq_id_traits_by_assembly': [], 'is_aln_opposite_orientation': True, 'is_mismatch': False}, 'alleles': [{'allele': {'spdi': {'seq_id': 'NR_024170.1', 'position': 3767, 'deleted_sequence': 'A', 'inserted_sequence': 'A'}}, 'hgvs': 'NR_024170.1:n.3768='}, {'allele': {'spdi': {'seq_id': 'NR_024170.1', 'position': 3767, 'deleted_sequence': 'A', 'inserted_sequence': 'G'}}, 'hgvs': 'NR_024170.1:n.3768A>G'}]}], 'allele_annotations': [{'frequency': [{'study_name': '1000Genomes', 'study_version': 1, 'local_row_id': 22439038, 'observation': {'seq_id': 'NC_000004.11', 'position': 100799960, 'deleted_sequence': 'T', 'inserted_sequence': 'T'}, 'allele_count': 3708, 'total_count': 5008}, {'study_name': '1000Genomes', 'study_version': 2, 'local_row_id': 29503686, 'observation': {'seq_id': 'NC_000004.12', 'position': 99878803, 'deleted_sequence': 'T', 'inserted_sequence': 'T'}, 'allele_count': 4750, 'total_count': 6404}, {'study_name': 'ALSPAC', 'study_version': 1, 'local_row_id': 12483450, 'observation': {'seq_id': 'NC_000004.11', 'position': 100799960, 'deleted_sequence': 'T', 'inserted_sequence': 'T'}, 'allele_count': 3037, 'total_count': 3854}, {'study_name': 'Estonian', 'study_version': 1, 'local_row_id': 8852503, 'observation': {'seq_id': 'NC_000004.11', 'position': 100799960, 'deleted_sequence': 'T', 'inserted_sequence': 'T'}, 'allele_count': 3365, 'total_count': 4480}, {'study_name': 'GENOME_DK', 'study_version': 1, 'local_row_id': 6854480, 'observation': {'seq_id': 'NC_000004.11', 'position': 100799960, 'deleted_sequence': 'T', 'inserted_sequence': 'T'}, 'allele_count': 31, 'total_count': 40}, {'study_name': 'GnomAD', 'study_version': 3, 'local_row_id': 158958645, 'observation': {'seq_id': 'NC_000004.12', 'position': 99878803, 'deleted_sequence': 'T', 'inserted_sequence': 'T'}, 'allele_count': 100766, 'total_count': 140020}, {'study_name': 'GoNL', 'study_version': 5, 'local_row_id': 5518791, 'observation': {'seq_id': 'NC_000004.11', 'position': 100799960, 'deleted_sequence': 'T', 'inserted_sequence': 'T'}, 'allele_count': 783, 'total_count': 998}, {'study_name': 'HapMap', 'study_version': 3, 'local_row_id': 2671161, 'observation': {'seq_id': 'NC_000004.12', 'position': 99878803, 'deleted_sequence': 'T', 'inserted_sequence': 'T'}, 'allele_count': 1312, 'total_count': 1890}, {'study_name': 'KOREAN', 'study_version': 1, 'local_row_id': 13074179, 'observation': {'seq_id': 'NC_000004.11', 'position': 100799960, 'deleted_sequence': 'T', 'inserted_sequence': 'T'}, 'allele_count': 2256, 'total_count': 2930}, {'study_name': 'NorthernSweden', 'study_version': 1, 'local_row_id': 4711044, 'observation': {'seq_id': 'NC_000004.11', 'position': 100799960, 'deleted_sequence': 'T', 'inserted_sequence': 'T'}, 'allele_count': 491, 'total_count': 600}, {'study_name': 'Qatari', 'study_version': 1, 'local_row_id': 5736874, 'observation': {'seq_id': 'NC_000004.11', 'position': 100799960, 'deleted_sequence': 'T', 'inserted_sequence': 'T'}, 'allele_count': 170, 'total_count': 216}, {'study_name': 'SGDP_PRJ', 'study_version': 1, 'local_row_id': 11636512, 'observation': {'seq_id': 'NC_000004.11', 'position': 100799960, 'deleted_sequence': 'T', 'inserted_sequence': 'T'}, 'allele_count': 92, 'total_count': 210}, {'study_name': 'Siberian', 'study_version': 1, 'local_row_id': 3079320, 'observation': {'seq_id': 'NC_000004.11', 'position': 100799960, 'deleted_sequence': 'T', 'inserted_sequence': 'T'}, 'allele_count': 7, 'total_count': 20}, {'study_name': 'TOMMO', 'study_version': 1, 'local_row_id': 25065235, 'observation': {'seq_id': 'NC_000004.11', 'position': 100799960, 'deleted_sequence': 'T', 'inserted_sequence': 'T'}, 'allele_count': 12987, 'total_count': 16760}, {'study_name': 'TOMMO', 'study_version': 2, 'local_row_id': 35669506, 'observation': {'seq_id': 'NC_000004.12', 'position': 99878803, 'deleted_sequence': 'T', 'inserted_sequence': 'T'}, 'allele_count': 21917, 'total_count': 28258}, {'study_name': 'TOPMED', 'study_version': 3, 'local_row_id': 462171274, 'observation': {'seq_id': 'NC_000004.12', 'position': 99878803, 'deleted_sequence': 'T', 'inserted_sequence': 'T'}, 'allele_count': 190780, 'total_count': 264690}, {'study_name': 'TWINSUK', 'study_version': 1, 'local_row_id': 12483450, 'observation': {'seq_id': 'NC_000004.11', 'position': 100799960, 'deleted_sequence': 'T', 'inserted_sequence': 'T'}, 'allele_count': 2908, 'total_count': 3708}, {'study_name': 'Vietnamese', 'study_version': 1, 'local_row_id': 2746388, 'observation': {'seq_id': 'NC_000004.11', 'position': 100799960, 'deleted_sequence': 'T', 'inserted_sequence': 'T'}, 'allele_count': 194, 'total_count': 214}, {'study_name': 'dbGaP_PopFreq', 'study_version': 1, 'local_row_id': 7792100058, 'observation': {'seq_id': 'NC_000004.12', 'position': 99878803, 'deleted_sequence': 'T', 'inserted_sequence': 'T'}, 'allele_count': 113819, 'total_count': 152002}], 'clinical': [], 'submissions': ['17815404', '44532329', '75069017', '108173738', '110297294', '117115213', '119733496', '157656090', '160019633', '161477652', '163924626', '166948126', '171737387', '198926715', '221101053', '232516999', '239781333', '277846056', '479634392', '479639640', '480144376', '484615883', '536739552', '557724273', '651528274', '778770328', '782754756', '783721320', '832006941', '834230166', '980455406', '1071790768', '1310996273', '1429984418', '1580689541', '1589959560', '1610746367', '1653740400', '1712693479', '1752489468', '1801915155', '1923694944', '1969817836', '2022433750', '2150562966', '2265461142', '2625715664', '2634155081', '2706039280', '2812902719', '2995217845', '3024992102', '3345864114', '3629026523', '3632089382', '3633343519', '3634062827', '3634963704', '3635745551', '3636668022', '3637498089', '3638502053', '3640670997', '3643452189', '3663114255', '3712665456', '3731426179', '3745263960', '3762171696', '3772758496', '3805320040', '3825661844', '3828706230', '3837794015', '3843232426', '3859619532', '3905896785', '4017159818', '4624793718', '5167095928', '5260302464', '5314977855', '5351002099', '5458943725', '5507643552', '5541977751', '5635674117', '5701832402', '5799622398', '5805357132', '5844430543', '5854357880', '5864693476', '5964065442'], 'assembly_annotation': [{'seq_id': 'NC_000004.12', 'annotation_release': 'Homo sapiens Annotation Release 110', 'genes': [{'name': 'late endosomal/lysosomal adaptor, MAPK and MTOR activator 3', 'id': 8649, 'locus': 'LAMTOR3', 'is_pseudo': False, 'orientation': 'minus', 'sequence_ontology': [], 'rnas': [{'id': 'NM_001243736.1', 'sequence_ontology': [{'name': '3_prime_UTR_variant', 'accession': 'SO:0001624'}], 'product_id': 'NP_001230665.1', 'hgvs': 'NM_001243736.1:c.*3190='}, {'id': 'NM_021970.4', 'sequence_ontology': [{'name': '3_prime_UTR_variant', 'accession': 'SO:0001624'}], 'product_id': 'NP_068805.1', 'hgvs': 'NM_021970.4:c.*3190='}, {'id': 'NR_024170.1', 'codon_aligned_transcript_change': {'seq_id': 'NR_024170.1', 'position': 3767, 'deleted_sequence': 'A', 'inserted_sequence': 'A'}, 'sequence_ontology': [{'name': 'non_coding_transcript_variant', 'accession': 'SO:0001619'}], 'hgvs': 'NR_024170.1:n.3768='}]}]}]}, {'frequency': [{'study_name': '1000Genomes', 'study_version': 1, 'local_row_id': 22439038, 'observation': {'seq_id': 'NC_000004.11', 'position': 100799960, 'deleted_sequence': 'T', 'inserted_sequence': 'C'}, 'allele_count': 1300, 'total_count': 5008}, {'study_name': '1000Genomes', 'study_version': 2, 'local_row_id': 29503686, 'observation': {'seq_id': 'NC_000004.12', 'position': 99878803, 'deleted_sequence': 'T', 'inserted_sequence': 'C'}, 'allele_count': 1654, 'total_count': 6404}, {'study_name': 'ALSPAC', 'study_version': 1, 'local_row_id': 12483450, 'observation': {'seq_id': 'NC_000004.11', 'position': 100799960, 'deleted_sequence': 'T', 'inserted_sequence': 'C'}, 'allele_count': 817, 'total_count': 3854}, {'study_name': 'Estonian', 'study_version': 1, 'local_row_id': 8852503, 'observation': {'seq_id': 'NC_000004.11', 'position': 100799960, 'deleted_sequence': 'T', 'inserted_sequence': 'C'}, 'allele_count': 1115, 'total_count': 4480}, {'study_name': 'GENOME_DK', 'study_version': 1, 'local_row_id': 6854480, 'observation': {'seq_id': 'NC_000004.11', 'position': 100799960, 'deleted_sequence': 'T', 'inserted_sequence': 'C'}, 'allele_count': 9, 'total_count': 40}, {'study_name': 'GnomAD', 'study_version': 3, 'local_row_id': 158958645, 'observation': {'seq_id': 'NC_000004.12', 'position': 99878803, 'deleted_sequence': 'T', 'inserted_sequence': 'C'}, 'allele_count': 39254, 'total_count': 140020}, {'study_name': 'GoNL', 'study_version': 5, 'local_row_id': 5518791, 'observation': {'seq_id': 'NC_000004.11', 'position': 100799960, 'deleted_sequence': 'T', 'inserted_sequence': 'C'}, 'allele_count': 215, 'total_count': 998}, {'study_name': 'HapMap', 'study_version': 3, 'local_row_id': 2671161, 'observation': {'seq_id': 'NC_000004.12', 'position': 99878803, 'deleted_sequence': 'T', 'inserted_sequence': 'C'}, 'allele_count': 578, 'total_count': 1890}, {'study_name': 'KOREAN', 'study_version': 1, 'local_row_id': 13074179, 'observation': {'seq_id': 'NC_000004.11', 'position': 100799960, 'deleted_sequence': 'T', 'inserted_sequence': 'C'}, 'allele_count': 674, 'total_count': 2930}, {'study_name': 'NorthernSweden', 'study_version': 1, 'local_row_id': 4711044, 'observation': {'seq_id': 'NC_000004.11', 'position': 100799960, 'deleted_sequence': 'T', 'inserted_sequence': 'C'}, 'allele_count': 109, 'total_count': 600}, {'study_name': 'Qatari', 'study_version': 1, 'local_row_id': 5736874, 'observation': {'seq_id': 'NC_000004.11', 'position': 100799960, 'deleted_sequence': 'T', 'inserted_sequence': 'C'}, 'allele_count': 46, 'total_count': 216}, {'study_name': 'SGDP_PRJ', 'study_version': 1, 'local_row_id': 11636512, 'observation': {'seq_id': 'NC_000004.11', 'position': 100799960, 'deleted_sequence': 'T', 'inserted_sequence': 'C'}, 'allele_count': 118, 'total_count': 210}, {'study_name': 'Siberian', 'study_version': 1, 'local_row_id': 3079320, 'observation': {'seq_id': 'NC_000004.11', 'position': 100799960, 'deleted_sequence': 'T', 'inserted_sequence': 'C'}, 'allele_count': 13, 'total_count': 20}, {'study_name': 'TOMMO', 'study_version': 1, 'local_row_id': 25065235, 'observation': {'seq_id': 'NC_000004.11', 'position': 100799960, 'deleted_sequence': 'T', 'inserted_sequence': 'C'}, 'allele_count': 3773, 'total_count': 16760}, {'study_name': 'TOMMO', 'study_version': 2, 'local_row_id': 35669506, 'observation': {'seq_id': 'NC_000004.12', 'position': 99878803, 'deleted_sequence': 'T', 'inserted_sequence': 'C'}, 'allele_count': 6341, 'total_count': 28258}, {'study_name': 'TOPMED', 'study_version': 3, 'local_row_id': 462171274, 'observation': {'seq_id': 'NC_000004.12', 'position': 99878803, 'deleted_sequence': 'T', 'inserted_sequence': 'C'}, 'allele_count': 73910, 'total_count': 264690}, {'study_name': 'TWINSUK', 'study_version': 1, 'local_row_id': 12483450, 'observation': {'seq_id': 'NC_000004.11', 'position': 100799960, 'deleted_sequence': 'T', 'inserted_sequence': 'C'}, 'allele_count': 800, 'total_count': 3708}, {'study_name': 'Vietnamese', 'study_version': 1, 'local_row_id': 2746388, 'observation': {'seq_id': 'NC_000004.11', 'position': 100799960, 'deleted_sequence': 'T', 'inserted_sequence': 'C'}, 'allele_count': 20, 'total_count': 214}, {'study_name': 'dbGaP_PopFreq', 'study_version': 1, 'local_row_id': 7792100058, 'observation': {'seq_id': 'NC_000004.12', 'position': 99878803, 'deleted_sequence': 'T', 'inserted_sequence': 'C'}, 'allele_count': 38183, 'total_count': 152002}], 'clinical': [], 'submissions': ['17815404', '44532329', '75069017', '108173738', '110297294', '117115213', '119733496', '157656090', '160019633', '161477652', '163924626', '166948126', '171737387', '198926715', '221101053', '232516999', '239781333', '277846056', '479634392', '479639640', '480144376', '484615883', '536739552', '557724273', '651528274', '778770328', '782754756', '783721320', '832006941', '834230166', '980455406', '1071790768', '1310996273', '1429984418', '1580689541', '1589959560', '1610746367', '1653740400', '1712693479', '1752489468', '1801915155', '1923694944', '1969817836', '2022433750', '2150562966', '2265461142', '2625715664', '2634155081', '2706039280', '2812902719', '2995217845', '3024992102', '3345864114', '3629026523', '3632089382', '3633343519', '3634062827', '3634963704', '3635745551', '3636668022', '3637498089', '3638502053', '3640670997', '3643452189', '3663114255', '3712665456', '3731426179', '3745263960', '3762171696', '3772758496', '3805320040', '3825661844', '3828706230', '3837794015', '3843232426', '3859619532', '3905896785', '4017159818', '4624793718', '5167095928', '5260302464', '5314977855', '5351002099', '5458943725', '5507643552', '5541977751', '5635674117', '5701832402', '5799622398', '5805357132', '5844430543', '5854357880', '5864693476', '5964065442'], 'assembly_annotation': [{'seq_id': 'NC_000004.12', 'annotation_release': 'Homo sapiens Annotation Release 110', 'genes': [{'name': 'late endosomal/lysosomal adaptor, MAPK and MTOR activator 3', 'id': 8649, 'locus': 'LAMTOR3', 'is_pseudo': False, 'orientation': 'minus', 'sequence_ontology': [], 'rnas': [{'id': 'NM_001243736.1', 'sequence_ontology': [{'name': '3_prime_UTR_variant', 'accession': 'SO:0001624'}], 'product_id': 'NP_001230665.1', 'hgvs': 'NM_001243736.1:c.*3190A>G'}, {'id': 'NM_021970.4', 'sequence_ontology': [{'name': '3_prime_UTR_variant', 'accession': 'SO:0001624'}], 'product_id': 'NP_068805.1', 'hgvs': 'NM_021970.4:c.*3190A>G'}, {'id': 'NR_024170.1', 'codon_aligned_transcript_change': {'seq_id': 'NR_024170.1', 'position': 3767, 'deleted_sequence': 'A', 'inserted_sequence': 'G'}, 'sequence_ontology': [{'name': 'non_coding_transcript_variant', 'accession': 'SO:0001619'}], 'hgvs': 'NR_024170.1:n.3768A>G'}]}]}]}], 'support': [{'id': {'type': 'subsnp', 'value': 'ss17815404'}, 'revision_added': '120', 'create_date': '2004-02-28T21:15Z', 'submitter_handle': 'CSHL-HAPMAP'}, {'id': {'type': 'subsnp', 'value': 'ss44532329'}, 'revision_added': '126', 'create_date': '2006-03-13T16:57Z', 'submitter_handle': 'ABI'}, {'id': {'type': 'subsnp', 'value': 'ss75069017'}, 'revision_added': '129', 'create_date': '2007-12-6T05:09Z', 'submitter_handle': 'ILLUMINA'}, {'id': {'type': 'subsnp', 'value': 'ss108173738'}, 'revision_added': '130', 'create_date': '2009-01-23T06:06Z', 'submitter_handle': '1000GENOMES'}, {'id': {'type': 'subsnp', 'value': 'ss110297294'}, 'revision_added': '130', 'create_date': '2009-01-24T23:35Z', 'submitter_handle': '1000GENOMES'}, {'id': {'type': 'subsnp', 'value': 'ss117115213'}, 'revision_added': '130', 'create_date': '2009-02-14T16:50Z', 'submitter_handle': 'ILLUMINA-UK'}, {'id': {'type': 'subsnp', 'value': 'ss119733496'}, 'revision_added': '131', 'create_date': '2009-12-1T15:44Z', 'submitter_handle': 'KRIBB_YJKIM'}, {'id': {'type': 'subsnp', 'value': 'ss157656090'}, 'revision_added': '131', 'create_date': '2009-12-1T15:44Z', 'submitter_handle': 'GMI'}, {'id': {'type': 'subsnp', 'value': 'ss160019633'}, 'revision_added': '131', 'create_date': '2009-12-1T15:44Z', 'submitter_handle': 'ILLUMINA'}, {'id': {'type': 'subsnp', 'value': 'ss161477652'}, 'revision_added': '131', 'create_date': '2009-12-1T15:44Z', 'submitter_handle': 'ENSEMBL'}, {'id': {'type': 'subsnp', 'value': 'ss163924626'}, 'revision_added': '132', 'create_date': '2010-07-4T16:01Z', 'submitter_handle': 'COMPLETE_GENOMICS'}, {'id': {'type': 'subsnp', 'value': 'ss166948126'}, 'revision_added': '132', 'create_date': '2010-07-4T16:01Z', 'submitter_handle': 'COMPLETE_GENOMICS'}, {'id': {'type': 'subsnp', 'value': 'ss171737387'}, 'revision_added': '132', 'create_date': '2010-07-4T16:01Z', 'submitter_handle': 'ILLUMINA'}, {'id': {'type': 'subsnp', 'value': 'ss198926715'}, 'revision_added': '132', 'create_date': '2010-07-4T16:01Z', 'submitter_handle': 'BUSHMAN'}, {'id': {'type': 'subsnp', 'value': 'ss221101053'}, 'revision_added': '132', 'create_date': '2010-07-14T09:28Z', 'submitter_handle': '1000GENOMES'}, {'id': {'type': 'subsnp', 'value': 'ss232516999'}, 'revision_added': '132', 'create_date': '2010-07-14T09:28Z', 'submitter_handle': '1000GENOMES'}, {'id': {'type': 'subsnp', 'value': 'ss239781333'}, 'revision_added': '132', 'create_date': '2010-07-15T10:12Z', 'submitter_handle': '1000GENOMES'}, {'id': {'type': 'subsnp', 'value': 'ss277846056'}, 'revision_added': '137', 'create_date': '2012-05-4T12:43Z', 'submitter_handle': 'GMI'}, {'id': {'type': 'subsnp', 'value': 'ss479634392'}, 'revision_added': '137', 'create_date': '2012-05-4T12:43Z', 'submitter_handle': 'ILLUMINA'}, {'id': {'type': 'subsnp', 'value': 'ss479639640'}, 'revision_added': '137', 'create_date': '2012-05-4T12:43Z', 'submitter_handle': 'ILLUMINA'}, {'id': {'type': 'subsnp', 'value': 'ss480144376'}, 'revision_added': '146', 'create_date': '2015-09-8T16:25Z', 'submitter_handle': 'ILLUMINA'}, {'id': {'type': 'subsnp', 'value': 'ss484615883'}, 'revision_added': '137', 'create_date': '2012-05-4T12:43Z', 'submitter_handle': 'ILLUMINA'}, {'id': {'type': 'subsnp', 'value': 'ss536739552'}, 'revision_added': '146', 'create_date': '2015-09-8T16:25Z', 'submitter_handle': 'ILLUMINA'}, {'id': {'type': 'subsnp', 'value': 'ss557724273'}, 'revision_added': '138', 'create_date': '2013-04-25T23:59Z', 'submitter_handle': 'TISHKOFF'}, {'id': {'type': 'subsnp', 'value': 'ss651528274'}, 'revision_added': '138', 'create_date': '2013-04-25T23:59Z', 'submitter_handle': 'SSMP'}, {'id': {'type': 'subsnp', 'value': 'ss778770328'}, 'revision_added': '142', 'create_date': '2014-08-21T15:37Z', 'submitter_handle': 'ILLUMINA'}, {'id': {'type': 'subsnp', 'value': 'ss782754756'}, 'revision_added': '142', 'create_date': '2014-08-21T15:37Z', 'submitter_handle': 'ILLUMINA'}, {'id': {'type': 'subsnp', 'value': 'ss783721320'}, 'revision_added': '142', 'create_date': '2014-08-21T15:37Z', 'submitter_handle': 'ILLUMINA'}, {'id': {'type': 'subsnp', 'value': 'ss832006941'}, 'revision_added': '144', 'create_date': '2015-04-1T10:43Z', 'submitter_handle': 'ILLUMINA'}, {'id': {'type': 'subsnp', 'value': 'ss834230166'}, 'revision_added': '142', 'create_date': '2014-08-21T15:37Z', 'submitter_handle': 'ILLUMINA'}, {'id': {'type': 'subsnp', 'value': 'ss980455406'}, 'revision_added': '142', 'create_date': '2014-08-21T15:37Z', 'submitter_handle': 'EVA-GONL'}, {'id': {'type': 'subsnp', 'value': 'ss1071790768'}, 'revision_added': '142', 'create_date': '2014-08-21T15:37Z', 'submitter_handle': 'JMKIDD_LAB'}, {'id': {'type': 'subsnp', 'value': 'ss1310996273'}, 'revision_added': '142', 'create_date': '2014-08-21T15:37Z', 'submitter_handle': '1000GENOMES'}, {'id': {'type': 'subsnp', 'value': 'ss1429984418'}, 'revision_added': '144', 'create_date': '2015-04-1T10:43Z', 'submitter_handle': 'DDI'}, {'id': {'type': 'subsnp', 'value': 'ss1580689541'}, 'revision_added': '144', 'create_date': '2015-04-1T10:43Z', 'submitter_handle': 'EVA_GENOME_DK'}, {'id': {'type': 'subsnp', 'value': 'ss1589959560'}, 'revision_added': '144', 'create_date': '2015-04-1T10:43Z', 'submitter_handle': 'EVA_DECODE'}, {'id': {'type': 'subsnp', 'value': 'ss1610746367'}, 'revision_added': '144', 'create_date': '2015-04-1T10:43Z', 'submitter_handle': 'EVA_UK10K_ALSPAC'}, {'id': {'type': 'subsnp', 'value': 'ss1653740400'}, 'revision_added': '144', 'create_date': '2015-04-1T10:43Z', 'submitter_handle': 'EVA_UK10K_TWINSUK'}, {'id': {'type': 'subsnp', 'value': 'ss1712693479'}, 'revision_added': '144', 'create_date': '2015-04-1T10:43Z', 'submitter_handle': 'EVA_SVP'}, {'id': {'type': 'subsnp', 'value': 'ss1752489468'}, 'revision_added': '146', 'create_date': '2015-09-8T16:25Z', 'submitter_handle': 'ILLUMINA'}, {'id': {'type': 'subsnp', 'value': 'ss1801915155'}, 'revision_added': '146', 'create_date': '2015-09-8T16:25Z', 'submitter_handle': 'HAMMER_LAB'}, {'id': {'type': 'subsnp', 'value': 'ss1923694944'}, 'revision_added': '147', 'create_date': '2016-02-12T12:05Z', 'submitter_handle': 'WEILL_CORNELL_DGM'}, {'id': {'type': 'subsnp', 'value': 'ss1969817836'}, 'revision_added': '147', 'create_date': '2016-07-19T13:00Z', 'submitter_handle': 'GENOMED'}, {'id': {'type': 'subsnp', 'value': 'ss2022433750'}, 'revision_added': '149', 'create_date': '2016-09-14T10:20Z', 'submitter_handle': 'JJLAB'}, {'id': {'type': 'subsnp', 'value': 'ss2150562966'}, 'revision_added': '150', 'create_date': '2016-12-20T12:49Z', 'submitter_handle': 'USC_VALOUEV'}, {'id': {'type': 'subsnp', 'value': 'ss2265461142'}, 'revision_added': '150', 'create_date': '2016-12-20T12:49Z', 'submitter_handle': 'HUMAN_LONGEVITY'}, {'id': {'type': 'subsnp', 'value': 'ss2625715664'}, 'revision_added': '151', 'create_date': '2017-11-8T11:52Z', 'submitter_handle': 'SYSTEMSBIOZJU'}, {'id': {'type': 'subsnp', 'value': 'ss2634155081'}, 'revision_added': '151', 'create_date': '2017-11-8T11:52Z', 'submitter_handle': 'ILLUMINA'}, {'id': {'type': 'subsnp', 'value': 'ss2706039280'}, 'revision_added': '151', 'create_date': '2017-11-8T11:52Z', 'submitter_handle': 'GRF'}, {'id': {'type': 'subsnp', 'value': 'ss2812902719'}, 'revision_added': '151', 'create_date': '2017-11-8T11:52Z', 'submitter_handle': 'GNOMAD'}, {'id': {'type': 'subsnp', 'value': 'ss2995217845'}, 'revision_added': '151', 'create_date': '2017-11-8T11:52Z', 'submitter_handle': 'SWEGEN'}, {'id': {'type': 'subsnp', 'value': 'ss3024992102'}, 'revision_added': '151', 'create_date': '2017-11-8T11:52Z', 'submitter_handle': 'BIOINF_KMB_FNS_UNIBA'}, {'id': {'type': 'subsnp', 'value': 'ss3345864114'}, 'revision_added': '151', 'create_date': '2017-11-8T11:52Z', 'submitter_handle': 'CSHL'}, {'id': {'type': 'subsnp', 'value': 'ss3629026523'}, 'revision_added': '152', 'create_date': '2018-10-12T06:53Z', 'submitter_handle': 'ILLUMINA'}, {'id': {'type': 'subsnp', 'value': 'ss3632089382'}, 'revision_added': '152', 'create_date': '2018-10-12T06:53Z', 'submitter_handle': 'ILLUMINA'}, {'id': {'type': 'subsnp', 'value': 'ss3633343519'}, 'revision_added': '152', 'create_date': '2018-10-12T06:53Z', 'submitter_handle': 'ILLUMINA'}, {'id': {'type': 'subsnp', 'value': 'ss3634062827'}, 'revision_added': '152', 'create_date': '2018-10-12T06:53Z', 'submitter_handle': 'ILLUMINA'}, {'id': {'type': 'subsnp', 'value': 'ss3634963704'}, 'revision_added': '152', 'create_date': '2018-10-12T06:53Z', 'submitter_handle': 'ILLUMINA'}, {'id': {'type': 'subsnp', 'value': 'ss3635745551'}, 'revision_added': '152', 'create_date': '2018-10-12T06:53Z', 'submitter_handle': 'ILLUMINA'}, {'id': {'type': 'subsnp', 'value': 'ss3636668022'}, 'revision_added': '152', 'create_date': '2018-10-12T06:53Z', 'submitter_handle': 'ILLUMINA'}, {'id': {'type': 'subsnp', 'value': 'ss3637498089'}, 'revision_added': '152', 'create_date': '2018-10-12T06:53Z', 'submitter_handle': 'ILLUMINA'}, {'id': {'type': 'subsnp', 'value': 'ss3638502053'}, 'revision_added': '152', 'create_date': '2018-10-12T06:53Z', 'submitter_handle': 'ILLUMINA'}, {'id': {'type': 'subsnp', 'value': 'ss3640670997'}, 'revision_added': '152', 'create_date': '2018-10-12T06:53Z', 'submitter_handle': 'ILLUMINA'}, {'id': {'type': 'subsnp', 'value': 'ss3643452189'}, 'revision_added': '152', 'create_date': '2018-10-12T06:53Z', 'submitter_handle': 'ILLUMINA'}, {'id': {'type': 'subsnp', 'value': 'ss3663114255'}, 'revision_added': '153', 'create_date': '2019-07-13T09:02Z', 'submitter_handle': 'EGCUT_WGS'}, {'id': {'type': 'subsnp', 'value': 'ss3712665456'}, 'revision_added': '153', 'create_date': '2019-07-13T09:02Z', 'submitter_handle': 'EVA_DECODE'}, {'id': {'type': 'subsnp', 'value': 'ss3731426179'}, 'revision_added': '153', 'create_date': '2019-07-13T09:02Z', 'submitter_handle': 'ACPOP'}, {'id': {'type': 'subsnp', 'value': 'ss3745263960'}, 'revision_added': '153', 'create_date': '2019-07-13T09:02Z', 'submitter_handle': 'ILLUMINA'}, {'id': {'type': 'subsnp', 'value': 'ss3762171696'}, 'revision_added': '153', 'create_date': '2019-07-13T09:02Z', 'submitter_handle': 'EVA'}, {'id': {'type': 'subsnp', 'value': 'ss3772758496'}, 'revision_added': '153', 'create_date': '2019-07-13T09:02Z', 'submitter_handle': 'ILLUMINA'}, {'id': {'type': 'subsnp', 'value': 'ss3805320040'}, 'revision_added': '153', 'create_date': '2019-07-13T09:02Z', 'submitter_handle': 'KHV_HUMAN_GENOMES'}, {'id': {'type': 'subsnp', 'value': 'ss3825661844'}, 'revision_added': '154', 'create_date': '2020-04-26T05:47Z', 'submitter_handle': 'EVA'}, {'id': {'type': 'subsnp', 'value': 'ss3828706230'}, 'revision_added': '154', 'create_date': '2020-04-26T05:47Z', 'submitter_handle': 'EVA'}, {'id': {'type': 'subsnp', 'value': 'ss3837794015'}, 'revision_added': '154', 'create_date': '2020-04-26T05:47Z', 'submitter_handle': 'EVA'}, {'id': {'type': 'subsnp', 'value': 'ss3843232426'}, 'revision_added': '154', 'create_date': '2020-04-26T05:47Z', 'submitter_handle': 'EVA'}, {'id': {'type': 'subsnp', 'value': 'ss3859619532'}, 'revision_added': '154', 'create_date': '2020-04-26T05:47Z', 'submitter_handle': 'SGDP_PRJ'}, {'id': {'type': 'subsnp', 'value': 'ss3905896785'}, 'revision_added': '154', 'create_date': '2020-04-26T05:47Z', 'submitter_handle': 'KRGDB'}, {'id': {'type': 'subsnp', 'value': 'ss4017159818'}, 'revision_added': '155', 'create_date': '2021-04-26T08:07Z', 'submitter_handle': 'EVA'}, {'id': {'type': 'subsnp', 'value': 'ss4624793718'}, 'revision_added': '155', 'create_date': '2021-04-26T08:07Z', 'submitter_handle': 'TOPMED'}, {'id': {'type': 'subsnp', 'value': 'ss5167095928'}, 'revision_added': '155', 'create_date': '2021-04-26T08:07Z', 'submitter_handle': 'TOMMO_GENOMICS'}, {'id': {'type': 'subsnp', 'value': 'ss5260302464'}, 'revision_added': '156', 'create_date': '2022-10-13T06:32Z', 'submitter_handle': '1000G_HIGH_COVERAGE'}, {'id': {'type': 'subsnp', 'value': 'ss5314977855'}, 'revision_added': '156', 'create_date': '2022-10-13T06:32Z', 'submitter_handle': 'EVA'}, {'id': {'type': 'subsnp', 'value': 'ss5351002099'}, 'revision_added': '156', 'create_date': '2022-10-13T06:32Z', 'submitter_handle': 'EVA'}, {'id': {'type': 'subsnp', 'value': 'ss5458943725'}, 'revision_added': '156', 'create_date': '2022-10-13T06:32Z', 'submitter_handle': 'HUGCELL_USP'}, {'id': {'type': 'subsnp', 'value': 'ss5507643552'}, 'revision_added': '156', 'create_date': '2022-10-13T06:32Z', 'submitter_handle': 'EVA'}, {'id': {'type': 'subsnp', 'value': 'ss5541977751'}, 'revision_added': '156', 'create_date': '2022-10-13T06:32Z', 'submitter_handle': '1000G_HIGH_COVERAGE'}, {'id': {'type': 'subsnp', 'value': 'ss5635674117'}, 'revision_added': '156', 'create_date': '2022-10-13T06:32Z', 'submitter_handle': 'SANFORD_IMAGENETICS'}, {'id': {'type': 'subsnp', 'value': 'ss5701832402'}, 'revision_added': '156', 'create_date': '2022-10-13T06:32Z', 'submitter_handle': 'TOMMO_GENOMICS'}, {'id': {'type': 'subsnp', 'value': 'ss5799622398'}, 'revision_added': '156', 'create_date': '2022-10-13T06:32Z', 'submitter_handle': 'EVA'}, {'id': {'type': 'subsnp', 'value': 'ss5805357132'}, 'revision_added': '156', 'create_date': '2022-10-13T06:32Z', 'submitter_handle': 'YY_MCH'}, {'id': {'type': 'subsnp', 'value': 'ss5844430543'}, 'revision_added': '156', 'create_date': '2022-10-13T06:32Z', 'submitter_handle': 'EVA'}, {'id': {'type': 'subsnp', 'value': 'ss5854357880'}, 'revision_added': '156', 'create_date': '2022-10-13T06:32Z', 'submitter_handle': 'EVA'}, {'id': {'type': 'subsnp', 'value': 'ss5864693476'}, 'revision_added': '156', 'create_date': '2022-10-13T06:32Z', 'submitter_handle': 'EVA'}, {'id': {'type': 'subsnp', 'value': 'ss5964065442'}, 'revision_added': '156', 'create_date': '2022-10-13T06:32Z', 'submitter_handle': 'EVA'}, {'id': {'type': 'frequency', 'value': '1000Genomes.1:22439038'}, 'revision_added': '152', 'create_date': '2018-10-12T06:53Z', 'submitter_handle': '1000Genomes'}, {'id': {'type': 'frequency', 'value': '1000Genomes.2:29503686'}, 'revision_added': '156', 'create_date': '2022-10-13T06:32Z', 'submitter_handle': '1000Genomes'}, {'id': {'type': 'frequency', 'value': 'ALSPAC.1:12483450'}, 'revision_added': '152', 'create_date': '2018-10-12T06:53Z', 'submitter_handle': 'ALSPAC'}, {'id': {'type': 'frequency', 'value': 'Estonian.1:8852503'}, 'revision_added': '152', 'create_date': '2018-10-12T06:53Z', 'submitter_handle': 'Estonian'}, {'id': {'type': 'frequency', 'value': 'GENOME_DK.1:6854480'}, 'revision_added': '154', 'create_date': '2020-04-26T05:47Z', 'submitter_handle': 'GENOME_DK'}, {'id': {'type': 'frequency', 'value': 'GnomAD.3:158958645'}, 'revision_added': '155', 'create_date': '2021-04-26T08:07Z', 'submitter_handle': 'GnomAD'}, {'id': {'type': 'frequency', 'value': 'GoNL.5:5518791'}, 'revision_added': '154', 'create_date': '2020-04-26T05:47Z', 'submitter_handle': 'GoNL'}, {'id': {'type': 'frequency', 'value': 'HapMap.3:2671161'}, 'revision_added': '154', 'create_date': '2020-04-26T05:47Z', 'submitter_handle': 'HapMap'}, {'id': {'type': 'frequency', 'value': 'KOREAN.1:13074179'}, 'revision_added': '154', 'create_date': '2020-04-26T05:47Z', 'submitter_handle': 'KOREAN'}, {'id': {'type': 'frequency', 'value': 'NorthernSweden.1:4711044'}, 'revision_added': '153', 'create_date': '2019-07-13T09:02Z', 'submitter_handle': 'NorthernSweden'}, {'id': {'type': 'frequency', 'value': 'Qatari.1:5736874'}, 'revision_added': '154', 'create_date': '2020-04-26T05:47Z', 'submitter_handle': 'Qatari'}, {'id': {'type': 'frequency', 'value': 'SGDP_PRJ.1:11636512'}, 'revision_added': '154', 'create_date': '2020-04-26T05:47Z', 'submitter_handle': 'SGDP_PRJ'}, {'id': {'type': 'frequency', 'value': 'Siberian.1:3079320'}, 'revision_added': '154', 'create_date': '2020-04-26T05:47Z', 'submitter_handle': 'Siberian'}, {'id': {'type': 'frequency', 'value': 'TOMMO.1:25065235'}, 'revision_added': '155', 'create_date': '2021-04-26T08:07Z', 'submitter_handle': 'TOMMO'}, {'id': {'type': 'frequency', 'value': 'TOMMO.2:35669506'}, 'revision_added': '156', 'create_date': '2022-10-13T06:32Z', 'submitter_handle': 'TOMMO'}, {'id': {'type': 'frequency', 'value': 'TOPMED.3:462171274'}, 'revision_added': '155', 'create_date': '2021-04-26T08:07Z', 'submitter_handle': 'TOPMED'}, {'id': {'type': 'frequency', 'value': 'TWINSUK.1:12483450'}, 'revision_added': '152', 'create_date': '2018-10-12T06:53Z', 'submitter_handle': 'TWINSUK'}, {'id': {'type': 'frequency', 'value': 'Vietnamese.1:2746388'}, 'revision_added': '153', 'create_date': '2019-07-13T09:02Z', 'submitter_handle': 'Vietnamese'}, {'id': {'type': 'frequency', 'value': 'dbGaP_PopFreq.1:7792100058'}, 'revision_added': '155', 'create_date': '2021-04-26T08:07Z', 'submitter_handle': 'dbGaP_PopFreq'}], 'anchor': 'NC_000004.12:0099878803:1:snv', 'variant_type': 'snv', 'ga4gh': {'NC_000004.11:100799960:T:C': {'location': {'type': 'SequenceLocation', 'interval': {'type': 'SimpleInterval', 'start': 100799960, 'end': 100799961}, 'sequence_id': 'refseq:NC_000004.11'}, 'state': {'type': 'SequenceState', 'sequence': 'C'}, 'type': 'Allele'}, 'NC_000004.11:100799960:T:T': {'location': {'type': 'SequenceLocation', 'interval': {'type': 'SimpleInterval', 'start': 100799960, 'end': 100799961}, 'sequence_id': 'refseq:NC_000004.11'}, 'state': {'type': 'SequenceState', 'sequence': 'T'}, 'type': 'Allele'}, 'NC_000004.12:99878803:T:C': {'location': {'type': 'SequenceLocation', 'interval': {'type': 'SimpleInterval', 'start': 99878803, 'end': 99878804}, 'sequence_id': 'refseq:NC_000004.12'}, 'state': {'type': 'SequenceState', 'sequence': 'C'}, 'type': 'Allele'}, 'NC_000004.12:99878803:T:T': {'location': {'type': 'SequenceLocation', 'interval': {'type': 'SimpleInterval', 'start': 99878803, 'end': 99878804}, 'sequence_id': 'refseq:NC_000004.12'}, 'state': {'type': 'SequenceState', 'sequence': 'T'}, 'type': 'Allele'}, 'NM_001243736.1:3792:A:A': {'location': {'type': 'SequenceLocation', 'interval': {'type': 'SimpleInterval', 'start': 3792, 'end': 3793}, 'sequence_id': 'refseq:NM_001243736.1'}, 'state': {'type': 'SequenceState', 'sequence': 'A'}, 'type': 'Allele'}, 'NM_001243736.1:3792:A:G': {'location': {'type': 'SequenceLocation', 'interval': {'type': 'SimpleInterval', 'start': 3792, 'end': 3793}, 'sequence_id': 'refseq:NM_001243736.1'}, 'state': {'type': 'SequenceState', 'sequence': 'G'}, 'type': 'Allele'}, 'NM_021970.3:3813:A:A': {'location': {'type': 'SequenceLocation', 'interval': {'type': 'SimpleInterval', 'start': 3813, 'end': 3814}, 'sequence_id': 'refseq:NM_021970.3'}, 'state': {'type': 'SequenceState', 'sequence': 'A'}, 'type': 'Allele'}, 'NM_021970.3:3813:A:G': {'location': {'type': 'SequenceLocation', 'interval': {'type': 'SimpleInterval', 'start': 3813, 'end': 3814}, 'sequence_id': 'refseq:NM_021970.3'}, 'state': {'type': 'SequenceState', 'sequence': 'G'}, 'type': 'Allele'}, 'NM_021970.4:3694:A:A': {'location': {'type': 'SequenceLocation', 'interval': {'type': 'SimpleInterval', 'start': 3694, 'end': 3695}, 'sequence_id': 'refseq:NM_021970.4'}, 'state': {'type': 'SequenceState', 'sequence': 'A'}, 'type': 'Allele'}, 'NM_021970.4:3694:A:G': {'location': {'type': 'SequenceLocation', 'interval': {'type': 'SimpleInterval', 'start': 3694, 'end': 3695}, 'sequence_id': 'refseq:NM_021970.4'}, 'state': {'type': 'SequenceState', 'sequence': 'G'}, 'type': 'Allele'}, 'NR_024170.1:3767:A:A': {'location': {'type': 'SequenceLocation', 'interval': {'type': 'SimpleInterval', 'start': 3767, 'end': 3768}, 'sequence_id': 'refseq:NR_024170.1'}, 'state': {'type': 'SequenceState', 'sequence': 'A'}, 'type': 'Allele'}, 'NR_024170.1:3767:A:G': {'location': {'type': 'SequenceLocation', 'interval': {'type': 'SimpleInterval', 'start': 3767, 'end': 3768}, 'sequence_id': 'refseq:NR_024170.1'}, 'state': {'type': 'SequenceState', 'sequence': 'G'}, 'type': 'Allele'}}}, 'mane_select_ids': ['NM_021970.4']}\n"
     ]
    }
   ],
   "source": [
    "import requests\n",
    "# Change it so that it can use the following ProteinMutation_p_R450H_RS_189261858\n",
    "def fetch_dbsnp(rs_id):\n",
    "    url = f\"https://api.ncbi.nlm.nih.gov/variation/v0/beta/refsnp/{rs_id}\"\n",
    "    response = requests.get(url)\n",
    "    print(response.status_code)\n",
    "    # print(response.text)\n",
    "    if response.status_code == 200:\n",
    "        return response.json()\n",
    "    else:\n",
    "        return None\n",
    "\n",
    "# Test\n",
    "print(fetch_dbsnp(\"11944405\"))"
   ]
  },
  {
   "cell_type": "code",
   "execution_count": 10,
   "metadata": {},
   "outputs": [
    {
     "data": {
      "text/plain": [
       "{'chromosome': '11944405',\n",
       " 'snps': [[{'allele': {'spdi': {'seq_id': 'NC_000004.12',\n",
       "      'position': 99878803,\n",
       "      'deleted_sequence': 'T',\n",
       "      'inserted_sequence': 'T'}},\n",
       "    'hgvs': 'NC_000004.12:g.99878804='},\n",
       "   {'allele': {'spdi': {'seq_id': 'NC_000004.12',\n",
       "      'position': 99878803,\n",
       "      'deleted_sequence': 'T',\n",
       "      'inserted_sequence': 'C'}},\n",
       "    'hgvs': 'NC_000004.12:g.99878804T>C'}],\n",
       "  [{'allele': {'spdi': {'seq_id': 'NC_000004.11',\n",
       "      'position': 100799960,\n",
       "      'deleted_sequence': 'T',\n",
       "      'inserted_sequence': 'T'}},\n",
       "    'hgvs': 'NC_000004.11:g.100799961='},\n",
       "   {'allele': {'spdi': {'seq_id': 'NC_000004.11',\n",
       "      'position': 100799960,\n",
       "      'deleted_sequence': 'T',\n",
       "      'inserted_sequence': 'C'}},\n",
       "    'hgvs': 'NC_000004.11:g.100799961T>C'}],\n",
       "  [{'allele': {'spdi': {'seq_id': 'NM_021970.4',\n",
       "      'position': 3694,\n",
       "      'deleted_sequence': 'A',\n",
       "      'inserted_sequence': 'A'}},\n",
       "    'hgvs': 'NM_021970.4:c.*3190='},\n",
       "   {'allele': {'spdi': {'seq_id': 'NM_021970.4',\n",
       "      'position': 3694,\n",
       "      'deleted_sequence': 'A',\n",
       "      'inserted_sequence': 'G'}},\n",
       "    'hgvs': 'NM_021970.4:c.*3190A>G'}],\n",
       "  [{'allele': {'spdi': {'seq_id': 'NM_021970.3',\n",
       "      'position': 3813,\n",
       "      'deleted_sequence': 'A',\n",
       "      'inserted_sequence': 'A'}},\n",
       "    'hgvs': 'NM_021970.3:c.*3190='},\n",
       "   {'allele': {'spdi': {'seq_id': 'NM_021970.3',\n",
       "      'position': 3813,\n",
       "      'deleted_sequence': 'A',\n",
       "      'inserted_sequence': 'G'}},\n",
       "    'hgvs': 'NM_021970.3:c.*3190A>G'}],\n",
       "  [{'allele': {'spdi': {'seq_id': 'NM_001243736.1',\n",
       "      'position': 3792,\n",
       "      'deleted_sequence': 'A',\n",
       "      'inserted_sequence': 'A'}},\n",
       "    'hgvs': 'NM_001243736.1:c.*3190='},\n",
       "   {'allele': {'spdi': {'seq_id': 'NM_001243736.1',\n",
       "      'position': 3792,\n",
       "      'deleted_sequence': 'A',\n",
       "      'inserted_sequence': 'G'}},\n",
       "    'hgvs': 'NM_001243736.1:c.*3190A>G'}],\n",
       "  [{'allele': {'spdi': {'seq_id': 'NR_024170.1',\n",
       "      'position': 3767,\n",
       "      'deleted_sequence': 'A',\n",
       "      'inserted_sequence': 'A'}},\n",
       "    'hgvs': 'NR_024170.1:n.3768='},\n",
       "   {'allele': {'spdi': {'seq_id': 'NR_024170.1',\n",
       "      'position': 3767,\n",
       "      'deleted_sequence': 'A',\n",
       "      'inserted_sequence': 'G'}},\n",
       "    'hgvs': 'NR_024170.1:n.3768A>G'}]],\n",
       " 'gene': ['late endosomal/lysosomal adaptor, MAPK and MTOR activator 3']}"
      ]
     },
     "execution_count": 10,
     "metadata": {},
     "output_type": "execute_result"
    }
   ],
   "source": [
    "# Turn json object from fetch_dbsnp(\"189261858\") into a python dictionary\n",
    "def parse_dbsnp(dbsnp_json):\n",
    "    if dbsnp_json:\n",
    "        gene_set = set()\n",
    "        if 'primary_snapshot_data' in dbsnp_json:\n",
    "            if 'allele_annotations' in dbsnp_json['primary_snapshot_data']:\n",
    "                for alle_annotation in dbsnp_json[\"primary_snapshot_data\"][\"allele_annotations\"]:\n",
    "                    if 'assembly_annotation' in alle_annotation:\n",
    "                        for assembly_annotation in alle_annotation[\"assembly_annotation\"]:\n",
    "                            if 'genes' in assembly_annotation:\n",
    "                                for gene in assembly_annotation['genes']:\n",
    "                                    if 'name' in gene:\n",
    "                                        gene_set.add(gene['name'])\n",
    "        snps_list = []\n",
    "        if 'primary_snapshot_data' in dbsnp_json:\n",
    "            if 'placements_with_allele' in dbsnp_json['primary_snapshot_data']:\n",
    "                for placements_with_allele in dbsnp_json[\"primary_snapshot_data\"][\"placements_with_allele\"]:\n",
    "                    if 'alleles' in placements_with_allele:\n",
    "                        snps_list.append(placements_with_allele['alleles'])\n",
    "        return {\n",
    "            \"chromosome\": dbsnp_json[\"refsnp_id\"],\n",
    "            \"snps\": snps_list,\n",
    "            \"gene\": list(gene_set)\n",
    "        }\n",
    "    else:\n",
    "        return None\n",
    "\n",
    "# Json object from fetch_dbsnp(\"189261858\")\n",
    "fetch_dbsnp(\"11944405\")"
   ]
  },
  {
   "cell_type": "code",
   "execution_count": 17,
   "metadata": {},
   "outputs": [
    {
     "name": "stdout",
     "output_type": "stream",
     "text": [
      "200\n",
      "{\"header\":{\"type\":\"esummary\",\"version\":\"0.3\"},\"result\":{\"uids\":[\"6535\"],\"6535\":{\"uid\":\"6535\",\"name\":\"SLC6A8\",\"description\":\"solute carrier family 6 member 8\",\"status\":\"\",\"currentid\":\"\",\"chromosome\":\"X\",\"geneticsource\":\"genomic\",\"maplocation\":\"Xq28\",\"otheraliases\":\"CCDS1, CRT, CRT-1, CRT1, CRTR, CT1, CTR5\",\"otherdesignations\":\"sodium- and chloride-dependent creatine transporter 1|creatine transporter 1|solute carrier family 6 (neurotransmitter transporter), member 8|solute carrier family 6 (neurotransmitter transporter, creatine), member 8\",\"nomenclaturesymbol\":\"SLC6A8\",\"nomenclaturename\":\"solute carrier family 6 member 8\",\"nomenclaturestatus\":\"Official\",\"mim\":[\"300036\"],\"genomicinfo\":[{\"chrloc\":\"X\",\"chraccver\":\"NC_000023.11\",\"chrstart\":153687925,\"chrstop\":153696592,\"exoncount\":14}],\"geneweight\":8658,\"summary\":\"The protein encoded by this gene is a plasma membrane protein whose function is to transport creatine into and out of cells. Defects in this gene can result in X-linked creatine deficiency syndrome. Multiple transcript variants encoding different isoforms have been found for this gene. [provided by RefSeq, Dec 2008]\",\"chrsort\":\"X\",\"chrstart\":153687925,\"organism\":{\"scientificname\":\"Homo sapiens\",\"commonname\":\"human\",\"taxid\":9606},\"locationhist\":[{\"annotationrelease\":\"RS_2023_03\",\"assemblyaccver\":\"GCF_000001405.40\",\"chraccver\":\"NC_000023.11\",\"chrstart\":153687925,\"chrstop\":153696592},{\"annotationrelease\":\"RS_2023_03\",\"assemblyaccver\":\"GCF_009914755.1\",\"chraccver\":\"NC_060947.1\",\"chrstart\":151961590,\"chrstop\":151970259},{\"annotationrelease\":\"110\",\"assemblyaccver\":\"GCF_000001405.40\",\"chraccver\":\"NC_000023.11\",\"chrstart\":153687925,\"chrstop\":153696592},{\"annotationrelease\":\"110\",\"assemblyaccver\":\"GCF_009914755.1\",\"chraccver\":\"NC_060947.1\",\"chrstart\":151961590,\"chrstop\":151970259},{\"annotationrelease\":\"109.20211119\",\"assemblyaccver\":\"GCF_000001405.39\",\"chraccver\":\"NC_000023.11\",\"chrstart\":153687925,\"chrstop\":153696592},{\"annotationrelease\":\"109.20210514\",\"assemblyaccver\":\"GCF_000001405.39\",\"chraccver\":\"NC_000023.11\",\"chrstart\":153687925,\"chrstop\":153696592},{\"annotationrelease\":\"109.20210226\",\"assemblyaccver\":\"GCF_000001405.39\",\"chraccver\":\"NC_000023.11\",\"chrstart\":153687925,\"chrstop\":153696592},{\"annotationrelease\":\"109.20201120\",\"assemblyaccver\":\"GCF_000001405.39\",\"chraccver\":\"NC_000023.11\",\"chrstart\":153687925,\"chrstop\":153696592},{\"annotationrelease\":\"109.20200815\",\"assemblyaccver\":\"GCF_000001405.39\",\"chraccver\":\"NC_000023.11\",\"chrstart\":153687925,\"chrstop\":153696592},{\"annotationrelease\":\"109.20200522\",\"assemblyaccver\":\"GCF_000001405.39\",\"chraccver\":\"NC_000023.11\",\"chrstart\":153687925,\"chrstop\":153696592},{\"annotationrelease\":\"109.20200228\",\"assemblyaccver\":\"GCF_000001405.39\",\"chraccver\":\"NC_000023.11\",\"chrstart\":153687925,\"chrstop\":153696592},{\"annotationrelease\":\"109.20191205\",\"assemblyaccver\":\"GCF_000001405.39\",\"chraccver\":\"NC_000023.11\",\"chrstart\":153687925,\"chrstop\":153696592},{\"annotationrelease\":\"109.20190905\",\"assemblyaccver\":\"GCF_000001405.39\",\"chraccver\":\"NC_000023.11\",\"chrstart\":153687925,\"chrstop\":153696592},{\"annotationrelease\":\"109.20190607\",\"assemblyaccver\":\"GCF_000001405.39\",\"chraccver\":\"NC_000023.11\",\"chrstart\":153687925,\"chrstop\":153696592},{\"annotationrelease\":\"105.20220307\",\"assemblyaccver\":\"GCF_000001405.25\",\"chraccver\":\"NC_000023.10\",\"chrstart\":152953380,\"chrstop\":152962047},{\"annotationrelease\":\"105.20220307\",\"assemblyaccver\":\"GCF_000001405.25\",\"chraccver\":\"NW_003871103.3\",\"chrstart\":1121908,\"chrstop\":1130575},{\"annotationrelease\":\"105.20201022\",\"assemblyaccver\":\"GCF_000001405.25\",\"chraccver\":\"NC_000023.10\",\"chrstart\":152953380,\"chrstop\":152962047},{\"annotationrelease\":\"105.20201022\",\"assemblyaccver\":\"GCF_000001405.25\",\"chraccver\":\"NW_003871103.3\",\"chrstart\":1121908,\"chrstop\":1130575},{\"annotationrelease\":\"105\",\"assemblyaccver\":\"GCF_000001405.25\",\"chraccver\":\"NC_000023.10\",\"chrstart\":152953751,\"chrstop\":152962047},{\"annotationrelease\":\"105\",\"assemblyaccver\":\"GCF_000001405.25\",\"chraccver\":\"NW_003871103.3\",\"chrstart\":1122279,\"chrstop\":1130575},{\"annotationrelease\":\"105\",\"assemblyaccver\":\"GCF_000002125.1\",\"chraccver\":\"AC_000155.1\",\"chrstart\":141612841,\"chrstop\":141619132},{\"annotationrelease\":\"105\",\"assemblyaccver\":\"GCF_000306695.2\",\"chraccver\":\"NC_018934.2\",\"chrstart\":152828181,\"chrstop\":152836458}]}}}\n",
      "\n",
      "solute carrier family 6 member 8\n"
     ]
    }
   ],
   "source": [
    "# Change to use DNAMutation_c_1324delC_CorrespondingGene_6535\n",
    "# Reuse fetch_entrez_gene()\n",
    "print(fetch_entrez_gene(\"6535\"))"
   ]
  },
  {
   "cell_type": "code",
   "execution_count": 20,
   "metadata": {},
   "outputs": [
    {
     "name": "stdout",
     "output_type": "stream",
     "text": [
      "M58373\n"
     ]
    }
   ],
   "source": [
    "# Change to use Chemical_MESH_C511970\n",
    "print(fetch_mesh_descriptor(\"C511970\"))"
   ]
  },
  {
   "attachments": {},
   "cell_type": "markdown",
   "metadata": {},
   "source": [
    "According to the PubTator Central documentation, a domain motif entity is defined as “a conserved part of a given protein sequence and structure that can evolve, function, and exist independently of the rest of the protein chain\""
   ]
  },
  {
   "cell_type": "code",
   "execution_count": 34,
   "metadata": {},
   "outputs": [
    {
     "name": "stdout",
     "output_type": "stream",
     "text": [
      "Homo sapiens\n"
     ]
    }
   ],
   "source": [
    "def fetch_ncbi_taxonomy(taxonomy_id):\n",
    "    url = f\"https://eutils.ncbi.nlm.nih.gov/entrez/eutils/esummary.fcgi?db=taxonomy&id={taxonomy_id}\"\n",
    "    response = requests.get(url)\n",
    "    # print(response.status_code)\n",
    "    # print(response.text)\n",
    "    if response.status_code == 200:\n",
    "        root = ET.fromstring(response.content)\n",
    "        return root.find(\"DocSum/Item[@Name='ScientificName']\").text\n",
    "    else:\n",
    "        return None\n",
    "\n",
    "# Test\n",
    "print(fetch_ncbi_taxonomy(\"9606\"))"
   ]
  },
  {
   "attachments": {},
   "cell_type": "markdown",
   "metadata": {},
   "source": [
    "## Domain Motif\n",
    "The following code is my attempt to find an API for DomainMotif_Focus_9606_7003_7004. I can't find it, so I'm skiping it for now."
   ]
  },
  {
   "cell_type": "code",
   "execution_count": 35,
   "metadata": {},
   "outputs": [
    {
     "name": "stdout",
     "output_type": "stream",
     "text": [
      "200\n",
      "{\"metadata\":{\"accession\":\"IPR001849\",\"entry_id\":null,\"type\":\"domain\",\"go_terms\":null,\"source_database\":\"interpro\",\"member_databases\":{\"pfam\":{\"PF16457\":\"Pleckstrin homology domain\",\"PF16652\":\"Pleckstrin homology domain\",\"PF00169\":\"PH domain\"},\"profile\":{\"PS50003\":\"PH domain profile\"},\"smart\":{\"SM00233\":\"Pleckstrin homology domain.\"}},\"integrated\":null,\"hierarchy\":{\"accession\":\"IPR001849\",\"name\":\"Pleckstrin homology domain\",\"type\":\"Domain\",\"children\":[{\"accession\":\"IPR001605\",\"name\":\"Pleckstrin homology domain, spectrin-type\",\"type\":\"Domain\",\"children\":[]},{\"accession\":\"IPR024774\",\"name\":\"Pleckstrin homology domain, Mcp5-type\",\"type\":\"Domain\",\"children\":[]},{\"accession\":\"IPR033511\",\"name\":\"Rho guanine nucleotide exchange factor Cdc24/Scd1, PH domain\",\"type\":\"Domain\",\"children\":[]},{\"accession\":\"IPR035534\",\"name\":\"DBS, PH domain\",\"type\":\"Domain\",\"children\":[]},{\"accession\":\"IPR035939\",\"name\":\"FGD1, N-terminal PH domain\",\"type\":\"Domain\",\"children\":[]},{\"accession\":\"IPR035941\",\"name\":\"FGD1-4, C-terminal PH domain\",\"type\":\"Domain\",\"children\":[]},{\"accession\":\"IPR037743\",\"name\":\"FGD6, N-terminal PH domain\",\"type\":\"Domain\",\"children\":[]},{\"accession\":\"IPR037744\",\"name\":\"ARHGEF18, PH domain\",\"type\":\"Domain\",\"children\":[]},{\"accession\":\"IPR037747\",\"name\":\"Dok-7, PH domain\",\"type\":\"Domain\",\"children\":[]},{\"accession\":\"IPR037773\",\"name\":\"RASA2, PH domain\",\"type\":\"Domain\",\"children\":[]},{\"accession\":\"IPR037774\",\"name\":\"RASA3, PH domain\",\"type\":\"Domain\",\"children\":[]},{\"accession\":\"IPR037777\",\"name\":\"RASA4, PH domain\",\"type\":\"Domain\",\"children\":[]},{\"accession\":\"IPR037779\",\"name\":\"SynGAP, PH domain\",\"type\":\"Domain\",\"children\":[]},{\"accession\":\"IPR037797\",\"name\":\"FGD2, N-terminal PH domain\",\"type\":\"Domain\",\"children\":[]},{\"accession\":\"IPR037801\",\"name\":\"ARHGEF12, PH domain\",\"type\":\"Domain\",\"children\":[]},{\"accession\":\"IPR037803\",\"name\":\"Rho guanine nucleotide exchange factor 11, PH domain\",\"type\":\"Domain\",\"children\":[]},{\"accession\":\"IPR037806\",\"name\":\"ARHGEF2, PH domain\",\"type\":\"Domain\",\"children\":[]},{\"accession\":\"IPR037810\",\"name\":\"PHLDB1/2/3, PH domain\",\"type\":\"Domain\",\"children\":[]},{\"accession\":\"IPR037812\",\"name\":\"PLEKHM3, PH domain 1\",\"type\":\"Domain\",\"children\":[]},{\"accession\":\"IPR037816\",\"name\":\"DOK4/5/6, PH domain\",\"type\":\"Domain\",\"children\":[]},{\"accession\":\"IPR037819\",\"name\":\"ARHGEF28, PH domain\",\"type\":\"Domain\",\"children\":[]},{\"accession\":\"IPR037832\",\"name\":\"Vav, PH domain\",\"type\":\"Domain\",\"children\":[]},{\"accession\":\"IPR037837\",\"name\":\"Kindlin/fermitin, PH domain\",\"type\":\"Domain\",\"children\":[]},{\"accession\":\"IPR037839\",\"name\":\"PLEKHN1, PH domain\",\"type\":\"Domain\",\"children\":[]},{\"accession\":\"IPR037840\",\"name\":\"Anillin, PH domain\",\"type\":\"Domain\",\"children\":[]},{\"accession\":\"IPR037844\",\"name\":\"ASAP, PH domain\",\"type\":\"Domain\",\"children\":[]},{\"accession\":\"IPR037849\",\"name\":\"ADAP, PH domain 1\",\"type\":\"Domain\",\"children\":[]},{\"accession\":\"IPR037851\",\"name\":\"ADAP, PH domain 2\",\"type\":\"Domain\",\"children\":[]},{\"accession\":\"IPR037853\",\"name\":\"Net1, PH domain\",\"type\":\"Domain\",\"children\":[]},{\"accession\":\"IPR037865\",\"name\":\"Active breakpoint cluster region-related protein, PH domain\",\"type\":\"Domain\",\"children\":[]},{\"accession\":\"IPR039026\",\"name\":\"Protein Kinase B, pleckstrin homology domain\",\"type\":\"Domain\",\"children\":[]},{\"accession\":\"IPR039483\",\"name\":\"Meiotic expression up-regulated protein 6, PH domain\",\"type\":\"Domain\",\"children\":[]},{\"accession\":\"IPR039486\",\"name\":\"Mug56/Spo71, PH domain\",\"type\":\"Domain\",\"children\":[]},{\"accession\":\"IPR039597\",\"name\":\"Myosin phosphatase-RhoA interacting protein, PH domain\",\"type\":\"Domain\",\"children\":[]},{\"accession\":\"IPR039665\",\"name\":\"APBB1IP, PH domain\",\"type\":\"Domain\",\"children\":[]},{\"accession\":\"IPR040392\",\"name\":\"PKHA4-7, PH domain\",\"type\":\"Domain\",\"children\":[]},{\"accession\":\"IPR041020\",\"name\":\"ARHGEF1-like, PH domain\",\"type\":\"Domain\",\"children\":[]},{\"accession\":\"IPR041675\",\"name\":\"Pleckstrin homology domain 5\",\"type\":\"Domain\",\"children\":[]},{\"accession\":\"IPR041680\",\"name\":\"Pleckstrin homology domain 8\",\"type\":\"Domain\",\"children\":[]},{\"accession\":\"IPR041681\",\"name\":\"Pleckstrin homology domain 9\",\"type\":\"Domain\",\"children\":[]},{\"accession\":\"IPR042067\",\"name\":\"Sip3, PH domain\",\"type\":\"Domain\",\"children\":[]},{\"accession\":\"IPR042827\",\"name\":\"PLEKHM1, PH domain\",\"type\":\"Domain\",\"children\":[]},{\"accession\":\"IPR043324\",\"name\":\"PKHG1/2/3, pleckstrin homology (PH) domain\",\"type\":\"Domain\",\"children\":[]},{\"accession\":\"IPR043453\",\"name\":\"Slm1, PH domain\",\"type\":\"Domain\",\"children\":[]},{\"accession\":\"IPR044129\",\"name\":\"Rho guanine nucleotide exchange factor 3, PH domain\",\"type\":\"Domain\",\"children\":[]},{\"accession\":\"IPR046376\",\"name\":\"RhoGEF 6/7, PH domain\",\"type\":\"Domain\",\"children\":[]},{\"accession\":\"IPR046869\",\"name\":\"SLM1/RGC1-like, PH domain\",\"type\":\"Domain\",\"children\":[]},{\"accession\":\"IPR047054\",\"name\":\"Kalirin/Triple functional domain protein, pleckstrin homology (PH) domain 1\",\"type\":\"Domain\",\"children\":[]},{\"accession\":\"IPR047225\",\"name\":\"GRAF, PH domain\",\"type\":\"Domain\",\"children\":[]},{\"accession\":\"IPR047236\",\"name\":\"DCC-interacting protein 13-alpha/beta, PH domain\",\"type\":\"Domain\",\"children\":[]}]},\"name\":{\"name\":\"Pleckstrin homology domain\",\"short\":\"PH_domain\"},\"description\":[\"<p>Pleckstrin homology (PH) domains are small modular domains that occur in a large variety of proteins and they have diverse functions, but in general are involved in targeting proteins to the appropriate cellular location or in the interaction with a binding partner, enabling them to interact with other components of signal transduction pathways. They share little sequence conservation, but all have a common fold, which is electrostatically polarised. The domains can bind phosphatidylinositol within biological membranes and proteins such as the beta/gamma subunits of heterotrimeric G proteins [[cite:PUB00057292]] and protein kinase C [[cite:PUB00057293]]. PH domains are distinguished from other PIP-binding domains by their specific high-affinity binding to phosphoinositide phosphates (PIPs) with two vicinal phosphate groups: PtdIns(3,4)P2, PtdIns(4,5)P2 or PtdIns(3,4,5)P3 which results in targeting some PH domain proteins to the plasma membrane. A few display strong specificity in lipid binding. Any specificity is usually determined by loop regions or insertions in the N-terminal of the domain, which are not conserved across all PH domains [[cite:PUB00014130], [cite:PUB00080401], [cite:PUB00080402]].</p>\\n\\n<p>PH domains have been found to possess inserted domains (such as in PLC gamma, syntrophins) and to be inserted within other domains. Mutations in Brutons tyrosine kinase (Btk) within its PH domain cause X-linked agammaglobulinaemia (XLA) in patients. Point mutations cluster into the positively charged end of the molecule around the predicted binding site for phosphatidylinositol lipids.</p>\\n\\n<p>The 3D structure of several PH domains has been determined [[cite:PUB00003918]]. All known cases have a common structure consisting of two perpendicular anti-parallel β-sheets, followed by a C-terminal amphipathic helix. The loops connecting the β-strands differ greatly in length, making the PH domain relatively difficult to detect. There are no totally invariant residues within the PH domain.</p>\\n\\n<p>Proteins reported to contain one more PH domains belong to the following families:</p>\\n\\n<ul>\\n<li>Pleckstrin, the protein where this domain was first detected, is the major substrate of protein kinase C in platelets. Pleckstrin is one of the rare proteins to contains two PH domains.</li>\\n<li>Ser/Thr protein kinases such as the Akt/Rac family, the beta-adrenergic receptor kinases, the mu isoform of PKC and the trypanosomal NrkA family.</li>\\n<li>Tyrosine protein kinases belonging to the Btk/Itk/Tec subfamily.</li>\\n<li>Insulin Receptor Substrate 1 (IRS-1).</li>\\n<li>Regulators of small G-proteins like guanine nucleotide releasing factor GNRP (Ras-GRF) (which contains 2 PH domains), guanine nucleotide exchange proteins like vav, dbl, SoS and Saccharomyces cerevisiae CDC24, GTPase activating proteins like rasGAP and BEM2/IPL2, and the human break point cluster protein bcr.</li>\\n<li>Cytoskeletal proteins such as dynamin (see [interpro:IPR001401]), Caenorhabditis elegans kinesin-like protein unc-104 (see [interpro:IPR001752]), spectrin beta-chain, syntrophin (2 PH domains) and S. cerevisiae nuclear migration protein NUM1.</li>\\n<li>Mammalian phosphatidylinositol-specific phospholipase C (PI-PLC) (see [interpro:IPR000909]) isoforms gamma and delta. Isoform gamma contains two PH domains, the second one is split into two parts separated by about 400 residues.</li>\\n<li>Oxysterol binding proteins OSBP, S. cerevisiae OSH1 and YHR073w.</li>\\n<li>Mouse protein citron, a putative rho/rac effector that binds to the GTP-bound forms of rho and rac.</li>\\n<li>Several S. cerevisiae proteins involved in cell cycle regulation and bud formation like BEM2, BEM3, BUD4 and the BEM1-binding proteins BOI2 (BEB1) and BOI1 (BOB1).</li>\\n<li>C. elegans protein MIG-10.</li>\\n<li>C. elegans hypothetical proteins C04D8.1, K06H7.4 and ZK632.12.</li>\\n<li>S. cerevisiae hypothetical proteins YBR129c and YHR155w.</li>\\n</ul>\"],\"wikipedia\":null,\"literature\":{\"PUB00057293\":{\"PMID\":7522330,\"ISBN\":null,\"volume\":\"91\",\"issue\":\"19\",\"year\":1994,\"title\":\"The pleckstrin homology domain of Bruton tyrosine kinase interacts with protein kinase C.\",\"URL\":null,\"raw_pages\":\"9175-9\",\"medline_journal\":\"Proc Natl Acad Sci U S A\",\"ISO_journal\":\"Proc. Natl. Acad. Sci. U.S.A.\",\"authors\":[\"Yao L\",\"Kawakami Y\",\"Kawakami T.\"],\"DOI_URL\":\"http://dx.doi.org/10.1073/pnas.91.19.9175\"},\"PUB00057292\":{\"PMID\":8074669,\"ISBN\":null,\"volume\":\"203\",\"issue\":\"1\",\"year\":1994,\"title\":\"Binding of PH domains of beta-adrenergic receptor kinase and beta-spectrin to WD40/beta-transducin repeat containing regions of the beta-subunit of trimeric G-proteins.\",\"URL\":null,\"raw_pages\":\"29-35\",\"medline_journal\":\"Biochem Biophys Res Commun\",\"ISO_journal\":\"Biochem. Biophys. Res. Commun.\",\"authors\":[\"Wang DS\",\"Shaw R\",\"Winkelmann JC\",\"Shaw G.\"],\"DOI_URL\":\"http://dx.doi.org/10.1006/bbrc.1994.2144\"},\"PUB00003918\":{\"PMID\":7634082,\"ISBN\":null,\"volume\":\"1\",\"issue\":\"11\",\"year\":1994,\"title\":\"More meanders and sandwiches.\",\"URL\":null,\"raw_pages\":\"755-7\",\"medline_journal\":\"Nat Struct Biol\",\"ISO_journal\":\"Nat. Struct. Biol.\",\"authors\":[\"Riddihough G.\"],\"DOI_URL\":\"http://dx.doi.org/10.1038/nsb1194-755\"},\"PUB00080401\":{\"PMID\":22728242,\"ISBN\":null,\"volume\":\"586\",\"issue\":\"17\",\"year\":2012,\"title\":\"Pleckstrin homology (PH) like domains - versatile modules in protein-protein interaction platforms.\",\"URL\":null,\"raw_pages\":\"2662-73\",\"medline_journal\":\"FEBS Lett\",\"ISO_journal\":\"FEBS Lett.\",\"authors\":[\"Scheffzek K\",\"Welti S.\"],\"DOI_URL\":\"http://dx.doi.org/10.1016/j.febslet.2012.06.006\"},\"PUB00080402\":{\"PMID\":17233582,\"ISBN\":null,\"volume\":null,\"issue\":\"74\",\"year\":2007,\"title\":\"Pleckstrin homology (PH) domains and phosphoinositides.\",\"URL\":null,\"raw_pages\":\"81-93\",\"medline_journal\":\"Biochem Soc Symp\",\"ISO_journal\":\"Biochem. Soc. Symp.\",\"authors\":[\"Lemmon MA.\"],\"DOI_URL\":null},\"PUB00014130\":{\"PMID\":14594214,\"ISBN\":null,\"volume\":\"282\",\"issue\":null,\"year\":2004,\"title\":\"Membrane targeting by pleckstrin homology domains.\",\"URL\":null,\"raw_pages\":\"49-88\",\"medline_journal\":\"Curr Top Microbiol Immunol\",\"ISO_journal\":\"Curr. Top. Microbiol. Immunol.\",\"authors\":[\"Cozier GE\",\"Carlton J\",\"Bouyoucef D\",\"Cullen PJ.\"],\"DOI_URL\":null}},\"set_info\":null,\"overlaps_with\":[{\"accession\":\"IPR011993\",\"name\":\"PH-like domain superfamily\",\"type\":\"homologous_superfamily\"}],\"counters\":{\"subfamilies\":0,\"domain_architectures\":4857,\"interactions\":46,\"matches\":504038,\"pathways\":1011,\"proteins\":440250,\"proteomes\":3005,\"sets\":0,\"structural_models\":{\"alphafold\":244721,\"rosettafold\":0},\"structures\":367,\"taxa\":14390},\"entry_annotations\":{\"alignment:uniprot\":2928,\"alignment:full\":138379,\"alignment:seed\":111},\"cross_references\":{\"prositedoc\":{\"displayName\":\"prositedoc\",\"description\":\"PROSITE is a database of protein families and domains.\",\"rank\":18,\"accessions\":[{\"accession\":\"PDOC50003\",\"url\":\"http://prosite.expasy.org/PDOC50003\"}]},\"ec\":{\"displayName\":\"ec\",\"description\":\"ENZYME is a repository of information relative to the nomenclature of enzymes. It is primarily based on the recommendations of the Nomenclature Committee of the International Union of Biochemistry and Molecular Biology (IUBMB) and it describes each type of characterized enzyme for which an EC (Enzyme Commission) number has been provided.\",\"rank\":19,\"accessions\":[{\"accession\":\"2.4.1.173\",\"url\":\"http://www.ebi.ac.uk/intenz/query?cmd=SearchEC&ec=2.4.1.173\"},{\"accession\":\"2.7.1.107\",\"url\":\"http://www.ebi.ac.uk/intenz/query?cmd=SearchEC&ec=2.7.1.107\"},{\"accession\":\"2.7.10.2\",\"url\":\"http://www.ebi.ac.uk/intenz/query?cmd=SearchEC&ec=2.7.10.2\"},{\"accession\":\"2.7.11.1\",\"url\":\"http://www.ebi.ac.uk/intenz/query?cmd=SearchEC&ec=2.7.11.1\"},{\"accession\":\"2.7.11.13\",\"url\":\"http://www.ebi.ac.uk/intenz/query?cmd=SearchEC&ec=2.7.11.13\"},{\"accession\":\"2.7.11.15\",\"url\":\"http://www.ebi.ac.uk/intenz/query?cmd=SearchEC&ec=2.7.11.15\"},{\"accession\":\"2.7.11.16\",\"url\":\"http://www.ebi.ac.uk/intenz/query?cmd=SearchEC&ec=2.7.11.16\"},{\"accession\":\"3.1.3.16\",\"url\":\"http://www.ebi.ac.uk/intenz/query?cmd=SearchEC&ec=3.1.3.16\"},{\"accession\":\"3.1.4.11\",\"url\":\"http://www.ebi.ac.uk/intenz/query?cmd=SearchEC&ec=3.1.4.11\"},{\"accession\":\"3.1.4.4\",\"url\":\"http://www.ebi.ac.uk/intenz/query?cmd=SearchEC&ec=3.1.4.4\"},{\"accession\":\"3.6.5.5\",\"url\":\"http://www.ebi.ac.uk/intenz/query?cmd=SearchEC&ec=3.6.5.5\"}]}}}}\n",
      "{'name': 'Pleckstrin homology domain', 'short': 'PH_domain'}\n",
      "200\n",
      "{\"metadata\":{\"accession\":\"IPR000719\",\"entry_id\":null,\"type\":\"domain\",\"go_terms\":[{\"identifier\":\"GO:0004672\",\"name\":\"protein kinase activity\",\"category\":{\"code\":\"F\",\"name\":\"molecular_function\"}},{\"identifier\":\"GO:0005524\",\"name\":\"ATP binding\",\"category\":{\"code\":\"F\",\"name\":\"molecular_function\"}},{\"identifier\":\"GO:0006468\",\"name\":\"protein phosphorylation\",\"category\":{\"code\":\"P\",\"name\":\"biological_process\"}}],\"source_database\":\"interpro\",\"member_databases\":{\"profile\":{\"PS50011\":\"Protein kinase domain profile\"},\"pfam\":{\"PF00069\":\"Protein kinase domain\"},\"smart\":{\"SM00220\":\"Serine/Threonine protein kinases, catalytic domain\"}},\"integrated\":null,\"hierarchy\":{\"accession\":\"IPR000719\",\"name\":\"Protein kinase domain\",\"type\":\"Domain\",\"children\":[{\"accession\":\"IPR001245\",\"name\":\"Serine-threonine/tyrosine-protein kinase, catalytic domain\",\"type\":\"Domain\",\"children\":[{\"accession\":\"IPR020635\",\"name\":\"Tyrosine-protein kinase, catalytic domain\",\"type\":\"Domain\",\"children\":[{\"accession\":\"IPR028174\",\"name\":\"Fibroblast growth factor receptor 1, catalytic domain\",\"type\":\"Domain\",\"children\":[]},{\"accession\":\"IPR035588\",\"name\":\"Janus kinase 2, pseudokinase domain\",\"type\":\"Domain\",\"children\":[]},{\"accession\":\"IPR035589\",\"name\":\"Janus kinase 2, catalytic domain\",\"type\":\"Domain\",\"children\":[]},{\"accession\":\"IPR042785\",\"name\":\"Tyrosine-protein kinase ITK/TSK, catalytic domain\",\"type\":\"Domain\",\"children\":[]}]},{\"accession\":\"IPR035692\",\"name\":\"Integrin-linked protein kinase, pseudokinase domain\",\"type\":\"Domain\",\"children\":[]},{\"accession\":\"IPR042817\",\"name\":\"Serine/threonine-protein kinase LMTK1, catalytic domain\",\"type\":\"Domain\",\"children\":[]},{\"accession\":\"IPR042822\",\"name\":\"Membrane Guanylate Cyclase receptor GC-C, pseudokinase domain\",\"type\":\"Domain\",\"children\":[]}]},{\"accession\":\"IPR015725\",\"name\":\"Myosin Light Chain Kinase 1, Kinase domain\",\"type\":\"Domain\",\"children\":[]},{\"accession\":\"IPR020676\",\"name\":\"Death-associated protein kinase 1, catalytic domain\",\"type\":\"Domain\",\"children\":[]},{\"accession\":\"IPR024105\",\"name\":\"Tribbles homologue 1, pseudokinase domain\",\"type\":\"Domain\",\"children\":[]},{\"accession\":\"IPR026611\",\"name\":\"Serine/threonine-protein kinase MRCK alpha, catalytic domain\",\"type\":\"Domain\",\"children\":[]},{\"accession\":\"IPR027084\",\"name\":\"Protein kinase Mps1 family, catalytic domain\",\"type\":\"Domain\",\"children\":[]},{\"accession\":\"IPR027916\",\"name\":\"Protein kinase-like domain, Apicomplexa\",\"type\":\"Domain\",\"children\":[]},{\"accession\":\"IPR028754\",\"name\":\"Serine/threonine-protein kinase PAK5, catalytic domain\",\"type\":\"Domain\",\"children\":[]},{\"accession\":\"IPR029878\",\"name\":\"Rho-associated protein kinase 2, catalytic domain\",\"type\":\"Domain\",\"children\":[]},{\"accession\":\"IPR030611\",\"name\":\"Aurora kinase A\",\"type\":\"Domain\",\"children\":[]},{\"accession\":\"IPR033702\",\"name\":\"Polo-like kinase 1, catalytic domain\",\"type\":\"Domain\",\"children\":[]},{\"accession\":\"IPR034661\",\"name\":\"Atypical protein kinase C iota type, catalytic domain\",\"type\":\"Domain\",\"children\":[]},{\"accession\":\"IPR034668\",\"name\":\"Novel protein kinase C theta, catalytic domain\",\"type\":\"Domain\",\"children\":[]},{\"accession\":\"IPR034670\",\"name\":\"Checkpoint kinase 1, catalytic domain\",\"type\":\"Domain\",\"children\":[]},{\"accession\":\"IPR034671\",\"name\":\"Hormonally up-regulated neu tumour-associated kinase, catalytic domain\",\"type\":\"Domain\",\"children\":[]},{\"accession\":\"IPR034672\",\"name\":\"Salt-Inducible kinase, catalytic domain\",\"type\":\"Domain\",\"children\":[]},{\"accession\":\"IPR034673\",\"name\":\"Maternal embryonic leucine zipper kinase, catalytic domain\",\"type\":\"Domain\",\"children\":[]},{\"accession\":\"IPR034674\",\"name\":\"Serine/threonine-protein kinase Kin4/ppk1, catalytic domain\",\"type\":\"Domain\",\"children\":[]},{\"accession\":\"IPR035014\",\"name\":\"cGMP-dependent protein kinase, catalytic domain\",\"type\":\"Domain\",\"children\":[]},{\"accession\":\"IPR035053\",\"name\":\"RPK118-like, kinase domain\",\"type\":\"Domain\",\"children\":[]},{\"accession\":\"IPR035056\",\"name\":\"MST4, kinase domain\",\"type\":\"Domain\",\"children\":[]},{\"accession\":\"IPR035060\",\"name\":\"Serine/threonine kinase 25, catalytic domain\",\"type\":\"Domain\",\"children\":[]},{\"accession\":\"IPR035062\",\"name\":\"Kic1p-like serine/threonine kinase, catalytic domain\",\"type\":\"Domain\",\"children\":[]},{\"accession\":\"IPR035063\",\"name\":\"p21-activated kinase 3, catalytic domain\",\"type\":\"Domain\",\"children\":[]},{\"accession\":\"IPR035064\",\"name\":\"p21-activated kinase 2, catalytic domain\",\"type\":\"Domain\",\"children\":[]},{\"accession\":\"IPR035066\",\"name\":\"Serine/threonine-protein kinase PAK 6, catalytic domain\",\"type\":\"Domain\",\"children\":[]},{\"accession\":\"IPR037638\",\"name\":\"Serine/threonine-protein kinase greatwall, catalytic domain\",\"type\":\"Domain\",\"children\":[]},{\"accession\":\"IPR037711\",\"name\":\"Microtubule-associated serine/threonine-protein kinase, catalytic domain\",\"type\":\"Domain\",\"children\":[]},{\"accession\":\"IPR037716\",\"name\":\"Rhodopsin kinase, catalytic domain\",\"type\":\"Domain\",\"children\":[]},{\"accession\":\"IPR039154\",\"name\":\"Serine/Threonine kinase LKB1, catalytic domain\",\"type\":\"Domain\",\"children\":[]},{\"accession\":\"IPR039192\",\"name\":\"Glycogen synthase kinase 3, catalytic domain\",\"type\":\"Domain\",\"children\":[]},{\"accession\":\"IPR040110\",\"name\":\"PINK1, protein kinase domain\",\"type\":\"Domain\",\"children\":[]},{\"accession\":\"IPR041905\",\"name\":\"Ribosomal protein S6 kinase alpha-3, C-terminal catalytic domain\",\"type\":\"Domain\",\"children\":[]},{\"accession\":\"IPR041906\",\"name\":\"Ribosomal S6 kinase, N-terminal catalytic domain\",\"type\":\"Domain\",\"children\":[]},{\"accession\":\"IPR041989\",\"name\":\"TOPK, catalytic domain\",\"type\":\"Domain\",\"children\":[]},{\"accession\":\"IPR042666\",\"name\":\"Serine/threonine-protein kinase Nek10, catalytic domain\",\"type\":\"Domain\",\"children\":[]},{\"accession\":\"IPR042696\",\"name\":\"Calcium/calmodulin-dependent protein kinase type 1B, catalytic domain\",\"type\":\"Domain\",\"children\":[]},{\"accession\":\"IPR042697\",\"name\":\"Nuclear receptor-binding protein 2, pseudokinase domain\",\"type\":\"Domain\",\"children\":[]},{\"accession\":\"IPR042698\",\"name\":\"Interleukin-1 receptor-associated kinase 3, pseudokinase domain\",\"type\":\"Domain\",\"children\":[]},{\"accession\":\"IPR042703\",\"name\":\"Serine/threonine-protein kinase PLK3, catalytic domain\",\"type\":\"Domain\",\"children\":[]},{\"accession\":\"IPR042704\",\"name\":\"Serine/threonine-protein kinase 17A, catalytic domain\",\"type\":\"Domain\",\"children\":[]},{\"accession\":\"IPR042706\",\"name\":\"Serine/threonine-protein kinase LATS1, catalytic domain\",\"type\":\"Domain\",\"children\":[]},{\"accession\":\"IPR042709\",\"name\":\"Testis-specific serine/threonine-protein kinase 3, catalytic domain\",\"type\":\"Domain\",\"children\":[]},{\"accession\":\"IPR042710\",\"name\":\"Testis-specific serine/threonine-protein kinase 6, catalytic domain\",\"type\":\"Domain\",\"children\":[]},{\"accession\":\"IPR042714\",\"name\":\"Tau-tubulin kinase 1, catalytic domain\",\"type\":\"Domain\",\"children\":[]},{\"accession\":\"IPR042717\",\"name\":\"Myosin light chain kinase 2, catalytic domain\",\"type\":\"Domain\",\"children\":[]},{\"accession\":\"IPR042718\",\"name\":\"Serine/threonine-protein kinase MRCK beta, catalytic domain\",\"type\":\"Domain\",\"children\":[]},{\"accession\":\"IPR042743\",\"name\":\"Serine/threonine-protein kinase 10, catalytic domain\",\"type\":\"Domain\",\"children\":[]},{\"accession\":\"IPR042761\",\"name\":\"CDK15, catalytic domain\",\"type\":\"Domain\",\"children\":[]},{\"accession\":\"IPR042763\",\"name\":\"Serine/threonine-protein kinase 17B, catalytic domain\",\"type\":\"Domain\",\"children\":[]},{\"accession\":\"IPR042766\",\"name\":\"RSK3, C-terminal catalytic domain\",\"type\":\"Domain\",\"children\":[]},{\"accession\":\"IPR042767\",\"name\":\"Serine/threonine-protein kinase Nek9, catalytic domain\",\"type\":\"Domain\",\"children\":[]},{\"accession\":\"IPR042787\",\"name\":\"M3K14, catalytic domain\",\"type\":\"Domain\",\"children\":[]},{\"accession\":\"IPR042825\",\"name\":\"PLK2, catalytic domain\",\"type\":\"Domain\",\"children\":[]},{\"accession\":\"IPR042870\",\"name\":\"DAPK3, catalytic domain\",\"type\":\"Domain\",\"children\":[]},{\"accession\":\"IPR044092\",\"name\":\"Serine/threonine-protein PRP4, catalytic domain\",\"type\":\"Domain\",\"children\":[]},{\"accession\":\"IPR044093\",\"name\":\"Cyclin-dependent kinase 10, catalytic domain\",\"type\":\"Domain\",\"children\":[]},{\"accession\":\"IPR044120\",\"name\":\"Nek8, catalytic domain\",\"type\":\"Domain\",\"children\":[]},{\"accession\":\"IPR044131\",\"name\":\"Dual specificity tyrosine-phosphorylation-regulated kinase 1A/1B, catalytic domain\",\"type\":\"Domain\",\"children\":[]},{\"accession\":\"IPR045067\",\"name\":\"Wee1-like protein kinase, catalytic domain\",\"type\":\"Domain\",\"children\":[]},{\"accession\":\"IPR045267\",\"name\":\"Cyclin-dependent kinase 11/PITSLRE, catalytic domain\",\"type\":\"Domain\",\"children\":[]},{\"accession\":\"IPR045270\",\"name\":\"Serine/Threonine Kinase AGC, catalytic domain\",\"type\":\"Domain\",\"children\":[]}]},\"name\":{\"name\":\"Protein kinase domain\",\"short\":\"Prot_kinase_dom\"},\"description\":[\"<p>Eukaryotic protein kinases [[cite:PUB00005115], [cite:PUB00015293], [cite:PUB00001530], [cite:PUB00003568], [cite:PUB00003569]] are enzymes that belong to a very extensive family of proteins which share a conserved catalytic core common with both serine/threonine and tyrosine protein kinases. There are a number of conserved regions in the catalytic domain of protein kinases. In the N-terminal extremity of the catalytic domain there is a glycine-rich stretch of residues in the vicinity of a lysine residue, which has been shown to be involved in ATP binding. In the central part of the catalytic domain there is a conserved aspartic acid residue which is important for the catalytic activity of the enzyme [[cite:PUB00005145]].</p>\\n\\n<p>This entry represents the protein kinase domain containing the catalytic function of protein kinases [[cite:PUB00003569]]. This domain is found in serine/threonine-protein kinases, tyrosine-protein kinases and dual specificity protein kinases.</p>\",\"<p>Protein phosphorylation, which plays a key role in most cellular activities, is a reversible process mediated by protein kinases and phosphoprotein phosphatases. Protein kinases catalyse the transfer of the gamma phosphate from nucleotide triphosphates (often ATP) to one or more amino acid residues in a protein substrate side chain, resulting in a conformational change affecting protein function. Phosphoprotein phosphatases catalyse the reverse process. \\nProtein kinases fall into three broad classes, characterised with respect to substrate specificity [[cite:PUB00005115]]:</p>\\n\\n<ul>\\n<li>Serine/threonine-protein kinases</li>\\n<li>Tyrosine-protein kinases</li>\\n<li>Dual specificity protein kinases (e.g. MEK -phosphorylates both Thr and Tyr on target proteins)</li>\\n</ul>\\n\\n<p>Protein kinase function is evolutionarily conserved from Escherichia coli to human [[cite:PUB00020114]]. Protein kinases play a role in a multitude of cellular processes, including division, proliferation, apoptosis, and differentiation [[cite:PUB00015362]]. Phosphorylation usually results in a functional change of the target protein by changing enzyme activity, cellular location, or association with other proteins. The catalytic subunits of protein kinases are highly conserved, and several structures have been solved [[cite:PUB00034898]], leading to large screens to develop kinase-specific inhibitors for the treatments of a number of diseases [[cite:PUB00034899]].</p>\"],\"wikipedia\":null,\"literature\":{\"PUB00001530\":{\"PMID\":7768349,\"ISBN\":null,\"volume\":\"9\",\"issue\":\"8\",\"year\":1995,\"title\":\"Protein kinases 6. The eukaryotic protein kinase superfamily: kinase (catalytic) domain structure and classification.\",\"URL\":null,\"raw_pages\":\"576-96\",\"medline_journal\":\"FASEB J\",\"ISO_journal\":\"FASEB J.\",\"authors\":[\"Hanks SK\",\"Hunter T.\"],\"DOI_URL\":\"http://www.fasebj.org/cgi/content/abstract/9/8/576\"},\"PUB00003568\":{\"PMID\":1835513,\"ISBN\":null,\"volume\":\"200\",\"issue\":null,\"year\":1991,\"title\":\"Protein kinase classification.\",\"URL\":null,\"raw_pages\":\"3-37\",\"medline_journal\":\"Methods Enzymol\",\"ISO_journal\":\"Meth. Enzymol.\",\"authors\":[\"Hunter T.\"],\"DOI_URL\":\"http://dx.doi.org/10.1016/0076-6879(91)00125-G\"},\"PUB00003569\":{\"PMID\":1956325,\"ISBN\":null,\"volume\":\"200\",\"issue\":null,\"year\":1991,\"title\":\"Protein kinase catalytic domain sequence database: identification of conserved features of primary structure and classification of family members.\",\"URL\":null,\"raw_pages\":\"38-62\",\"medline_journal\":\"Methods Enzymol\",\"ISO_journal\":\"Meth. Enzymol.\",\"authors\":[\"Hanks SK\",\"Quinn AM.\"],\"DOI_URL\":\"http://dx.doi.org/10.1016/0076-6879(91)00126-H\"},\"PUB00005115\":{\"PMID\":3291115,\"ISBN\":null,\"volume\":\"241\",\"issue\":\"4861\",\"year\":1988,\"title\":\"The protein kinase family: conserved features and deduced phylogeny of the catalytic domains.\",\"URL\":null,\"raw_pages\":\"42-52\",\"medline_journal\":\"Science\",\"ISO_journal\":\"Science\",\"authors\":[\"Hanks SK\",\"Quinn AM\",\"Hunter T.\"],\"DOI_URL\":\"http://www.sciencemag.org/cgi/content/abstract/241/4861/42\"},\"PUB00005145\":{\"PMID\":1862342,\"ISBN\":null,\"volume\":\"253\",\"issue\":\"5018\",\"year\":1991,\"title\":\"Crystal structure of the catalytic subunit of cyclic adenosine monophosphate-dependent protein kinase.\",\"URL\":null,\"raw_pages\":\"407-14\",\"medline_journal\":\"Science\",\"ISO_journal\":\"Science\",\"authors\":[\"Knighton DR\",\"Zheng JH\",\"Ten Eyck LF\",\"Ashford VA\",\"Xuong NH\",\"Taylor SS\",\"Sowadski JM.\"],\"DOI_URL\":\"http://www.sciencemag.org/cgi/content/abstract/253/5018/407\"},\"PUB00015293\":{\"PMID\":12734000,\"ISBN\":null,\"volume\":\"4\",\"issue\":\"5\",\"year\":2003,\"title\":\"Genomic analysis of the eukaryotic protein kinase superfamily: a perspective.\",\"URL\":null,\"raw_pages\":\"111\",\"medline_journal\":\"Genome Biol\",\"ISO_journal\":\"Genome Biol.\",\"authors\":[\"Hanks SK.\"],\"DOI_URL\":\"http://dx.doi.org/10.1186/gb-2003-4-5-111\"},\"PUB00020114\":{\"PMID\":12471243,\"ISBN\":null,\"volume\":\"298\",\"issue\":\"5600\",\"year\":2002,\"title\":\"The protein kinase complement of the human genome.\",\"URL\":null,\"raw_pages\":\"1912-34\",\"medline_journal\":\"Science\",\"ISO_journal\":\"Science\",\"authors\":[\"Manning G\",\"Whyte DB\",\"Martinez R\",\"Hunter T\",\"Sudarsanam S.\"],\"DOI_URL\":\"http://dx.doi.org/10.1126/science.1075762\"},\"PUB00015362\":{\"PMID\":12368087,\"ISBN\":null,\"volume\":\"27\",\"issue\":\"10\",\"year\":2002,\"title\":\"Evolution of protein kinase signaling from yeast to man.\",\"URL\":null,\"raw_pages\":\"514-20\",\"medline_journal\":\"Trends Biochem Sci\",\"ISO_journal\":\"Trends Biochem. Sci.\",\"authors\":[\"Manning G\",\"Plowman GD\",\"Hunter T\",\"Sudarsanam S.\"],\"DOI_URL\":\"http://dx.doi.org/10.1016/S0968-0004(02)02179-5\"},\"PUB00034898\":{\"PMID\":15078142,\"ISBN\":null,\"volume\":\"10\",\"issue\":\"10\",\"year\":2004,\"title\":\"High-throughput structural biology in drug discovery: protein kinases.\",\"URL\":null,\"raw_pages\":\"1069-82\",\"medline_journal\":\"Curr Pharm Des\",\"ISO_journal\":\"Curr. Pharm. Des.\",\"authors\":[\"Stout TJ\",\"Foster PG\",\"Matthews DJ.\"],\"DOI_URL\":\"http://dx.doi.org/10.2174/1381612043452695\"},\"PUB00034899\":{\"PMID\":15320712,\"ISBN\":null,\"volume\":\"7\",\"issue\":\"5\",\"year\":2004,\"title\":\"Creating chemical diversity to target protein kinases.\",\"URL\":null,\"raw_pages\":\"453-72\",\"medline_journal\":\"Comb Chem High Throughput Screen\",\"ISO_journal\":\"Comb. Chem. High Throughput Screen.\",\"authors\":[\"Li B\",\"Liu Y\",\"Uno T\",\"Gray N.\"],\"DOI_URL\":\"http://openurl.ingenta.com/content?genre=article&issn=1386-2073&volume=7&issue=5&spage=453\"}},\"set_info\":null,\"overlaps_with\":[{\"accession\":\"IPR011009\",\"name\":\"Protein kinase-like domain superfamily\",\"type\":\"homologous_superfamily\"}],\"counters\":{\"subfamilies\":0,\"domain_architectures\":24536,\"interactions\":131,\"matches\":1931817,\"pathways\":3643,\"proteins\":1895592,\"proteomes\":10326,\"sets\":0,\"structural_models\":{\"alphafold\":1370437,\"rosettafold\":0},\"structures\":6831,\"taxa\":58616},\"entry_annotations\":{\"alignment:uniprot\":1154676,\"alignment:full\":636438,\"alignment:seed\":38},\"cross_references\":{\"prositedoc\":{\"displayName\":\"prositedoc\",\"description\":\"PROSITE is a database of protein families and domains.\",\"rank\":18,\"accessions\":[{\"accession\":\"PDOC00100\",\"url\":\"http://prosite.expasy.org/PDOC00100\"}]},\"ec\":{\"displayName\":\"ec\",\"description\":\"ENZYME is a repository of information relative to the nomenclature of enzymes. It is primarily based on the recommendations of the Nomenclature Committee of the International Union of Biochemistry and Molecular Biology (IUBMB) and it describes each type of characterized enzyme for which an EC (Enzyme Commission) number has been provided.\",\"rank\":19,\"accessions\":[{\"accession\":\"2.1.1.294\",\"url\":\"http://www.ebi.ac.uk/intenz/query?cmd=SearchEC&ec=2.1.1.294\"},{\"accession\":\"2.3.1.234\",\"url\":\"http://www.ebi.ac.uk/intenz/query?cmd=SearchEC&ec=2.3.1.234\"},{\"accession\":\"2.3.2.26\",\"url\":\"http://www.ebi.ac.uk/intenz/query?cmd=SearchEC&ec=2.3.2.26\"},{\"accession\":\"2.3.2.27\",\"url\":\"http://www.ebi.ac.uk/intenz/query?cmd=SearchEC&ec=2.3.2.27\"},{\"accession\":\"2.7.1.-\",\"url\":\"http://www.ebi.ac.uk/intenz/query?cmd=SearchEC&ec=2.7.1.-\"},{\"accession\":\"2.7.1.166\",\"url\":\"http://www.ebi.ac.uk/intenz/query?cmd=SearchEC&ec=2.7.1.166\"},{\"accession\":\"2.7.1.181\",\"url\":\"http://www.ebi.ac.uk/intenz/query?cmd=SearchEC&ec=2.7.1.181\"},{\"accession\":\"2.7.1.183\",\"url\":\"http://www.ebi.ac.uk/intenz/query?cmd=SearchEC&ec=2.7.1.183\"},{\"accession\":\"2.7.10.-\",\"url\":\"http://www.ebi.ac.uk/intenz/query?cmd=SearchEC&ec=2.7.10.-\"},{\"accession\":\"2.7.10.1\",\"url\":\"http://www.ebi.ac.uk/intenz/query?cmd=SearchEC&ec=2.7.10.1\"},{\"accession\":\"2.7.10.2\",\"url\":\"http://www.ebi.ac.uk/intenz/query?cmd=SearchEC&ec=2.7.10.2\"},{\"accession\":\"2.7.11.-\",\"url\":\"http://www.ebi.ac.uk/intenz/query?cmd=SearchEC&ec=2.7.11.-\"},{\"accession\":\"2.7.11.1\",\"url\":\"http://www.ebi.ac.uk/intenz/query?cmd=SearchEC&ec=2.7.11.1\"},{\"accession\":\"2.7.11.10\",\"url\":\"http://www.ebi.ac.uk/intenz/query?cmd=SearchEC&ec=2.7.11.10\"},{\"accession\":\"2.7.11.11\",\"url\":\"http://www.ebi.ac.uk/intenz/query?cmd=SearchEC&ec=2.7.11.11\"},{\"accession\":\"2.7.11.12\",\"url\":\"http://www.ebi.ac.uk/intenz/query?cmd=SearchEC&ec=2.7.11.12\"},{\"accession\":\"2.7.11.13\",\"url\":\"http://www.ebi.ac.uk/intenz/query?cmd=SearchEC&ec=2.7.11.13\"},{\"accession\":\"2.7.11.14\",\"url\":\"http://www.ebi.ac.uk/intenz/query?cmd=SearchEC&ec=2.7.11.14\"},{\"accession\":\"2.7.11.15\",\"url\":\"http://www.ebi.ac.uk/intenz/query?cmd=SearchEC&ec=2.7.11.15\"},{\"accession\":\"2.7.11.16\",\"url\":\"http://www.ebi.ac.uk/intenz/query?cmd=SearchEC&ec=2.7.11.16\"},{\"accession\":\"2.7.11.17\",\"url\":\"http://www.ebi.ac.uk/intenz/query?cmd=SearchEC&ec=2.7.11.17\"},{\"accession\":\"2.7.11.18\",\"url\":\"http://www.ebi.ac.uk/intenz/query?cmd=SearchEC&ec=2.7.11.18\"},{\"accession\":\"2.7.11.19\",\"url\":\"http://www.ebi.ac.uk/intenz/query?cmd=SearchEC&ec=2.7.11.19\"},{\"accession\":\"2.7.11.21\",\"url\":\"http://www.ebi.ac.uk/intenz/query?cmd=SearchEC&ec=2.7.11.21\"},{\"accession\":\"2.7.11.22\",\"url\":\"http://www.ebi.ac.uk/intenz/query?cmd=SearchEC&ec=2.7.11.22\"},{\"accession\":\"2.7.11.23\",\"url\":\"http://www.ebi.ac.uk/intenz/query?cmd=SearchEC&ec=2.7.11.23\"},{\"accession\":\"2.7.11.24\",\"url\":\"http://www.ebi.ac.uk/intenz/query?cmd=SearchEC&ec=2.7.11.24\"},{\"accession\":\"2.7.11.25\",\"url\":\"http://www.ebi.ac.uk/intenz/query?cmd=SearchEC&ec=2.7.11.25\"},{\"accession\":\"2.7.11.26\",\"url\":\"http://www.ebi.ac.uk/intenz/query?cmd=SearchEC&ec=2.7.11.26\"},{\"accession\":\"2.7.11.27\",\"url\":\"http://www.ebi.ac.uk/intenz/query?cmd=SearchEC&ec=2.7.11.27\"},{\"accession\":\"2.7.11.30\",\"url\":\"http://www.ebi.ac.uk/intenz/query?cmd=SearchEC&ec=2.7.11.30\"},{\"accession\":\"2.7.11.31\",\"url\":\"http://www.ebi.ac.uk/intenz/query?cmd=SearchEC&ec=2.7.11.31\"},{\"accession\":\"2.7.11.34\",\"url\":\"http://www.ebi.ac.uk/intenz/query?cmd=SearchEC&ec=2.7.11.34\"},{\"accession\":\"2.7.12.1\",\"url\":\"http://www.ebi.ac.uk/intenz/query?cmd=SearchEC&ec=2.7.12.1\"},{\"accession\":\"2.7.12.2\",\"url\":\"http://www.ebi.ac.uk/intenz/query?cmd=SearchEC&ec=2.7.12.2\"},{\"accession\":\"2.7.13.3\",\"url\":\"http://www.ebi.ac.uk/intenz/query?cmd=SearchEC&ec=2.7.13.3\"},{\"accession\":\"3.1.26.-\",\"url\":\"http://www.ebi.ac.uk/intenz/query?cmd=SearchEC&ec=3.1.26.-\"},{\"accession\":\"3.1.3.16\",\"url\":\"http://www.ebi.ac.uk/intenz/query?cmd=SearchEC&ec=3.1.3.16\"},{\"accession\":\"3.1.4.46\",\"url\":\"http://www.ebi.ac.uk/intenz/query?cmd=SearchEC&ec=3.1.4.46\"},{\"accession\":\"3.6.3.-\",\"url\":\"http://www.ebi.ac.uk/intenz/query?cmd=SearchEC&ec=3.6.3.-\"},{\"accession\":\"3.6.5.-\",\"url\":\"http://www.ebi.ac.uk/intenz/query?cmd=SearchEC&ec=3.6.5.-\"},{\"accession\":\"4.6.1.2\",\"url\":\"http://www.ebi.ac.uk/intenz/query?cmd=SearchEC&ec=4.6.1.2\"}]}}}}\n",
      "{'name': 'Protein kinase domain', 'short': 'Prot_kinase_dom'}\n"
     ]
    }
   ],
   "source": [
    "def fetch_interpro(ipr_id):\n",
    "    url = f\"https://www.ebi.ac.uk/interpro/api/entry/InterPro/{ipr_id}\"\n",
    "    response = requests.get(url)\n",
    "    print(response.status_code)\n",
    "    print(response.text)\n",
    "    if response.status_code == 200:\n",
    "        return response.json()['metadata']['name']\n",
    "    else:\n",
    "        return None\n",
    "\n",
    "# Test\n",
    "print(fetch_interpro(\"IPR001849\"))  # Example InterPro ID\n",
    "print(fetch_interpro(\"IPR000719\"))  # Example InterPro ID"
   ]
  },
  {
   "cell_type": "code",
   "execution_count": 37,
   "metadata": {},
   "outputs": [
    {
     "name": "stdout",
     "output_type": "stream",
     "text": [
      "404\n",
      "{\"Error\":\"the level '7003' is not a valid interpro level\"}\n",
      "404\n",
      "{\"Error\":\"the level '7004' is not a valid interpro level\"}\n",
      "{'species': 'Homo sapiens', 'domains': [None, None]}\n"
     ]
    }
   ],
   "source": [
    "def process_domain_motif_token(token):\n",
    "    parts = token.split(\"_\")\n",
    "    species = fetch_ncbi_taxonomy(parts[2])\n",
    "    interpro_ids = parts[3:]\n",
    "    domains = [fetch_interpro(id) for id in interpro_ids]\n",
    "    return {\n",
    "        \"species\": species,\n",
    "        \"domains\": domains\n",
    "    }\n",
    "\n",
    "# Test\n",
    "print(process_domain_motif_token('DomainMotif_Focus_9606_7003_7004'))"
   ]
  },
  {
   "attachments": {},
   "cell_type": "markdown",
   "metadata": {},
   "source": [
    "# Cleaned up code for going through all concepts and making the mapping"
   ]
  },
  {
   "cell_type": "code",
   "execution_count": null,
   "metadata": {},
   "outputs": [],
   "source": [
    "# Change it so that it can use the following Gene_2799940\n",
    "def fetch_entrez_gene(id):\n",
    "    url = \"https://eutils.ncbi.nlm.nih.gov/entrez/eutils/esummary.fcgi\"\n",
    "    params = {\n",
    "        \"db\": \"gene\",\n",
    "        \"id\": id,\n",
    "        \"retmode\": \"json\"\n",
    "    }\n",
    "\n",
    "    response = requests.get(url, params=params)\n",
    "    if response.status_code == 200:\n",
    "        return response.json()[\"result\"][id][\"description\"]\n",
    "    else:\n",
    "        return None\n",
    "\n",
    "# Test\n",
    "print(fetch_entrez_gene(\"2799940\"))\n",
    "# matrix protein M2-1;matrix protein M2-2\n",
    "\n",
    "# Change it so that it can use the following Disease_MESH_D001845\n",
    "def fetch_mesh_descriptor(id):\n",
    "    url = f\"https://id.nlm.nih.gov/mesh/lookup/label?resource={id}\"\n",
    "    headers = {\"Accept\": \"application/json\"}\n",
    "\n",
    "    response = requests.get(url, headers=headers)\n",
    "    if response.status_code == 200:\n",
    "        return response.json()[0]\n",
    "    else:\n",
    "        return None\n",
    "\n",
    "# Test\n",
    "print(fetch_mesh_descriptor(\"D001845\"))\n",
    "# Bone Cysts\n",
    "\n",
    "# Change it so that it can use the following Species_7461\n",
    "import requests\n",
    "import xml.etree.ElementTree as ET\n",
    "\n",
    "def fetch_ncbi_species(id):\n",
    "    url = f\"https://eutils.ncbi.nlm.nih.gov/entrez/eutils/esummary.fcgi?db=taxonomy&id={id}\"\n",
    "    response = requests.get(url)\n",
    "    if response.status_code == 200:\n",
    "        root = ET.fromstring(response.content)\n",
    "        scientific_name = root.find('.//Item[@Name=\"ScientificName\"]').text\n",
    "        return scientific_name\n",
    "    else:\n",
    "        return None\n",
    "\n",
    "# Test\n",
    "print(fetch_ncbi_species(\"7461\"))\n",
    "# Apis cerana\n",
    "\n",
    "# Change it so that it can use the following CellLine_CVCL_K990\n",
    "def fetch_cellosaurus(id):\n",
    "    url = f\"https://api.cellosaurus.org/cell-line/{id}\"\n",
    "    response = requests.get(url)\n",
    "    # print(response.text)\n",
    "    if response.status_code == 200:\n",
    "        value_list = []\n",
    "        response_json = response.json()\n",
    "        if 'Cellosaurus' in response_json:\n",
    "            if 'cell-line-list' in response_json['Cellosaurus']:\n",
    "                for name in response_json['Cellosaurus']['cell-line-list']:\n",
    "                    if 'name-list' in name:\n",
    "                        for value in name['name-list']:\n",
    "                            if 'value' in value:\n",
    "                                value_list.append(value['value'])\n",
    "        return value_list\n",
    "    else:\n",
    "        return None\n",
    "\n",
    "# Test\n",
    "print(fetch_cellosaurus(\"CVCL_K990\"))\n",
    "# ['UKTS9050']\n",
    "\n",
    "# Change it so that it can use the following ProteinMutation_p_R450H_RS_189261858\n",
    "def fetch_dbsnp(rs_id):\n",
    "    url = f\"https://api.ncbi.nlm.nih.gov/variation/v0/beta/refsnp/{rs_id}\"\n",
    "    response = requests.get(url)\n",
    "    # print(response.status_code)\n",
    "    # print(response.text)\n",
    "    if response.status_code == 200:\n",
    "        return parse_dbsnp(response.json())\n",
    "    else:\n",
    "        return None\n",
    "\n",
    "# Turn json object from fetch_dbsnp(\"189261858\") into a python dictionary\n",
    "def parse_dbsnp(dbsnp_json):\n",
    "    if dbsnp_json:\n",
    "        gene_set = set()\n",
    "        if 'primary_snapshot_data' in dbsnp_json:\n",
    "            if 'allele_annotations' in dbsnp_json['primary_snapshot_data']:\n",
    "                for alle_annotation in dbsnp_json[\"primary_snapshot_data\"][\"allele_annotations\"]:\n",
    "                    if 'assembly_annotation' in alle_annotation:\n",
    "                        for assembly_annotation in alle_annotation[\"assembly_annotation\"]:\n",
    "                            if 'genes' in assembly_annotation:\n",
    "                                for gene in assembly_annotation['genes']:\n",
    "                                    if 'name' in gene:\n",
    "                                        gene_set.add(gene['name'])\n",
    "        snps_list = []\n",
    "        if 'primary_snapshot_data' in dbsnp_json:\n",
    "            if 'placements_with_allele' in dbsnp_json['primary_snapshot_data']:\n",
    "                for placements_with_allele in dbsnp_json[\"primary_snapshot_data\"][\"placements_with_allele\"]:\n",
    "                    if 'alleles' in placements_with_allele:\n",
    "                        snps_list.append(placements_with_allele['alleles'])\n",
    "        return {\n",
    "            \"chromosome\": dbsnp_json[\"refsnp_id\"],\n",
    "            \"snps\": snps_list,\n",
    "            \"gene\": list(gene_set)\n",
    "        }\n",
    "    else:\n",
    "        return None\n",
    "\n",
    "# Test\n",
    "print(fetch_dbsnp(\"189261858\"))\n",
    "# {'chromosome': ..., 'snps': ..., 'gene': ...}"
   ]
  },
  {
   "cell_type": "code",
   "execution_count": 12,
   "metadata": {},
   "outputs": [
    {
     "name": "stdout",
     "output_type": "stream",
     "text": [
      "{'Disease_MESH_D001845': 'Bone Cysts', 'Disease_Methanogenic_archaeon_CH1270': 'archaeon CH1270', 'Gene_2799940': 'matrix protein M2-1;matrix protein M2-2', 'ProteinMutation_p_R450H_RS_189261858': {'chromosome': '189261858', 'snps': [[{'allele': {'spdi': {'seq_id': 'NC_000014.9', 'position': 81143406, 'deleted_sequence': 'G', 'inserted_sequence': 'G'}}, 'hgvs': 'NC_000014.9:g.81143407='}, {'allele': {'spdi': {'seq_id': 'NC_000014.9', 'position': 81143406, 'deleted_sequence': 'G', 'inserted_sequence': 'A'}}, 'hgvs': 'NC_000014.9:g.81143407G>A'}, {'allele': {'spdi': {'seq_id': 'NC_000014.9', 'position': 81143406, 'deleted_sequence': 'G', 'inserted_sequence': 'C'}}, 'hgvs': 'NC_000014.9:g.81143407G>C'}, {'allele': {'spdi': {'seq_id': 'NC_000014.9', 'position': 81143406, 'deleted_sequence': 'G', 'inserted_sequence': 'T'}}, 'hgvs': 'NC_000014.9:g.81143407G>T'}], [{'allele': {'spdi': {'seq_id': 'NC_000014.8', 'position': 81609750, 'deleted_sequence': 'G', 'inserted_sequence': 'G'}}, 'hgvs': 'NC_000014.8:g.81609751='}, {'allele': {'spdi': {'seq_id': 'NC_000014.8', 'position': 81609750, 'deleted_sequence': 'G', 'inserted_sequence': 'A'}}, 'hgvs': 'NC_000014.8:g.81609751G>A'}, {'allele': {'spdi': {'seq_id': 'NC_000014.8', 'position': 81609750, 'deleted_sequence': 'G', 'inserted_sequence': 'C'}}, 'hgvs': 'NC_000014.8:g.81609751G>C'}, {'allele': {'spdi': {'seq_id': 'NC_000014.8', 'position': 81609750, 'deleted_sequence': 'G', 'inserted_sequence': 'T'}}, 'hgvs': 'NC_000014.8:g.81609751G>T'}], [{'allele': {'spdi': {'seq_id': 'NG_009206.1', 'position': 192882, 'deleted_sequence': 'G', 'inserted_sequence': 'G'}}, 'hgvs': 'NG_009206.1:g.192883='}, {'allele': {'spdi': {'seq_id': 'NG_009206.1', 'position': 192882, 'deleted_sequence': 'G', 'inserted_sequence': 'A'}}, 'hgvs': 'NG_009206.1:g.192883G>A'}, {'allele': {'spdi': {'seq_id': 'NG_009206.1', 'position': 192882, 'deleted_sequence': 'G', 'inserted_sequence': 'C'}}, 'hgvs': 'NG_009206.1:g.192883G>C'}, {'allele': {'spdi': {'seq_id': 'NG_009206.1', 'position': 192882, 'deleted_sequence': 'G', 'inserted_sequence': 'T'}}, 'hgvs': 'NG_009206.1:g.192883G>T'}], [{'allele': {'spdi': {'seq_id': 'NM_000369.5', 'position': 1408, 'deleted_sequence': 'G', 'inserted_sequence': 'G'}}, 'hgvs': 'NM_000369.5:c.1349='}, {'allele': {'spdi': {'seq_id': 'NM_000369.5', 'position': 1408, 'deleted_sequence': 'G', 'inserted_sequence': 'A'}}, 'hgvs': 'NM_000369.5:c.1349G>A'}, {'allele': {'spdi': {'seq_id': 'NM_000369.5', 'position': 1408, 'deleted_sequence': 'G', 'inserted_sequence': 'C'}}, 'hgvs': 'NM_000369.5:c.1349G>C'}, {'allele': {'spdi': {'seq_id': 'NM_000369.5', 'position': 1408, 'deleted_sequence': 'G', 'inserted_sequence': 'T'}}, 'hgvs': 'NM_000369.5:c.1349G>T'}], [{'allele': {'spdi': {'seq_id': 'NM_000369.4', 'position': 1408, 'deleted_sequence': 'G', 'inserted_sequence': 'G'}}, 'hgvs': 'NM_000369.4:c.1349='}, {'allele': {'spdi': {'seq_id': 'NM_000369.4', 'position': 1408, 'deleted_sequence': 'G', 'inserted_sequence': 'A'}}, 'hgvs': 'NM_000369.4:c.1349G>A'}, {'allele': {'spdi': {'seq_id': 'NM_000369.4', 'position': 1408, 'deleted_sequence': 'G', 'inserted_sequence': 'C'}}, 'hgvs': 'NM_000369.4:c.1349G>C'}, {'allele': {'spdi': {'seq_id': 'NM_000369.4', 'position': 1408, 'deleted_sequence': 'G', 'inserted_sequence': 'T'}}, 'hgvs': 'NM_000369.4:c.1349G>T'}], [{'allele': {'spdi': {'seq_id': 'NM_000369.3', 'position': 1408, 'deleted_sequence': 'G', 'inserted_sequence': 'G'}}, 'hgvs': 'NM_000369.3:c.1349='}, {'allele': {'spdi': {'seq_id': 'NM_000369.3', 'position': 1408, 'deleted_sequence': 'G', 'inserted_sequence': 'A'}}, 'hgvs': 'NM_000369.3:c.1349G>A'}, {'allele': {'spdi': {'seq_id': 'NM_000369.3', 'position': 1408, 'deleted_sequence': 'G', 'inserted_sequence': 'C'}}, 'hgvs': 'NM_000369.3:c.1349G>C'}, {'allele': {'spdi': {'seq_id': 'NM_000369.3', 'position': 1408, 'deleted_sequence': 'G', 'inserted_sequence': 'T'}}, 'hgvs': 'NM_000369.3:c.1349G>T'}], [{'allele': {'spdi': {'seq_id': 'NM_000369.2', 'position': 1504, 'deleted_sequence': 'G', 'inserted_sequence': 'G'}}, 'hgvs': 'NM_000369.2:c.1349='}, {'allele': {'spdi': {'seq_id': 'NM_000369.2', 'position': 1504, 'deleted_sequence': 'G', 'inserted_sequence': 'A'}}, 'hgvs': 'NM_000369.2:c.1349G>A'}, {'allele': {'spdi': {'seq_id': 'NM_000369.2', 'position': 1504, 'deleted_sequence': 'G', 'inserted_sequence': 'C'}}, 'hgvs': 'NM_000369.2:c.1349G>C'}, {'allele': {'spdi': {'seq_id': 'NM_000369.2', 'position': 1504, 'deleted_sequence': 'G', 'inserted_sequence': 'T'}}, 'hgvs': 'NM_000369.2:c.1349G>T'}], [{'allele': {'spdi': {'seq_id': 'XM_011537119.3', 'position': 1138, 'deleted_sequence': 'G', 'inserted_sequence': 'G'}}, 'hgvs': 'XM_011537119.3:c.1070='}, {'allele': {'spdi': {'seq_id': 'XM_011537119.3', 'position': 1138, 'deleted_sequence': 'G', 'inserted_sequence': 'A'}}, 'hgvs': 'XM_011537119.3:c.1070G>A'}, {'allele': {'spdi': {'seq_id': 'XM_011537119.3', 'position': 1138, 'deleted_sequence': 'G', 'inserted_sequence': 'C'}}, 'hgvs': 'XM_011537119.3:c.1070G>C'}, {'allele': {'spdi': {'seq_id': 'XM_011537119.3', 'position': 1138, 'deleted_sequence': 'G', 'inserted_sequence': 'T'}}, 'hgvs': 'XM_011537119.3:c.1070G>T'}], [{'allele': {'spdi': {'seq_id': 'XM_011537119.2', 'position': 1449, 'deleted_sequence': 'G', 'inserted_sequence': 'G'}}, 'hgvs': 'XM_011537119.2:c.1070='}, {'allele': {'spdi': {'seq_id': 'XM_011537119.2', 'position': 1449, 'deleted_sequence': 'G', 'inserted_sequence': 'A'}}, 'hgvs': 'XM_011537119.2:c.1070G>A'}, {'allele': {'spdi': {'seq_id': 'XM_011537119.2', 'position': 1449, 'deleted_sequence': 'G', 'inserted_sequence': 'C'}}, 'hgvs': 'XM_011537119.2:c.1070G>C'}, {'allele': {'spdi': {'seq_id': 'XM_011537119.2', 'position': 1449, 'deleted_sequence': 'G', 'inserted_sequence': 'T'}}, 'hgvs': 'XM_011537119.2:c.1070G>T'}], [{'allele': {'spdi': {'seq_id': 'XM_011537119.1', 'position': 1449, 'deleted_sequence': 'G', 'inserted_sequence': 'G'}}, 'hgvs': 'XM_011537119.1:c.1070='}, {'allele': {'spdi': {'seq_id': 'XM_011537119.1', 'position': 1449, 'deleted_sequence': 'G', 'inserted_sequence': 'A'}}, 'hgvs': 'XM_011537119.1:c.1070G>A'}, {'allele': {'spdi': {'seq_id': 'XM_011537119.1', 'position': 1449, 'deleted_sequence': 'G', 'inserted_sequence': 'C'}}, 'hgvs': 'XM_011537119.1:c.1070G>C'}, {'allele': {'spdi': {'seq_id': 'XM_011537119.1', 'position': 1449, 'deleted_sequence': 'G', 'inserted_sequence': 'T'}}, 'hgvs': 'XM_011537119.1:c.1070G>T'}], [{'allele': {'spdi': {'seq_id': 'NP_000360.2', 'position': 449, 'deleted_sequence': 'R', 'inserted_sequence': 'R'}}, 'hgvs': 'NP_000360.2:p.Arg450='}, {'allele': {'spdi': {'seq_id': 'NP_000360.2', 'position': 449, 'deleted_sequence': 'R', 'inserted_sequence': 'H'}}, 'hgvs': 'NP_000360.2:p.Arg450His'}, {'allele': {'spdi': {'seq_id': 'NP_000360.2', 'position': 449, 'deleted_sequence': 'R', 'inserted_sequence': 'P'}}, 'hgvs': 'NP_000360.2:p.Arg450Pro'}, {'allele': {'spdi': {'seq_id': 'NP_000360.2', 'position': 449, 'deleted_sequence': 'R', 'inserted_sequence': 'L'}}, 'hgvs': 'NP_000360.2:p.Arg450Leu'}], [{'allele': {'spdi': {'seq_id': 'XP_011535421.1', 'position': 356, 'deleted_sequence': 'R', 'inserted_sequence': 'R'}}, 'hgvs': 'XP_011535421.1:p.Arg357='}, {'allele': {'spdi': {'seq_id': 'XP_011535421.1', 'position': 356, 'deleted_sequence': 'R', 'inserted_sequence': 'H'}}, 'hgvs': 'XP_011535421.1:p.Arg357His'}, {'allele': {'spdi': {'seq_id': 'XP_011535421.1', 'position': 356, 'deleted_sequence': 'R', 'inserted_sequence': 'P'}}, 'hgvs': 'XP_011535421.1:p.Arg357Pro'}, {'allele': {'spdi': {'seq_id': 'XP_011535421.1', 'position': 356, 'deleted_sequence': 'R', 'inserted_sequence': 'L'}}, 'hgvs': 'XP_011535421.1:p.Arg357Leu'}]], 'gene': ['uncharacterized LOC101928462', 'thyroid stimulating hormone receptor']}, 'SNP_rs11944405': {'chromosome': '11944405', 'snps': [[{'allele': {'spdi': {'seq_id': 'NC_000004.12', 'position': 99878803, 'deleted_sequence': 'T', 'inserted_sequence': 'T'}}, 'hgvs': 'NC_000004.12:g.99878804='}, {'allele': {'spdi': {'seq_id': 'NC_000004.12', 'position': 99878803, 'deleted_sequence': 'T', 'inserted_sequence': 'C'}}, 'hgvs': 'NC_000004.12:g.99878804T>C'}], [{'allele': {'spdi': {'seq_id': 'NC_000004.11', 'position': 100799960, 'deleted_sequence': 'T', 'inserted_sequence': 'T'}}, 'hgvs': 'NC_000004.11:g.100799961='}, {'allele': {'spdi': {'seq_id': 'NC_000004.11', 'position': 100799960, 'deleted_sequence': 'T', 'inserted_sequence': 'C'}}, 'hgvs': 'NC_000004.11:g.100799961T>C'}], [{'allele': {'spdi': {'seq_id': 'NM_021970.4', 'position': 3694, 'deleted_sequence': 'A', 'inserted_sequence': 'A'}}, 'hgvs': 'NM_021970.4:c.*3190='}, {'allele': {'spdi': {'seq_id': 'NM_021970.4', 'position': 3694, 'deleted_sequence': 'A', 'inserted_sequence': 'G'}}, 'hgvs': 'NM_021970.4:c.*3190A>G'}], [{'allele': {'spdi': {'seq_id': 'NM_021970.3', 'position': 3813, 'deleted_sequence': 'A', 'inserted_sequence': 'A'}}, 'hgvs': 'NM_021970.3:c.*3190='}, {'allele': {'spdi': {'seq_id': 'NM_021970.3', 'position': 3813, 'deleted_sequence': 'A', 'inserted_sequence': 'G'}}, 'hgvs': 'NM_021970.3:c.*3190A>G'}], [{'allele': {'spdi': {'seq_id': 'NM_001243736.1', 'position': 3792, 'deleted_sequence': 'A', 'inserted_sequence': 'A'}}, 'hgvs': 'NM_001243736.1:c.*3190='}, {'allele': {'spdi': {'seq_id': 'NM_001243736.1', 'position': 3792, 'deleted_sequence': 'A', 'inserted_sequence': 'G'}}, 'hgvs': 'NM_001243736.1:c.*3190A>G'}], [{'allele': {'spdi': {'seq_id': 'NR_024170.1', 'position': 3767, 'deleted_sequence': 'A', 'inserted_sequence': 'A'}}, 'hgvs': 'NR_024170.1:n.3768='}, {'allele': {'spdi': {'seq_id': 'NR_024170.1', 'position': 3767, 'deleted_sequence': 'A', 'inserted_sequence': 'G'}}, 'hgvs': 'NR_024170.1:n.3768A>G'}]], 'gene': ['late endosomal/lysosomal adaptor, MAPK and MTOR activator 3']}, 'Chemical_MESH_C511970': 'M58373', 'DNAMutation_c_1324delC_CorrespondingGene_6535': 'DNAMutation c 1324delC CorrespondingGene 6535', 'Species_7461': 'Apis cerana', 'CellLine_CVCL_K990': ['UKTS9050'], 'DomainMotif_Focus_9606_7003_7004': 'DomainMotif Focus 9606 7003 7004'}\n"
     ]
    }
   ],
   "source": [
    "import requests\n",
    "import xml.etree.ElementTree as ET\n",
    "\n",
    "# Fetch the gene description from NCBI Entrez\n",
    "# Gene_2799940\n",
    "def fetch_entrez_gene(id):\n",
    "    try:\n",
    "        url = \"https://eutils.ncbi.nlm.nih.gov/entrez/eutils/esummary.fcgi\"\n",
    "        params = {\n",
    "            \"db\": \"gene\",\n",
    "            \"id\": id,\n",
    "            \"retmode\": \"json\"\n",
    "        }\n",
    "        response = requests.get(url, params=params)\n",
    "        return response.json()[\"result\"][id][\"description\"] if response.status_code == 200 else None\n",
    "    except Exception as e:\n",
    "        print(f\"An error occurred in fetch_entrez_gene: {e}\")\n",
    "        return None\n",
    "\n",
    "# Fetch the disease name from MESH\n",
    "# Disease_MESH_D001845\n",
    "def fetch_mesh_descriptor(id):\n",
    "    try:\n",
    "        url = f\"https://id.nlm.nih.gov/mesh/lookup/label?resource={id}\"\n",
    "        headers = {\"Accept\": \"application/json\"}\n",
    "        response = requests.get(url, headers=headers)\n",
    "        if response.status_code == 200 and response.json():\n",
    "            return response.json()[0]\n",
    "        else:\n",
    "            return None\n",
    "    except Exception as e:\n",
    "        print(f\"An error occurred in fetch_mesh_descriptor: {e}\")\n",
    "        return None\n",
    "\n",
    "# Fetch the species scientific name from NCBI taxonomy\n",
    "# Species_7461\n",
    "def fetch_ncbi_species(id):\n",
    "    try:\n",
    "        url = f\"https://eutils.ncbi.nlm.nih.gov/entrez/eutils/esummary.fcgi?db=taxonomy&id={id}\"\n",
    "        response = requests.get(url)\n",
    "        if response.status_code == 200:\n",
    "            root = ET.fromstring(response.content)\n",
    "            return root.find('.//Item[@Name=\"ScientificName\"]').text\n",
    "        else:\n",
    "            return None\n",
    "    except Exception as e:\n",
    "        print(f\"An error occurred in fetch_ncbi_species: {e}\")\n",
    "        return None\n",
    "\n",
    "# Fetch the cell line from Cellosaurus\n",
    "# CellLine_CVCL_K990\n",
    "def fetch_cellosaurus(id):\n",
    "    try:\n",
    "        url = f\"https://api.cellosaurus.org/cell-line/{id}\"\n",
    "        response = requests.get(url)\n",
    "        if response.status_code == 200:\n",
    "            return [value['value'] for name in response.json().get('Cellosaurus', {}).get('cell-line-list', []) for value in name.get('name-list', [])]\n",
    "        else:\n",
    "            return None\n",
    "    except Exception as e:\n",
    "        print(f\"An error occurred in fetch_cellosaurus: {e}\")\n",
    "        return None\n",
    "\n",
    "# Fetch the SNP from dbSNP\n",
    "# ProteinMutation_p_R450H_RS_189261858\n",
    "def fetch_dbsnp(rs_id):\n",
    "    try:\n",
    "        url = f\"https://api.ncbi.nlm.nih.gov/variation/v0/beta/refsnp/{rs_id}\"\n",
    "        response = requests.get(url)\n",
    "        if response.status_code == 200:\n",
    "            return parse_dbsnp(response.json())\n",
    "        else:\n",
    "            return None\n",
    "    except Exception as e:\n",
    "        print(f\"An error occurred in fetch_dbsnp: {e}\")\n",
    "        return None\n",
    "\n",
    "# Parse the SNP JSON response\n",
    "def parse_dbsnp(dbsnp_json):\n",
    "    try:\n",
    "        gene_set = set()\n",
    "        for alle_annotation in dbsnp_json.get(\"primary_snapshot_data\", {}).get(\"allele_annotations\", []):\n",
    "            for assembly_annotation in alle_annotation.get(\"assembly_annotation\", []):\n",
    "                for gene in assembly_annotation.get('genes', []):\n",
    "                    gene_set.add(gene.get('name', ''))\n",
    "        \n",
    "        snps_list = []\n",
    "        for placements_with_allele in dbsnp_json.get(\"primary_snapshot_data\", {}).get(\"placements_with_allele\", []):\n",
    "            snps_list.append(placements_with_allele.get('alleles', []))\n",
    "        \n",
    "        return {\n",
    "            \"chromosome\": dbsnp_json.get(\"refsnp_id\", ''),\n",
    "            \"snps\": snps_list,\n",
    "            \"gene\": list(gene_set)\n",
    "        }\n",
    "    except Exception as e:\n",
    "        print(f\"An error occurred in parse_dbsnp: {e}\")\n",
    "        return None\n",
    "\n",
    "# Fetch the concept description\n",
    "def fetch_concept_description(concept_id):\n",
    "    try:\n",
    "        concept_type, identifier = concept_id.split('_', 1)\n",
    "        if concept_type == \"Disease\":\n",
    "            if identifier.startswith(\"MESH\"):\n",
    "                # MESH_D001845 \n",
    "                # Make the identifier just D001845\n",
    "                identifier = identifier[identifier.find('_')+1:]\n",
    "                return fetch_mesh_descriptor(identifier)\n",
    "            else:\n",
    "                # Take everything after Disease and return it as the description without _\n",
    "                # Remove the _ from the identifier\n",
    "                return identifier[identifier.find('_')+1:].replace('_', ' ')\n",
    "        elif concept_type == \"Gene\":\n",
    "            return fetch_entrez_gene(identifier)\n",
    "        elif concept_type == \"Species\":\n",
    "            return fetch_ncbi_species(identifier)\n",
    "        elif concept_type == \"CellLine\":\n",
    "            return fetch_cellosaurus(identifier)\n",
    "        elif concept_type == \"ProteinMutation\":\n",
    "            # Take the last series of numbers as the rs_id. Ex ProteinMutation_p_R450H_RS_189261858\n",
    "            # becomes 189261858\n",
    "            identifier = identifier[identifier.rfind('_')+1:]\n",
    "            return fetch_dbsnp(identifier)\n",
    "        elif concept_type == \"SNP\":\n",
    "            import time\n",
    "            # Wait a second before making the request. This is to avoid hitting the API too hard\n",
    "            time.sleep(1)\n",
    "            # SNP_rs11944405 into 11944405. Remove the rs and return the description\n",
    "            identifier = identifier[2:]\n",
    "            return fetch_dbsnp(identifier)\n",
    "        elif concept_type == \"Chemical\":\n",
    "            # Chemical_MESH_C511970 into C511970\n",
    "            identifier = identifier[identifier.find('_')+1:]\n",
    "            return fetch_mesh_descriptor(identifier)\n",
    "        elif concept_type == \"DNAMutation\":\n",
    "            # DNAMutation_c_1324delC_CorrespondingGene_6535. I'm not sure what to do with this one. Just give it back\n",
    "            # as the description with the underscores removed with the concept type included\n",
    "            return concept_type + ' ' + identifier.replace('_', ' ')\n",
    "        elif concept_type == \"DomainMotif\":\n",
    "            # DomainMotif_Focus_9606_7003_7004. I'm not sure what to do with this one. Just give it back\n",
    "            # as the description with the underscores removed with the concept type included\n",
    "            return concept_type + ' ' + identifier.replace('_', ' ')\n",
    "        else:\n",
    "            return None\n",
    "    except Exception as e:\n",
    "        print(f\"An error occurred in fetch_concept_description: {e}\")\n",
    "        return None\n",
    "\n",
    "# Examples\n",
    "examples = [\n",
    "    'Disease_MESH_D001845',\n",
    "    'Disease_Methanogenic_archaeon_CH1270',\n",
    "    'Gene_2799940',\n",
    "    'ProteinMutation_p_R450H_RS_189261858',\n",
    "    'SNP_rs11944405',\n",
    "    'Chemical_MESH_C511970',\n",
    "    'DNAMutation_c_1324delC_CorrespondingGene_6535',\n",
    "    'Species_7461',\n",
    "    'CellLine_CVCL_K990',\n",
    "    'DomainMotif_Focus_9606_7003_7004'\n",
    "]\n",
    "\n",
    "# Fetch the descriptions\n",
    "concept_descriptions = {concept: fetch_concept_description(concept) for concept in examples}\n",
    "\n",
    "print(concept_descriptions)"
   ]
  },
  {
   "cell_type": "code",
   "execution_count": 18,
   "metadata": {},
   "outputs": [
    {
     "name": "stdout",
     "output_type": "stream",
     "text": [
      "Number of DNA mutation concepts: 2875\n",
      "Some DNA mutation concepts: ['DNAMutation_g_4656G_C', 'DNAMutation_rs1013151', 'DNAMutation_g_4300A_G', 'DNAMutation_g_14106505G_A', 'DNAMutation_g_19518C_T', 'DNAMutation_g_13491C_G_RS_2787094', 'DNAMutation_g_8069C_G_RS_1052133', 'DNAMutation_p_183delK', 'DNAMutation_g_4877G_A', 'DNAMutation_g_20210G_A_CorrespondingGene_5054']\n"
     ]
    }
   ],
   "source": [
    "dna_mutation_concepts = [concept for concept in concept_vectors.keys() if concept.startswith('DNAMutation') and not concept.startswith('DNAMutation_c')]\n",
    "\n",
    "print('Number of DNA mutation concepts:', len(dna_mutation_concepts))\n",
    "print('Some DNA mutation concepts:', dna_mutation_concepts[:10])"
   ]
  },
  {
   "attachments": {},
   "cell_type": "markdown",
   "metadata": {},
   "source": [
    "# Parallelize the mapping process"
   ]
  },
  {
   "cell_type": "code",
   "execution_count": 14,
   "metadata": {},
   "outputs": [
    {
     "name": "stdout",
     "output_type": "stream",
     "text": [
      "{'Disease_MESH_D001845': 'Bone Cysts', 'Disease_Methanogenic_archaeon_CH1270': 'archaeon CH1270', 'Gene_2799940': 'matrix protein M2-1;matrix protein M2-2', 'ProteinMutation_p_R450H_RS_189261858': {'chromosome': '189261858', 'snps': [[{'allele': {'spdi': {'seq_id': 'NC_000014.9', 'position': 81143406, 'deleted_sequence': 'G', 'inserted_sequence': 'G'}}, 'hgvs': 'NC_000014.9:g.81143407='}, {'allele': {'spdi': {'seq_id': 'NC_000014.9', 'position': 81143406, 'deleted_sequence': 'G', 'inserted_sequence': 'A'}}, 'hgvs': 'NC_000014.9:g.81143407G>A'}, {'allele': {'spdi': {'seq_id': 'NC_000014.9', 'position': 81143406, 'deleted_sequence': 'G', 'inserted_sequence': 'C'}}, 'hgvs': 'NC_000014.9:g.81143407G>C'}, {'allele': {'spdi': {'seq_id': 'NC_000014.9', 'position': 81143406, 'deleted_sequence': 'G', 'inserted_sequence': 'T'}}, 'hgvs': 'NC_000014.9:g.81143407G>T'}], [{'allele': {'spdi': {'seq_id': 'NC_000014.8', 'position': 81609750, 'deleted_sequence': 'G', 'inserted_sequence': 'G'}}, 'hgvs': 'NC_000014.8:g.81609751='}, {'allele': {'spdi': {'seq_id': 'NC_000014.8', 'position': 81609750, 'deleted_sequence': 'G', 'inserted_sequence': 'A'}}, 'hgvs': 'NC_000014.8:g.81609751G>A'}, {'allele': {'spdi': {'seq_id': 'NC_000014.8', 'position': 81609750, 'deleted_sequence': 'G', 'inserted_sequence': 'C'}}, 'hgvs': 'NC_000014.8:g.81609751G>C'}, {'allele': {'spdi': {'seq_id': 'NC_000014.8', 'position': 81609750, 'deleted_sequence': 'G', 'inserted_sequence': 'T'}}, 'hgvs': 'NC_000014.8:g.81609751G>T'}], [{'allele': {'spdi': {'seq_id': 'NG_009206.1', 'position': 192882, 'deleted_sequence': 'G', 'inserted_sequence': 'G'}}, 'hgvs': 'NG_009206.1:g.192883='}, {'allele': {'spdi': {'seq_id': 'NG_009206.1', 'position': 192882, 'deleted_sequence': 'G', 'inserted_sequence': 'A'}}, 'hgvs': 'NG_009206.1:g.192883G>A'}, {'allele': {'spdi': {'seq_id': 'NG_009206.1', 'position': 192882, 'deleted_sequence': 'G', 'inserted_sequence': 'C'}}, 'hgvs': 'NG_009206.1:g.192883G>C'}, {'allele': {'spdi': {'seq_id': 'NG_009206.1', 'position': 192882, 'deleted_sequence': 'G', 'inserted_sequence': 'T'}}, 'hgvs': 'NG_009206.1:g.192883G>T'}], [{'allele': {'spdi': {'seq_id': 'NM_000369.5', 'position': 1408, 'deleted_sequence': 'G', 'inserted_sequence': 'G'}}, 'hgvs': 'NM_000369.5:c.1349='}, {'allele': {'spdi': {'seq_id': 'NM_000369.5', 'position': 1408, 'deleted_sequence': 'G', 'inserted_sequence': 'A'}}, 'hgvs': 'NM_000369.5:c.1349G>A'}, {'allele': {'spdi': {'seq_id': 'NM_000369.5', 'position': 1408, 'deleted_sequence': 'G', 'inserted_sequence': 'C'}}, 'hgvs': 'NM_000369.5:c.1349G>C'}, {'allele': {'spdi': {'seq_id': 'NM_000369.5', 'position': 1408, 'deleted_sequence': 'G', 'inserted_sequence': 'T'}}, 'hgvs': 'NM_000369.5:c.1349G>T'}], [{'allele': {'spdi': {'seq_id': 'NM_000369.4', 'position': 1408, 'deleted_sequence': 'G', 'inserted_sequence': 'G'}}, 'hgvs': 'NM_000369.4:c.1349='}, {'allele': {'spdi': {'seq_id': 'NM_000369.4', 'position': 1408, 'deleted_sequence': 'G', 'inserted_sequence': 'A'}}, 'hgvs': 'NM_000369.4:c.1349G>A'}, {'allele': {'spdi': {'seq_id': 'NM_000369.4', 'position': 1408, 'deleted_sequence': 'G', 'inserted_sequence': 'C'}}, 'hgvs': 'NM_000369.4:c.1349G>C'}, {'allele': {'spdi': {'seq_id': 'NM_000369.4', 'position': 1408, 'deleted_sequence': 'G', 'inserted_sequence': 'T'}}, 'hgvs': 'NM_000369.4:c.1349G>T'}], [{'allele': {'spdi': {'seq_id': 'NM_000369.3', 'position': 1408, 'deleted_sequence': 'G', 'inserted_sequence': 'G'}}, 'hgvs': 'NM_000369.3:c.1349='}, {'allele': {'spdi': {'seq_id': 'NM_000369.3', 'position': 1408, 'deleted_sequence': 'G', 'inserted_sequence': 'A'}}, 'hgvs': 'NM_000369.3:c.1349G>A'}, {'allele': {'spdi': {'seq_id': 'NM_000369.3', 'position': 1408, 'deleted_sequence': 'G', 'inserted_sequence': 'C'}}, 'hgvs': 'NM_000369.3:c.1349G>C'}, {'allele': {'spdi': {'seq_id': 'NM_000369.3', 'position': 1408, 'deleted_sequence': 'G', 'inserted_sequence': 'T'}}, 'hgvs': 'NM_000369.3:c.1349G>T'}], [{'allele': {'spdi': {'seq_id': 'NM_000369.2', 'position': 1504, 'deleted_sequence': 'G', 'inserted_sequence': 'G'}}, 'hgvs': 'NM_000369.2:c.1349='}, {'allele': {'spdi': {'seq_id': 'NM_000369.2', 'position': 1504, 'deleted_sequence': 'G', 'inserted_sequence': 'A'}}, 'hgvs': 'NM_000369.2:c.1349G>A'}, {'allele': {'spdi': {'seq_id': 'NM_000369.2', 'position': 1504, 'deleted_sequence': 'G', 'inserted_sequence': 'C'}}, 'hgvs': 'NM_000369.2:c.1349G>C'}, {'allele': {'spdi': {'seq_id': 'NM_000369.2', 'position': 1504, 'deleted_sequence': 'G', 'inserted_sequence': 'T'}}, 'hgvs': 'NM_000369.2:c.1349G>T'}], [{'allele': {'spdi': {'seq_id': 'XM_011537119.3', 'position': 1138, 'deleted_sequence': 'G', 'inserted_sequence': 'G'}}, 'hgvs': 'XM_011537119.3:c.1070='}, {'allele': {'spdi': {'seq_id': 'XM_011537119.3', 'position': 1138, 'deleted_sequence': 'G', 'inserted_sequence': 'A'}}, 'hgvs': 'XM_011537119.3:c.1070G>A'}, {'allele': {'spdi': {'seq_id': 'XM_011537119.3', 'position': 1138, 'deleted_sequence': 'G', 'inserted_sequence': 'C'}}, 'hgvs': 'XM_011537119.3:c.1070G>C'}, {'allele': {'spdi': {'seq_id': 'XM_011537119.3', 'position': 1138, 'deleted_sequence': 'G', 'inserted_sequence': 'T'}}, 'hgvs': 'XM_011537119.3:c.1070G>T'}], [{'allele': {'spdi': {'seq_id': 'XM_011537119.2', 'position': 1449, 'deleted_sequence': 'G', 'inserted_sequence': 'G'}}, 'hgvs': 'XM_011537119.2:c.1070='}, {'allele': {'spdi': {'seq_id': 'XM_011537119.2', 'position': 1449, 'deleted_sequence': 'G', 'inserted_sequence': 'A'}}, 'hgvs': 'XM_011537119.2:c.1070G>A'}, {'allele': {'spdi': {'seq_id': 'XM_011537119.2', 'position': 1449, 'deleted_sequence': 'G', 'inserted_sequence': 'C'}}, 'hgvs': 'XM_011537119.2:c.1070G>C'}, {'allele': {'spdi': {'seq_id': 'XM_011537119.2', 'position': 1449, 'deleted_sequence': 'G', 'inserted_sequence': 'T'}}, 'hgvs': 'XM_011537119.2:c.1070G>T'}], [{'allele': {'spdi': {'seq_id': 'XM_011537119.1', 'position': 1449, 'deleted_sequence': 'G', 'inserted_sequence': 'G'}}, 'hgvs': 'XM_011537119.1:c.1070='}, {'allele': {'spdi': {'seq_id': 'XM_011537119.1', 'position': 1449, 'deleted_sequence': 'G', 'inserted_sequence': 'A'}}, 'hgvs': 'XM_011537119.1:c.1070G>A'}, {'allele': {'spdi': {'seq_id': 'XM_011537119.1', 'position': 1449, 'deleted_sequence': 'G', 'inserted_sequence': 'C'}}, 'hgvs': 'XM_011537119.1:c.1070G>C'}, {'allele': {'spdi': {'seq_id': 'XM_011537119.1', 'position': 1449, 'deleted_sequence': 'G', 'inserted_sequence': 'T'}}, 'hgvs': 'XM_011537119.1:c.1070G>T'}], [{'allele': {'spdi': {'seq_id': 'NP_000360.2', 'position': 449, 'deleted_sequence': 'R', 'inserted_sequence': 'R'}}, 'hgvs': 'NP_000360.2:p.Arg450='}, {'allele': {'spdi': {'seq_id': 'NP_000360.2', 'position': 449, 'deleted_sequence': 'R', 'inserted_sequence': 'H'}}, 'hgvs': 'NP_000360.2:p.Arg450His'}, {'allele': {'spdi': {'seq_id': 'NP_000360.2', 'position': 449, 'deleted_sequence': 'R', 'inserted_sequence': 'P'}}, 'hgvs': 'NP_000360.2:p.Arg450Pro'}, {'allele': {'spdi': {'seq_id': 'NP_000360.2', 'position': 449, 'deleted_sequence': 'R', 'inserted_sequence': 'L'}}, 'hgvs': 'NP_000360.2:p.Arg450Leu'}], [{'allele': {'spdi': {'seq_id': 'XP_011535421.1', 'position': 356, 'deleted_sequence': 'R', 'inserted_sequence': 'R'}}, 'hgvs': 'XP_011535421.1:p.Arg357='}, {'allele': {'spdi': {'seq_id': 'XP_011535421.1', 'position': 356, 'deleted_sequence': 'R', 'inserted_sequence': 'H'}}, 'hgvs': 'XP_011535421.1:p.Arg357His'}, {'allele': {'spdi': {'seq_id': 'XP_011535421.1', 'position': 356, 'deleted_sequence': 'R', 'inserted_sequence': 'P'}}, 'hgvs': 'XP_011535421.1:p.Arg357Pro'}, {'allele': {'spdi': {'seq_id': 'XP_011535421.1', 'position': 356, 'deleted_sequence': 'R', 'inserted_sequence': 'L'}}, 'hgvs': 'XP_011535421.1:p.Arg357Leu'}]], 'gene': ['uncharacterized LOC101928462', 'thyroid stimulating hormone receptor']}, 'SNP_rs11944405': {'chromosome': '11944405', 'snps': [[{'allele': {'spdi': {'seq_id': 'NC_000004.12', 'position': 99878803, 'deleted_sequence': 'T', 'inserted_sequence': 'T'}}, 'hgvs': 'NC_000004.12:g.99878804='}, {'allele': {'spdi': {'seq_id': 'NC_000004.12', 'position': 99878803, 'deleted_sequence': 'T', 'inserted_sequence': 'C'}}, 'hgvs': 'NC_000004.12:g.99878804T>C'}], [{'allele': {'spdi': {'seq_id': 'NC_000004.11', 'position': 100799960, 'deleted_sequence': 'T', 'inserted_sequence': 'T'}}, 'hgvs': 'NC_000004.11:g.100799961='}, {'allele': {'spdi': {'seq_id': 'NC_000004.11', 'position': 100799960, 'deleted_sequence': 'T', 'inserted_sequence': 'C'}}, 'hgvs': 'NC_000004.11:g.100799961T>C'}], [{'allele': {'spdi': {'seq_id': 'NM_021970.4', 'position': 3694, 'deleted_sequence': 'A', 'inserted_sequence': 'A'}}, 'hgvs': 'NM_021970.4:c.*3190='}, {'allele': {'spdi': {'seq_id': 'NM_021970.4', 'position': 3694, 'deleted_sequence': 'A', 'inserted_sequence': 'G'}}, 'hgvs': 'NM_021970.4:c.*3190A>G'}], [{'allele': {'spdi': {'seq_id': 'NM_021970.3', 'position': 3813, 'deleted_sequence': 'A', 'inserted_sequence': 'A'}}, 'hgvs': 'NM_021970.3:c.*3190='}, {'allele': {'spdi': {'seq_id': 'NM_021970.3', 'position': 3813, 'deleted_sequence': 'A', 'inserted_sequence': 'G'}}, 'hgvs': 'NM_021970.3:c.*3190A>G'}], [{'allele': {'spdi': {'seq_id': 'NM_001243736.1', 'position': 3792, 'deleted_sequence': 'A', 'inserted_sequence': 'A'}}, 'hgvs': 'NM_001243736.1:c.*3190='}, {'allele': {'spdi': {'seq_id': 'NM_001243736.1', 'position': 3792, 'deleted_sequence': 'A', 'inserted_sequence': 'G'}}, 'hgvs': 'NM_001243736.1:c.*3190A>G'}], [{'allele': {'spdi': {'seq_id': 'NR_024170.1', 'position': 3767, 'deleted_sequence': 'A', 'inserted_sequence': 'A'}}, 'hgvs': 'NR_024170.1:n.3768='}, {'allele': {'spdi': {'seq_id': 'NR_024170.1', 'position': 3767, 'deleted_sequence': 'A', 'inserted_sequence': 'G'}}, 'hgvs': 'NR_024170.1:n.3768A>G'}]], 'gene': ['late endosomal/lysosomal adaptor, MAPK and MTOR activator 3']}, 'Chemical_MESH_C511970': 'M58373', 'DNAMutation_c_1324delC_CorrespondingGene_6535': 'DNAMutation c 1324delC CorrespondingGene 6535', 'Species_7461': 'Apis cerana', 'CellLine_CVCL_K990': ['UKTS9050'], 'DomainMotif_Focus_9606_7003_7004': 'DomainMotif Focus 9606 7003 7004'}\n"
     ]
    }
   ],
   "source": [
    "import requests\n",
    "import xml.etree.ElementTree as ET\n",
    "from threading import Semaphore, Thread\n",
    "import time\n",
    "\n",
    "# The semaphore to limit the number of simultaneous API calls\n",
    "sem = Semaphore(10)\n",
    "\n",
    "# Fetch the gene description from NCBI Entrez\n",
    "# Gene_2799940\n",
    "def fetch_entrez_gene(id):\n",
    "    try:\n",
    "        with sem:\n",
    "            url = \"https://eutils.ncbi.nlm.nih.gov/entrez/eutils/esummary.fcgi\"\n",
    "            params = {\n",
    "                \"db\": \"gene\",\n",
    "                \"id\": id,\n",
    "                \"retmode\": \"json\"\n",
    "            }\n",
    "            response = requests.get(url, params=params)\n",
    "            return response.json()[\"result\"][id][\"description\"] if response.status_code == 200 else None\n",
    "    except Exception as e:\n",
    "        print(f\"An error occurred in fetch_entrez_gene: {e}\")\n",
    "        return None\n",
    "\n",
    "# Fetch the disease name from MESH\n",
    "# Disease_MESH_D001845\n",
    "def fetch_mesh_descriptor(id):\n",
    "    try:\n",
    "        with sem:\n",
    "            url = f\"https://id.nlm.nih.gov/mesh/lookup/label?resource={id}\"\n",
    "            headers = {\"Accept\": \"application/json\"}\n",
    "            response = requests.get(url, headers=headers)\n",
    "            if response.status_code == 200 and response.json():\n",
    "                return response.json()[0]\n",
    "            else:\n",
    "                return None\n",
    "    except Exception as e:\n",
    "        print(f\"An error occurred in fetch_mesh_descriptor: {e}\")\n",
    "        return None\n",
    "\n",
    "# Fetch the species scientific name from NCBI taxonomy\n",
    "# Species_7461\n",
    "def fetch_ncbi_species(id):\n",
    "    try:\n",
    "        with sem:\n",
    "            url = f\"https://eutils.ncbi.nlm.nih.gov/entrez/eutils/esummary.fcgi?db=taxonomy&id={id}\"\n",
    "            response = requests.get(url)\n",
    "            if response.status_code == 200:\n",
    "                root = ET.fromstring(response.content)\n",
    "                return root.find('.//Item[@Name=\"ScientificName\"]').text\n",
    "            else:\n",
    "                return None\n",
    "    except Exception as e:\n",
    "        print(f\"An error occurred in fetch_ncbi_species: {e}\")\n",
    "        return None\n",
    "\n",
    "# Fetch the cell line from Cellosaurus\n",
    "# CellLine_CVCL_K990\n",
    "def fetch_cellosaurus(id):\n",
    "    try:\n",
    "        with sem:\n",
    "            url = f\"https://api.cellosaurus.org/cell-line/{id}\"\n",
    "            response = requests.get(url)\n",
    "            if response.status_code == 200:\n",
    "                return [value['value'] for name in response.json().get('Cellosaurus', {}).get('cell-line-list', []) for value in name.get('name-list', [])]\n",
    "            else:\n",
    "                return None\n",
    "    except Exception as e:\n",
    "        print(f\"An error occurred in fetch_cellosaurus: {e}\")\n",
    "        return None\n",
    "\n",
    "# Fetch the SNP from dbSNP\n",
    "# ProteinMutation_p_R450H_RS_189261858\n",
    "def fetch_dbsnp(rs_id):\n",
    "    try:\n",
    "        with sem:\n",
    "            url = f\"https://api.ncbi.nlm.nih.gov/variation/v0/beta/refsnp/{rs_id}\"\n",
    "            response = requests.get(url)\n",
    "            if response.status_code == 200:\n",
    "                return parse_dbsnp(response.json())\n",
    "            else:\n",
    "                return None\n",
    "    except Exception as e:\n",
    "        print(f\"An error occurred in fetch_dbsnp: {e}\")\n",
    "        return None\n",
    "\n",
    "# Fetch the concept description\n",
    "def fetch_concept_description(concept_id):\n",
    "    try:\n",
    "        concept_type, identifier = concept_id.split('_', 1)\n",
    "        if concept_type == \"Disease\":\n",
    "            if identifier.startswith(\"MESH\"):\n",
    "                identifier = identifier[identifier.find('_')+1:]\n",
    "                return fetch_mesh_descriptor(identifier)\n",
    "            else:\n",
    "                return identifier[identifier.find('_')+1:].replace('_', ' ')\n",
    "        elif concept_type == \"Gene\":\n",
    "            return fetch_entrez_gene(identifier)\n",
    "        elif concept_type == \"Species\":\n",
    "            return fetch_ncbi_species(identifier)\n",
    "        elif concept_type == \"CellLine\":\n",
    "            return fetch_cellosaurus(identifier)\n",
    "        elif concept_type == \"ProteinMutation\":\n",
    "            identifier = identifier[identifier.rfind('_')+1:]\n",
    "            return fetch_dbsnp(identifier)\n",
    "        elif concept_type == \"SNP\":\n",
    "            time.sleep(0.1)\n",
    "            identifier = identifier[2:]\n",
    "            return fetch_dbsnp(identifier)\n",
    "        elif concept_type == \"Chemical\":\n",
    "            identifier = identifier[identifier.find('_')+1:]\n",
    "            return fetch_mesh_descriptor(identifier)\n",
    "        elif concept_type == \"DNAMutation\":\n",
    "            return concept_type + ' ' + identifier.replace('_', ' ')\n",
    "        elif concept_type == \"DomainMotif\":\n",
    "            return concept_type + ' ' + identifier.replace('_', ' ')\n",
    "        else:\n",
    "            return None\n",
    "    except Exception as e:\n",
    "        print(f\"An error occurred in fetch_concept_description: {e}\")\n",
    "        return None\n",
    "\n",
    "# Examples\n",
    "examples = [\n",
    "    'Disease_MESH_D001845',\n",
    "    'Disease_Methanogenic_archaeon_CH1270',\n",
    "    'Gene_2799940',\n",
    "    'ProteinMutation_p_R450H_RS_189261858',\n",
    "    'SNP_rs11944405',\n",
    "    'Chemical_MESH_C511970',\n",
    "    'DNAMutation_c_1324delC_CorrespondingGene_6535',\n",
    "    'Species_7461',\n",
    "    'CellLine_CVCL_K990',\n",
    "    'DomainMotif_Focus_9606_7003_7004'\n",
    "]\n",
    "\n",
    "# Fetch the descriptions\n",
    "concept_descriptions = {concept: None for concept in examples}\n",
    "\n",
    "threads = []\n",
    "for concept in examples:\n",
    "    t = Thread(target=lambda: concept_descriptions.update({concept: fetch_concept_description(concept)}))\n",
    "    t.start()\n",
    "    threads.append(t)\n",
    "\n",
    "for t in threads:\n",
    "    t.join()\n",
    "\n",
    "print(concept_descriptions)"
   ]
  },
  {
   "cell_type": "code",
   "execution_count": 4,
   "metadata": {},
   "outputs": [],
   "source": [
    "import pickle\n",
    "# Load from pickle file\n",
    "with open('/Users/danielgeorge/Documents/work/ml/bioconceptvec-explorer/bioconceptvec-explorer/datasets/concept_descriptions.pkl', 'rb') as f:\n",
    "    concept_descriptions = pickle.load(f)"
   ]
  },
  {
   "cell_type": "code",
   "execution_count": 5,
   "metadata": {},
   "outputs": [
    {
     "data": {
      "text/plain": [
       "dict_keys(['Disease_MESH_D001845', 'Gene_2799940', 'Gene_3726_54751', 'Disease_MESH_D000652', 'ProteinMutation_p_R450H_RS_189261858', 'ProteinMutation_p_I123V', 'SNP_rs11944405', 'Chemical_MESH_C511970', 'ProteinMutation_p_Q106E', 'Gene_56941_116255', 'SNP_rs12536544', 'Chemical_MESH_C558709', 'Gene_100513670', 'Gene_30244', 'Chemical_MESH_C543977', 'Chemical_MESH_C023449', 'Chemical_MESH_C087010', 'DNAMutation_c_1324delC_CorrespondingGene_6535', 'Chemical_MESH_C504005', 'Gene_3681', 'Chemical_MESH_C011727', 'Chemical_MESH_C022616', 'DNAMutation_c_IVS_1_1G_T', 'Species_7461', 'Species_1552824', 'Chemical_MESH_C006624', 'Chemical_MESH_C514851', 'Gene_34226', 'Gene_830120', 'Gene_432478', 'ProteinMutation_p_R92L', 'Gene_1487604', 'Chemical_MESH_C513512', 'Gene_4595', 'Gene_819725', 'Gene_100052326', 'DNAMutation_c_314T_A', 'Gene_101678238', 'Gene_836092', 'Gene_64157', 'Gene_100304457', 'Gene_100357727', 'Chemical_MESH_C036899', 'Chemical_MESH_C054482', 'Gene_105334726', 'Gene_172661', 'ProteinMutation_p_Q363F', 'Chemical_MESH_C014109', 'Chemical_MESH_C553758', 'Chemical_MESH_C412076', 'ProteinMutation_p_R67K', 'ProteinMutation_p_H291L', 'Chemical_MESH_C037626', 'Gene_397142', 'Gene_102125126', 'Chemical_MESH_C087550', 'DNAMutation_c_1AC_TG', 'Chemical_MESH_C476086', 'Gene_64507', 'ProteinMutation_p_E344K', 'Chemical_MESH_C479843', 'ProteinMutation_p_M207L', 'Gene_107831434', 'Gene_2193899', 'SNP_rs41308230', 'Chemical_MESH_C027712', 'Gene_281351', 'SNP_rs2546620', 'DNAMutation_c_81T_C_RS_12628', 'Gene_4864_10577', 'Chemical_MESH_C115703', 'Gene_427635', 'Gene_18803_234779', 'Gene_39596', 'Chemical_MESH_C061330', 'Chemical_MESH_C513707', 'Chemical_MESH_C467078', 'DNAMutation_c_732A_C_RS_45451393', 'DNAMutation_g_4656G_C', 'DNAMutation_c_1316G_A_RS_756467921', 'ProteinMutation_p_S1972A', 'Chemical_MESH_C113055', 'Gene_574496', 'Chemical_MESH_C103483', 'Chemical_MESH_C432307', 'ProteinMutation_p_S377A', 'Chemical_MESH_C047117', 'Chemical_MESH_C101781', 'DNAMutation_c_1887T_G', 'Gene_23727', 'Chemical_MESH_C019309', 'Gene_6199', 'Disease_MESH_D016724', 'ProteinMutation_p_G126V', 'Gene_31700', 'SNP_rs1801516', 'Gene_282116', 'Gene_2636288', 'ProteinMutation_p_N279K', 'ProteinMutation_p_T484S_RS_757591414'])"
      ]
     },
     "execution_count": 5,
     "metadata": {},
     "output_type": "execute_result"
    }
   ],
   "source": [
    "concept_descriptions.keys()#['Disease_MESH_D001845']"
   ]
  },
  {
   "cell_type": "code",
   "execution_count": 6,
   "metadata": {},
   "outputs": [
    {
     "data": {
      "text/plain": [
       "{'Disease_MESH_D001845': 'Bone Cysts',\n",
       " 'Gene_2799940': 'matrix protein M2-1;matrix protein M2-2',\n",
       " 'Gene_3726_54751': 'JunB proto-oncogene, AP-1 transcription factor subunit',\n",
       " 'Disease_MESH_D000652': 'Amniotic Band Syndrome',\n",
       " 'ProteinMutation_p_R450H_RS_189261858': ['thyroid stimulating hormone receptor',\n",
       "  'uncharacterized LOC101928462'],\n",
       " 'ProteinMutation_p_I123V': 'ProteinMutation I123V',\n",
       " 'SNP_rs11944405': ['late endosomal/lysosomal adaptor, MAPK and MTOR activator 3'],\n",
       " 'Chemical_MESH_C511970': 'M58373',\n",
       " 'ProteinMutation_p_Q106E': 'ProteinMutation Q106E',\n",
       " 'Gene_56941_116255': '5-hydroxymethylcytosine binding, ES cell specific',\n",
       " 'SNP_rs12536544': ['Rac family small GTPase 1'],\n",
       " 'Chemical_MESH_C558709': '16-(4-(3-(imidazol-1-yl)propoxy)-3-methoxybenzylidene)-5-androstene-3b,17b-diol',\n",
       " 'Gene_100513670': 'non-SMC condensin I complex subunit G',\n",
       " 'Gene_30244': None,\n",
       " 'Chemical_MESH_C543977': 'wogonin-5-0-beta-D-glucuronide methyl ester',\n",
       " 'Chemical_MESH_C023449': 'tizolemide',\n",
       " 'Chemical_MESH_C087010': '2-succinyl-6-hydroxycyclohexa-2,4-diene-1-carboxylic acid',\n",
       " 'DNAMutation_c_1324delC_CorrespondingGene_6535': 'DNAMutation c 1324delC CorrespondingGene 6535',\n",
       " 'Chemical_MESH_C504005': 'cyclo(-6)-glucpyranosyl-1-3-glucopyranosyl-1-6-glucopyranosyl-1-3-glucopyranosyl-1-4-glucopyranosyl-(1-)',\n",
       " 'Gene_3681': 'integrin subunit alpha D',\n",
       " 'Chemical_MESH_C011727': 'chromium hexacarbonyl',\n",
       " 'Chemical_MESH_C022616': 'thiazolyl blue',\n",
       " 'DNAMutation_c_IVS_1_1G_T': 'DNAMutation c IVS 1 1G T',\n",
       " 'Species_7461': 'Apis cerana',\n",
       " 'Species_1552824': None,\n",
       " 'Chemical_MESH_C006624': 'arcaine',\n",
       " 'Chemical_MESH_C514851': 'N(a)-methylakuammidine',\n",
       " 'Gene_34226': 'Trypsin 29F',\n",
       " 'Gene_830120': 'alanine:glyoxylate aminotransferase 2',\n",
       " 'Gene_432478': None,\n",
       " 'ProteinMutation_p_R92L': 'ProteinMutation R92L',\n",
       " 'Gene_1487604': None,\n",
       " 'Chemical_MESH_C513512': 'suberosanone',\n",
       " 'Gene_4595': 'mutY DNA glycosylase',\n",
       " 'Gene_819725': None,\n",
       " 'Gene_100052326': 'Fas ligand',\n",
       " 'DNAMutation_c_314T_A': 'DNAMutation c 314T A',\n",
       " 'Gene_101678238': None,\n",
       " 'Gene_836092': None,\n",
       " 'Gene_64157': None,\n",
       " 'Gene_100304457': 'SRY-box transcription factor 32',\n",
       " 'Gene_100357727': 'leukotriene A4 hydrolase',\n",
       " 'Chemical_MESH_C036899': 'N-methylprotoporphyrin dimethyl ester',\n",
       " 'Chemical_MESH_C054482': \"2,3',4,4'-tetrachlorobiphenyl\",\n",
       " 'Gene_105334726': 'calmodulin',\n",
       " 'Gene_172661': None,\n",
       " 'ProteinMutation_p_Q363F': 'ProteinMutation Q363F',\n",
       " 'Chemical_MESH_C014109': 'thyrotropin-releasing hormone, 3-Me-',\n",
       " 'Chemical_MESH_C553758': 'p-sulfonatocalix(5)arene',\n",
       " 'Chemical_MESH_C412076': '6,12-dihydroxyabieta-5,8,11,13-tetraen-7-one',\n",
       " 'ProteinMutation_p_R67K': 'ProteinMutation R67K',\n",
       " 'ProteinMutation_p_H291L': 'ProteinMutation H291L',\n",
       " 'Chemical_MESH_C037626': \"3'-O-methylguanosine\",\n",
       " 'Gene_397142': 'SMAD family member 4',\n",
       " 'Gene_102125126': 'thyroid peroxidase',\n",
       " 'Chemical_MESH_C087550': '3-(4-(1,2-diphenylbut-1-enyl)phenyl)acrylic acid',\n",
       " 'DNAMutation_c_1AC_TG': 'DNAMutation c 1AC TG',\n",
       " 'Chemical_MESH_C476086': 'prefuroplocamioid',\n",
       " 'Gene_64507': None,\n",
       " 'ProteinMutation_p_E344K': 'ProteinMutation E344K',\n",
       " 'Chemical_MESH_C479843': '3alpha-hydroxyilicic acid',\n",
       " 'ProteinMutation_p_M207L': 'ProteinMutation M207L',\n",
       " 'Gene_107831434': '1-aminocyclopropane-1-carboxylate synthase',\n",
       " 'Gene_2193899': 'cytochrome b',\n",
       " 'SNP_rs41308230': ['toll like receptor 9'],\n",
       " 'Chemical_MESH_C027712': 'butobarbital',\n",
       " 'Gene_281351': 'N-myristoyltransferase 1',\n",
       " 'SNP_rs2546620': ['gamma-aminobutyric acid type A receptor subunit beta2'],\n",
       " 'DNAMutation_c_81T_C_RS_12628': 'DNAMutation c 81T C RS 12628',\n",
       " 'Gene_4864_10577': None,\n",
       " 'Chemical_MESH_C115703': 'SP 5186',\n",
       " 'Gene_427635': 'histamine receptor H2',\n",
       " 'Gene_18803_234779': 'phospholipase C, gamma 1',\n",
       " 'Gene_39596': 'dally-like',\n",
       " 'Chemical_MESH_C061330': 'tert-butylthiol',\n",
       " 'Chemical_MESH_C513707': 'Isopast',\n",
       " 'Chemical_MESH_C467078': '1,4-dideoxy-1,4-imino-xylitol',\n",
       " 'DNAMutation_c_732A_C_RS_45451393': 'DNAMutation c 732A C RS 45451393',\n",
       " 'DNAMutation_g_4656G_C': 'DNAMutation g 4656G C',\n",
       " 'DNAMutation_c_1316G_A_RS_756467921': 'DNAMutation c 1316G A RS 756467921',\n",
       " 'ProteinMutation_p_S1972A': 'ProteinMutation S1972A',\n",
       " 'Chemical_MESH_C113055': 'CGS 31447',\n",
       " 'Gene_574496': 'microRNA 519a-1',\n",
       " 'Chemical_MESH_C103483': 'VE 13045',\n",
       " 'Chemical_MESH_C432307': 'isorhapontigenin',\n",
       " 'ProteinMutation_p_S377A': 'ProteinMutation S377A',\n",
       " 'Chemical_MESH_C047117': 'bicinchoninic acid',\n",
       " 'Chemical_MESH_C101781': 'spirotryprostatin B',\n",
       " 'DNAMutation_c_1887T_G': 'DNAMutation c 1887T G',\n",
       " 'Gene_23727': 'cystic fibrosis modifier 2',\n",
       " 'Chemical_MESH_C019309': 'cyanuric chloride',\n",
       " 'Gene_6199': 'ribosomal protein S6 kinase B2',\n",
       " 'Disease_MESH_D016724': 'Empyema, Pleural',\n",
       " 'ProteinMutation_p_G126V': 'ProteinMutation G126V',\n",
       " 'Gene_31700': 'Ribosomal protein S6',\n",
       " 'SNP_rs1801516': ['ATM serine/threonine kinase'],\n",
       " 'Gene_282116': 'vesicle associated membrane protein 2',\n",
       " 'Gene_2636288': 'host nuclease inhibitor',\n",
       " 'ProteinMutation_p_N279K': 'ProteinMutation N279K',\n",
       " 'ProteinMutation_p_T484S_RS_757591414': ['chloride voltage-gated channel 1']}"
      ]
     },
     "execution_count": 6,
     "metadata": {},
     "output_type": "execute_result"
    }
   ],
   "source": [
    "concept_descriptions"
   ]
  }
 ],
 "metadata": {
  "kernelspec": {
   "display_name": "base",
   "language": "python",
   "name": "python3"
  },
  "language_info": {
   "codemirror_mode": {
    "name": "ipython",
    "version": 3
   },
   "file_extension": ".py",
   "mimetype": "text/x-python",
   "name": "python",
   "nbconvert_exporter": "python",
   "pygments_lexer": "ipython3",
   "version": "3.9.15"
  },
  "orig_nbformat": 4
 },
 "nbformat": 4,
 "nbformat_minor": 2
}
