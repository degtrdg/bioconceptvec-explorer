{
 "cells": [
  {
   "attachments": {},
   "cell_type": "markdown",
   "metadata": {},
   "source": [
    "# Dataset Download"
   ]
  },
  {
   "attachments": {},
   "cell_type": "markdown",
   "metadata": {},
   "source": [
    "Download, unzip, and place in previous directory. Call it `datasets`.\n",
    "https://download-directory.github.io/?url=https%3A%2F%2Fgithub.com%2Fncbi%2FBioConceptVec%2Ftree%2Fmaster%2Fdatasets"
   ]
  },
  {
   "attachments": {},
   "cell_type": "markdown",
   "metadata": {},
   "source": [
    "Four directories:\n",
    "\n",
    "drug_drug_interactions,\n",
    "drug_gene_interactions,\n",
    "gene_gene_interactions,\n",
    "protein_protein_interactions"
   ]
  },
  {
   "attachments": {},
   "cell_type": "markdown",
   "metadata": {},
   "source": [
    "Download embeddings:\n",
    "1. **BioConceptVec cbow:** [embedding](https://ftp.ncbi.nlm.nih.gov/pub/lu/BioConceptVec/bioconceptvec_word2vec_cbow.bin) (2.4GB) and [concept-only](https://ftp.ncbi.nlm.nih.gov/pub/lu/BioConceptVec/concept_cbow.json) (798MB).\n",
    "2. **BioConceptVec skip-gram:** [embedding](https://ftp.ncbi.nlm.nih.gov/pub/lu/BioConceptVec/bioconceptvec_word2vec_skipgram.bin) (2.4GB) and [concept-only](https://ftp.ncbi.nlm.nih.gov/pub/lu/BioConceptVec/concept_skip.json) (812MB).\n",
    "3. **BioConceptVec glove:** [embedding](https://ftp.ncbi.nlm.nih.gov/pub/lu/BioConceptVec/bioconceptvec_glove.bin) (2.4GB) and [concept-only](https://ftp.ncbi.nlm.nih.gov/pub/lu/BioConceptVec/concept_glove.json) (835MB).\n",
    "4. **BioConceptVec fastText:** [embedding](https://ftp.ncbi.nlm.nih.gov/pub/lu/BioConceptVec/bioconceptvec_fasttext.bin) (2.4GB) and [concept-only](https://ftp.ncbi.nlm.nih.gov/pub/lu/BioConceptVec/concept_fast.json) (813MB)."
   ]
  },
  {
   "cell_type": "code",
   "execution_count": 4,
   "metadata": {},
   "outputs": [
    {
     "name": "stdout",
     "output_type": "stream",
     "text": [
      "zsh:1: is a directory: ../embeddings\n"
     ]
    }
   ],
   "source": [
    "# Make directory embeddings in ../\n",
    "!mkdir ../embeddings"
   ]
  },
  {
   "attachments": {},
   "cell_type": "markdown",
   "metadata": {},
   "source": [
    "Download the embeddings and place them in the `embeddings` directory."
   ]
  },
  {
   "cell_type": "code",
   "execution_count": 6,
   "metadata": {},
   "outputs": [
    {
     "name": "stdout",
     "output_type": "stream",
     "text": [
      "--2023-05-27 06:41:56--  https://ftp.ncbi.nlm.nih.gov/pub/lu/BioConceptVec/bioconceptvec_glove.bin\n",
      "Resolving ftp.ncbi.nlm.nih.gov (ftp.ncbi.nlm.nih.gov)... 130.14.250.13, 165.112.9.228\n",
      "Connecting to ftp.ncbi.nlm.nih.gov (ftp.ncbi.nlm.nih.gov)|130.14.250.13|:443... connected.\n",
      "HTTP request sent, awaiting response... 200 OK\n",
      "Length: 2599454842 (2.4G) [application/octet-stream]\n",
      "Saving to: ‘bioconceptvec_glove.bin’\n",
      "\n",
      "bioconceptvec_glove 100%[===================>]   2.42G  10.6MB/s    in 4m 45s  \n",
      "\n",
      "2023-05-27 06:46:41 (8.71 MB/s) - ‘bioconceptvec_glove.bin’ saved [2599454842/2599454842]\n",
      "\n"
     ]
    }
   ],
   "source": [
    "# Download BioConceptVec embeddings\n",
    "!wget https://ftp.ncbi.nlm.nih.gov/pub/lu/BioConceptVec/bioconceptvec_glove.bin "
   ]
  },
  {
   "cell_type": "code",
   "execution_count": 7,
   "metadata": {},
   "outputs": [],
   "source": [
    "!mv bioconceptvec_glove.bin ../embeddings"
   ]
  },
  {
   "attachments": {},
   "cell_type": "markdown",
   "metadata": {},
   "source": [
    "Download concept-only"
   ]
  },
  {
   "cell_type": "code",
   "execution_count": 8,
   "metadata": {},
   "outputs": [
    {
     "name": "stdout",
     "output_type": "stream",
     "text": [
      "--2023-05-27 06:51:18--  https://ftp.ncbi.nlm.nih.gov/pub/lu/BioConceptVec/concept_glove.json\n",
      "Resolving ftp.ncbi.nlm.nih.gov (ftp.ncbi.nlm.nih.gov)... 165.112.9.230, 165.112.9.228\n",
      "Connecting to ftp.ncbi.nlm.nih.gov (ftp.ncbi.nlm.nih.gov)|165.112.9.230|:443... connected.\n",
      "HTTP request sent, awaiting response... 200 OK\n",
      "Length: 875517426 (835M) [application/json]\n",
      "Saving to: ‘concept_glove.json’\n",
      "\n",
      "concept_glove.json  100%[===================>] 834.96M  9.42MB/s    in 72s     \n",
      "\n",
      "2023-05-27 06:52:30 (11.6 MB/s) - ‘concept_glove.json’ saved [875517426/875517426]\n",
      "\n"
     ]
    }
   ],
   "source": [
    "# Download BioConceptVec embeddings concept-only\n",
    "!wget https://ftp.ncbi.nlm.nih.gov/pub/lu/BioConceptVec/concept_glove.json"
   ]
  },
  {
   "cell_type": "code",
   "execution_count": null,
   "metadata": {},
   "outputs": [],
   "source": [
    "!mv concept_glove.json ../embeddings"
   ]
  },
  {
   "attachments": {},
   "cell_type": "markdown",
   "metadata": {},
   "source": [
    "What does `concept-only` mean?\n",
    "- https://ftp.ncbi.nlm.nih.gov/pub/lu/BioConceptVec/concept_glove.json"
   ]
  }
 ],
 "metadata": {
  "kernelspec": {
   "display_name": "base",
   "language": "python",
   "name": "python3"
  },
  "language_info": {
   "codemirror_mode": {
    "name": "ipython",
    "version": 3
   },
   "file_extension": ".py",
   "mimetype": "text/x-python",
   "name": "python",
   "nbconvert_exporter": "python",
   "pygments_lexer": "ipython3",
   "version": "3.9.15"
  },
  "orig_nbformat": 4
 },
 "nbformat": 4,
 "nbformat_minor": 2
}
