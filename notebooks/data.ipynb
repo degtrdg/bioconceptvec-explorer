{
 "cells": [
  {
   "attachments": {},
   "cell_type": "markdown",
   "metadata": {},
   "source": [
    "# Dataset Download"
   ]
  },
  {
   "attachments": {},
   "cell_type": "markdown",
   "metadata": {},
   "source": [
    "Download, unzip, and place in previous directory. Call it `datasets`.\n",
    "https://download-directory.github.io/?url=https%3A%2F%2Fgithub.com%2Fncbi%2FBioConceptVec%2Ftree%2Fmaster%2Fdatasets"
   ]
  },
  {
   "attachments": {},
   "cell_type": "markdown",
   "metadata": {},
   "source": [
    "Four directories:\n",
    "\n",
    "drug_drug_interactions,\n",
    "drug_gene_interactions,\n",
    "gene_gene_interactions,\n",
    "protein_protein_interactions"
   ]
  },
  {
   "attachments": {},
   "cell_type": "markdown",
   "metadata": {},
   "source": [
    "Download embeddings:\n",
    "1. **BioConceptVec cbow:** [embedding](https://ftp.ncbi.nlm.nih.gov/pub/lu/BioConceptVec/bioconceptvec_word2vec_cbow.bin) (2.4GB) and [concept-only](https://ftp.ncbi.nlm.nih.gov/pub/lu/BioConceptVec/concept_cbow.json) (798MB).\n",
    "2. **BioConceptVec skip-gram:** [embedding](https://ftp.ncbi.nlm.nih.gov/pub/lu/BioConceptVec/bioconceptvec_word2vec_skipgram.bin) (2.4GB) and [concept-only](https://ftp.ncbi.nlm.nih.gov/pub/lu/BioConceptVec/concept_skip.json) (812MB).\n",
    "3. **BioConceptVec glove:** [embedding](https://ftp.ncbi.nlm.nih.gov/pub/lu/BioConceptVec/bioconceptvec_glove.bin) (2.4GB) and [concept-only](https://ftp.ncbi.nlm.nih.gov/pub/lu/BioConceptVec/concept_glove.json) (835MB).\n",
    "4. **BioConceptVec fastText:** [embedding](https://ftp.ncbi.nlm.nih.gov/pub/lu/BioConceptVec/bioconceptvec_fasttext.bin) (2.4GB) and [concept-only](https://ftp.ncbi.nlm.nih.gov/pub/lu/BioConceptVec/concept_fast.json) (813MB)."
   ]
  },
  {
   "cell_type": "code",
   "execution_count": 1,
   "metadata": {},
   "outputs": [],
   "source": [
    "# Make directory embeddings in ../\n",
    "!mkdir ../embeddings"
   ]
  },
  {
   "attachments": {},
   "cell_type": "markdown",
   "metadata": {},
   "source": [
    "Download the embeddings and place them in the `embeddings` directory."
   ]
  },
  {
   "cell_type": "code",
   "execution_count": 2,
   "metadata": {},
   "outputs": [
    {
     "name": "stdout",
     "output_type": "stream",
     "text": [
      "--2023-05-28 18:45:37--  https://ftp.ncbi.nlm.nih.gov/pub/lu/BioConceptVec/bioconceptvec_glove.bin\n",
      "Resolving ftp.ncbi.nlm.nih.gov (ftp.ncbi.nlm.nih.gov)... 130.14.250.13, 165.112.9.228\n",
      "Connecting to ftp.ncbi.nlm.nih.gov (ftp.ncbi.nlm.nih.gov)|130.14.250.13|:443... connected.\n",
      "HTTP request sent, awaiting response... 200 OK\n",
      "Length: 2599454842 (2.4G) [application/octet-stream]\n",
      "Saving to: ‘bioconceptvec_glove.bin’\n",
      "\n",
      "bioconceptvec_glove  55%[==========>         ]   1.33G  5.65MB/s    eta 2m 50s ^C\n"
     ]
    }
   ],
   "source": [
    "# Download BioConceptVec embeddings\n",
    "!wget https://ftp.ncbi.nlm.nih.gov/pub/lu/BioConceptVec/bioconceptvec_glove.bin "
   ]
  },
  {
   "cell_type": "code",
   "execution_count": null,
   "metadata": {},
   "outputs": [],
   "source": [
    "!mv bioconceptvec_glove.bin ../embeddings"
   ]
  },
  {
   "attachments": {},
   "cell_type": "markdown",
   "metadata": {},
   "source": [
    "Download concept-only"
   ]
  },
  {
   "cell_type": "code",
   "execution_count": 3,
   "metadata": {},
   "outputs": [
    {
     "name": "stdout",
     "output_type": "stream",
     "text": [
      "--2023-05-28 18:49:17--  https://ftp.ncbi.nlm.nih.gov/pub/lu/BioConceptVec/concept_glove.json\n",
      "Resolving ftp.ncbi.nlm.nih.gov (ftp.ncbi.nlm.nih.gov)... 165.112.9.228, 130.14.250.13\n",
      "Connecting to ftp.ncbi.nlm.nih.gov (ftp.ncbi.nlm.nih.gov)|165.112.9.228|:443... connected.\n",
      "HTTP request sent, awaiting response... 200 OK\n",
      "Length: 875517426 (835M) [application/json]\n",
      "Saving to: ‘concept_glove.json’\n",
      "\n",
      "concept_glove.json  100%[===================>] 834.96M  7.85MB/s    in 1m 57s  \n",
      "\n",
      "2023-05-28 18:51:14 (7.14 MB/s) - ‘concept_glove.json’ saved [875517426/875517426]\n",
      "\n"
     ]
    }
   ],
   "source": [
    "# Download BioConceptVec embeddings concept-only\n",
    "!wget https://ftp.ncbi.nlm.nih.gov/pub/lu/BioConceptVec/concept_glove.json"
   ]
  },
  {
   "cell_type": "code",
   "execution_count": 4,
   "metadata": {},
   "outputs": [],
   "source": [
    "!mv concept_glove.json ../embeddings"
   ]
  },
  {
   "attachments": {},
   "cell_type": "markdown",
   "metadata": {},
   "source": [
    "What does `concept-only` mean?\n",
    "- https://ftp.ncbi.nlm.nih.gov/pub/lu/BioConceptVec/concept_glove.json"
   ]
  },
  {
   "attachments": {},
   "cell_type": "markdown",
   "metadata": {},
   "source": [
    "# PubTator Mapping"
   ]
  },
  {
   "cell_type": "code",
   "execution_count": 8,
   "metadata": {},
   "outputs": [
    {
     "name": "stdout",
     "output_type": "stream",
     "text": [
      "--2023-05-29 11:35:08--  https://ftp.ncbi.nlm.nih.gov/pub/lu/PubTatorCentral/bioconcepts2pubtatorcentral.gz\n",
      "Resolving ftp.ncbi.nlm.nih.gov (ftp.ncbi.nlm.nih.gov)... 165.112.9.230, 130.14.250.7\n",
      "Connecting to ftp.ncbi.nlm.nih.gov (ftp.ncbi.nlm.nih.gov)|165.112.9.230|:443... connected.\n",
      "HTTP request sent, awaiting response... 200 OK\n",
      "Length: 5707678655 (5.3G) [application/x-gzip]\n",
      "Saving to: ‘bioconcepts2pubtatorcentral.gz’\n",
      "\n",
      "bioconcepts2pubtato 100%[===================>]   5.32G  7.27MB/s    in 9m 5s   \n",
      "\n",
      "2023-05-29 11:44:14 (9.98 MB/s) - ‘bioconcepts2pubtatorcentral.gz’ saved [5707678655/5707678655]\n",
      "\n"
     ]
    }
   ],
   "source": [
    "# Download pubtator mappings from https://ftp.ncbi.nlm.nih.gov/pub/lu/PubTatorCentral/bioconcepts2pubtatorcentral.gz and save it in ../datasets\n",
    "!wget https://ftp.ncbi.nlm.nih.gov/pub/lu/PubTatorCentral/bioconcepts2pubtatorcentral.gz"
   ]
  },
  {
   "cell_type": "code",
   "execution_count": 9,
   "metadata": {},
   "outputs": [],
   "source": [
    "# Extract the file\n",
    "!gunzip bioconcepts2pubtatorcentral.gz"
   ]
  },
  {
   "cell_type": "code",
   "execution_count": 10,
   "metadata": {},
   "outputs": [],
   "source": [
    "# Move the file to datasets\n",
    "!mv bioconcepts2pubtatorcentral ../datasets/bioconcepts2pubtatorcentral"
   ]
  },
  {
   "cell_type": "code",
   "execution_count": null,
   "metadata": {},
   "outputs": [],
   "source": [
    "import gzip\n",
    "\n",
    "# Load the gene-to-PubTator mapping into a dictionary\n",
    "def load_gene_mapping():\n",
    "    gene_mapping = {}\n",
    "    with gzip.open(\"gene2pubtator.gz\", \"rt\") as mapping_file:\n",
    "        for line in mapping_file:\n",
    "            parts = line.strip().split(\"\\t\")\n",
    "            gene_id = parts[1]\n",
    "            gene_name = parts[2]\n",
    "            gene_mapping[gene_id] = gene_name\n",
    "    return gene_mapping\n",
    "\n",
    "# Convert PubTator ID to gene name\n",
    "def pubtator_id_to_gene_name(pubtator_id):\n",
    "    gene_mapping = load_gene_mapping()\n",
    "    if pubtator_id in gene_mapping:\n",
    "        return gene_mapping[pubtator_id]\n",
    "    else:\n",
    "        return None\n",
    "\n",
    "# Convert gene name to PubTator ID\n",
    "def gene_name_to_pubtator_id(gene_name):\n",
    "    gene_mapping = load_gene_mapping()\n",
    "    for gene_id, name in gene_mapping.items():\n",
    "        if name.lower() == gene_name.lower():\n",
    "            return gene_id\n",
    "    return None\n",
    "\n",
    "# Example usage\n",
    "pubtator_id = \"12345\"\n",
    "gene_name = pubtator_id_to_gene_name(pubtator_id)\n",
    "print(\"PubTator ID:\", pubtator_id)\n",
    "print(\"Gene Name:\", gene_name)\n",
    "\n",
    "gene = \"BRCA1\"\n",
    "pubtator_id = gene_name_to_pubtator_id(gene)\n",
    "print(\"Gene Name:\", gene)\n",
    "print(\"PubTator ID:\", pubtator_id)"
   ]
  }
 ],
 "metadata": {
  "kernelspec": {
   "display_name": "base",
   "language": "python",
   "name": "python3"
  },
  "language_info": {
   "codemirror_mode": {
    "name": "ipython",
    "version": 3
   },
   "file_extension": ".py",
   "mimetype": "text/x-python",
   "name": "python",
   "nbconvert_exporter": "python",
   "pygments_lexer": "ipython3",
   "version": "3.9.15"
  },
  "orig_nbformat": 4
 },
 "nbformat": 4,
 "nbformat_minor": 2
}
